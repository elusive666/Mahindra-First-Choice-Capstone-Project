{
 "cells": [
  {
   "cell_type": "code",
   "execution_count": 117,
   "metadata": {},
   "outputs": [],
   "source": [
    "import pandas as pd\n",
    "import numpy as np"
   ]
  },
  {
   "cell_type": "code",
   "execution_count": 118,
   "metadata": {},
   "outputs": [],
   "source": [
    "#Load Plant Data - Remove duplicate and Null Columns\n",
    "plant_full_data = pd.read_excel('./Data/Plant Master.xlsx')"
   ]
  },
  {
   "cell_type": "code",
   "execution_count": 119,
   "metadata": {},
   "outputs": [
    {
     "data": {
      "text/html": [
       "<div>\n",
       "<style scoped>\n",
       "    .dataframe tbody tr th:only-of-type {\n",
       "        vertical-align: middle;\n",
       "    }\n",
       "\n",
       "    .dataframe tbody tr th {\n",
       "        vertical-align: top;\n",
       "    }\n",
       "\n",
       "    .dataframe thead th {\n",
       "        text-align: right;\n",
       "    }\n",
       "</style>\n",
       "<table border=\"1\" class=\"dataframe\">\n",
       "  <thead>\n",
       "    <tr style=\"text-align: right;\">\n",
       "      <th></th>\n",
       "      <th>Plant</th>\n",
       "      <th>Name 1</th>\n",
       "      <th>Valuation Area</th>\n",
       "      <th>Customer no. - plant</th>\n",
       "      <th>Vendor number plant</th>\n",
       "      <th>Factory calendar</th>\n",
       "      <th>Name 2</th>\n",
       "      <th>House number and street</th>\n",
       "      <th>PO Box</th>\n",
       "      <th>Postal Code</th>\n",
       "      <th>City</th>\n",
       "      <th>Sales organization</th>\n",
       "      <th>State</th>\n",
       "    </tr>\n",
       "  </thead>\n",
       "  <tbody>\n",
       "    <tr>\n",
       "      <th>0</th>\n",
       "      <td>BC07</td>\n",
       "      <td>NERKUNDRAM</td>\n",
       "      <td>BC07</td>\n",
       "      <td>PLBC07</td>\n",
       "      <td>PLBC07</td>\n",
       "      <td>IN</td>\n",
       "      <td>NaN</td>\n",
       "      <td>No.117 Poonamallee High Road,</td>\n",
       "      <td>600107.0</td>\n",
       "      <td>600107</td>\n",
       "      <td>Chennai</td>\n",
       "      <td>MFCS</td>\n",
       "      <td>Tamil Nadu</td>\n",
       "    </tr>\n",
       "    <tr>\n",
       "      <th>1</th>\n",
       "      <td>BC30</td>\n",
       "      <td>SAS NAGAR - MOHALI</td>\n",
       "      <td>BC30</td>\n",
       "      <td>PLBC30</td>\n",
       "      <td>PLBC30</td>\n",
       "      <td>IN</td>\n",
       "      <td>NaN</td>\n",
       "      <td>C-118, Phase 07,</td>\n",
       "      <td>160055.0</td>\n",
       "      <td>160055</td>\n",
       "      <td>Mohali</td>\n",
       "      <td>MFCS</td>\n",
       "      <td>Punjab</td>\n",
       "    </tr>\n",
       "    <tr>\n",
       "      <th>2</th>\n",
       "      <td>X001</td>\n",
       "      <td>X001 - AUTO PLANET WHEELS</td>\n",
       "      <td>X001</td>\n",
       "      <td>PLX001</td>\n",
       "      <td>NaN</td>\n",
       "      <td>IN</td>\n",
       "      <td>Thane</td>\n",
       "      <td>Unit No.3, Kothari Compound,</td>\n",
       "      <td>400610.0</td>\n",
       "      <td>400610</td>\n",
       "      <td>Thane</td>\n",
       "      <td>MFCA</td>\n",
       "      <td>Maharashtra</td>\n",
       "    </tr>\n",
       "    <tr>\n",
       "      <th>3</th>\n",
       "      <td>X002</td>\n",
       "      <td>X002 - BHANDARI INDUSTRIES PVT</td>\n",
       "      <td>X002</td>\n",
       "      <td>PLX002</td>\n",
       "      <td>NaN</td>\n",
       "      <td>IN</td>\n",
       "      <td>Ghaziabad</td>\n",
       "      <td>18/1, C Site 4, Sahibabad</td>\n",
       "      <td>201010.0</td>\n",
       "      <td>201010</td>\n",
       "      <td>Ghaziabad</td>\n",
       "      <td>MFCA</td>\n",
       "      <td>Uttar Pradesh</td>\n",
       "    </tr>\n",
       "    <tr>\n",
       "      <th>4</th>\n",
       "      <td>X003</td>\n",
       "      <td>X003 - Om Sri Satya Sai Automo</td>\n",
       "      <td>X003</td>\n",
       "      <td>PLX003</td>\n",
       "      <td>NaN</td>\n",
       "      <td>IN</td>\n",
       "      <td>Bengaluru</td>\n",
       "      <td>#75, Sy.No. 83/2, Panathur Mai</td>\n",
       "      <td>560087.0</td>\n",
       "      <td>560087</td>\n",
       "      <td>Bengaluru</td>\n",
       "      <td>MFCB</td>\n",
       "      <td>Karnataka</td>\n",
       "    </tr>\n",
       "  </tbody>\n",
       "</table>\n",
       "</div>"
      ],
      "text/plain": [
       "  Plant                          Name 1 Valuation Area Customer no. - plant  \\\n",
       "0  BC07                      NERKUNDRAM           BC07               PLBC07   \n",
       "1  BC30              SAS NAGAR - MOHALI           BC30               PLBC30   \n",
       "2  X001       X001 - AUTO PLANET WHEELS           X001               PLX001   \n",
       "3  X002  X002 - BHANDARI INDUSTRIES PVT           X002               PLX002   \n",
       "4  X003  X003 - Om Sri Satya Sai Automo           X003               PLX003   \n",
       "\n",
       "  Vendor number plant Factory calendar     Name 2  \\\n",
       "0              PLBC07               IN        NaN   \n",
       "1              PLBC30               IN        NaN   \n",
       "2                 NaN               IN      Thane   \n",
       "3                 NaN               IN  Ghaziabad   \n",
       "4                 NaN               IN  Bengaluru   \n",
       "\n",
       "          House number and street    PO Box  Postal Code       City  \\\n",
       "0   No.117 Poonamallee High Road,  600107.0       600107    Chennai   \n",
       "1                C-118, Phase 07,  160055.0       160055     Mohali   \n",
       "2    Unit No.3, Kothari Compound,  400610.0       400610      Thane   \n",
       "3       18/1, C Site 4, Sahibabad  201010.0       201010  Ghaziabad   \n",
       "4  #75, Sy.No. 83/2, Panathur Mai  560087.0       560087  Bengaluru   \n",
       "\n",
       "  Sales organization          State  \n",
       "0               MFCS     Tamil Nadu  \n",
       "1               MFCS         Punjab  \n",
       "2               MFCA    Maharashtra  \n",
       "3               MFCA  Uttar Pradesh  \n",
       "4               MFCB      Karnataka  "
      ]
     },
     "execution_count": 119,
     "metadata": {},
     "output_type": "execute_result"
    }
   ],
   "source": [
    "plant_full_data.head()"
   ]
  },
  {
   "cell_type": "code",
   "execution_count": 120,
   "metadata": {},
   "outputs": [
    {
     "data": {
      "text/plain": [
       "Plant                        0\n",
       "Name 1                       0\n",
       "Valuation Area               0\n",
       "Customer no. - plant         0\n",
       "Vendor number plant        436\n",
       "Factory calendar             0\n",
       "Name 2                       2\n",
       "House number and street      2\n",
       "PO Box                       1\n",
       "Postal Code                  0\n",
       "City                         0\n",
       "Sales organization           5\n",
       "State                        0\n",
       "dtype: int64"
      ]
     },
     "execution_count": 120,
     "metadata": {},
     "output_type": "execute_result"
    }
   ],
   "source": [
    "plant_full_data.isnull().sum()"
   ]
  },
  {
   "cell_type": "code",
   "execution_count": 121,
   "metadata": {},
   "outputs": [
    {
     "data": {
      "text/plain": [
       "(438, 13)"
      ]
     },
     "execution_count": 121,
     "metadata": {},
     "output_type": "execute_result"
    }
   ],
   "source": [
    "plant_full_data.shape"
   ]
  },
  {
   "cell_type": "code",
   "execution_count": 122,
   "metadata": {},
   "outputs": [],
   "source": [
    "#Drop columns=['Vendor number plant', 'Valuation Area', 'Factory calendar', 'Name 2', 'House number and street', 'PO Box', 'Sales organization']\n",
    "plant = plant_full_data.drop(columns=['Vendor number plant', 'Valuation Area', 'Factory calendar', 'Name 2', 'House number and street', 'PO Box', 'Sales organization', 'Customer no. - plant'])"
   ]
  },
  {
   "cell_type": "code",
   "execution_count": 123,
   "metadata": {},
   "outputs": [],
   "source": [
    "plant = plant_full_data"
   ]
  },
  {
   "cell_type": "code",
   "execution_count": 124,
   "metadata": {},
   "outputs": [
    {
     "data": {
      "text/plain": [
       "(438, 13)"
      ]
     },
     "execution_count": 124,
     "metadata": {},
     "output_type": "execute_result"
    }
   ],
   "source": [
    "plant.shape"
   ]
  },
  {
   "cell_type": "code",
   "execution_count": 125,
   "metadata": {},
   "outputs": [
    {
     "data": {
      "text/plain": [
       "Plant                        0\n",
       "Name 1                       0\n",
       "Valuation Area               0\n",
       "Customer no. - plant         0\n",
       "Vendor number plant        436\n",
       "Factory calendar             0\n",
       "Name 2                       2\n",
       "House number and street      2\n",
       "PO Box                       1\n",
       "Postal Code                  0\n",
       "City                         0\n",
       "Sales organization           5\n",
       "State                        0\n",
       "dtype: int64"
      ]
     },
     "execution_count": 125,
     "metadata": {},
     "output_type": "execute_result"
    }
   ],
   "source": [
    "plant.isnull().sum()"
   ]
  },
  {
   "cell_type": "code",
   "execution_count": 126,
   "metadata": {},
   "outputs": [],
   "source": [
    "#Read Customer Data - Remove Duplicate and Missing values columns.\n",
    "customer_full_data = pd.read_excel('./Data/Customer_Data.xlsx')"
   ]
  },
  {
   "cell_type": "code",
   "execution_count": 127,
   "metadata": {},
   "outputs": [
    {
     "data": {
      "text/html": [
       "<div>\n",
       "<style scoped>\n",
       "    .dataframe tbody tr th:only-of-type {\n",
       "        vertical-align: middle;\n",
       "    }\n",
       "\n",
       "    .dataframe tbody tr th {\n",
       "        vertical-align: top;\n",
       "    }\n",
       "\n",
       "    .dataframe thead th {\n",
       "        text-align: right;\n",
       "    }\n",
       "</style>\n",
       "<table border=\"1\" class=\"dataframe\">\n",
       "  <thead>\n",
       "    <tr style=\"text-align: right;\">\n",
       "      <th></th>\n",
       "      <th>Business Partner</th>\n",
       "      <th>Customer No.</th>\n",
       "      <th>Partner Type</th>\n",
       "      <th>Data Origin</th>\n",
       "      <th>Title</th>\n",
       "      <th>Marital Status</th>\n",
       "      <th>Occupation</th>\n",
       "      <th>Date of Birth</th>\n",
       "      <th>Death date</th>\n",
       "    </tr>\n",
       "  </thead>\n",
       "  <tbody>\n",
       "    <tr>\n",
       "      <th>0</th>\n",
       "      <td>31</td>\n",
       "      <td>1</td>\n",
       "      <td>1.0</td>\n",
       "      <td>Z001</td>\n",
       "      <td>NaN</td>\n",
       "      <td>NaN</td>\n",
       "      <td>NaN</td>\n",
       "      <td>NaN</td>\n",
       "      <td>NaT</td>\n",
       "    </tr>\n",
       "    <tr>\n",
       "      <th>1</th>\n",
       "      <td>32</td>\n",
       "      <td>2</td>\n",
       "      <td>1.0</td>\n",
       "      <td>Z005</td>\n",
       "      <td>NaN</td>\n",
       "      <td>NaN</td>\n",
       "      <td>NaN</td>\n",
       "      <td>NaN</td>\n",
       "      <td>NaT</td>\n",
       "    </tr>\n",
       "    <tr>\n",
       "      <th>2</th>\n",
       "      <td>34</td>\n",
       "      <td>4</td>\n",
       "      <td>1.0</td>\n",
       "      <td>Z005</td>\n",
       "      <td>NaN</td>\n",
       "      <td>2.0</td>\n",
       "      <td>NaN</td>\n",
       "      <td>NaN</td>\n",
       "      <td>NaT</td>\n",
       "    </tr>\n",
       "    <tr>\n",
       "      <th>3</th>\n",
       "      <td>35</td>\n",
       "      <td>5</td>\n",
       "      <td>1.0</td>\n",
       "      <td>Z005</td>\n",
       "      <td>NaN</td>\n",
       "      <td>NaN</td>\n",
       "      <td>NaN</td>\n",
       "      <td>NaN</td>\n",
       "      <td>NaT</td>\n",
       "    </tr>\n",
       "    <tr>\n",
       "      <th>4</th>\n",
       "      <td>42</td>\n",
       "      <td>7</td>\n",
       "      <td>1.0</td>\n",
       "      <td>Z008</td>\n",
       "      <td>NaN</td>\n",
       "      <td>NaN</td>\n",
       "      <td>NaN</td>\n",
       "      <td>NaN</td>\n",
       "      <td>NaT</td>\n",
       "    </tr>\n",
       "  </tbody>\n",
       "</table>\n",
       "</div>"
      ],
      "text/plain": [
       "  Business Partner Customer No.  Partner Type Data Origin  Title  \\\n",
       "0               31            1           1.0        Z001    NaN   \n",
       "1               32            2           1.0        Z005    NaN   \n",
       "2               34            4           1.0        Z005    NaN   \n",
       "3               35            5           1.0        Z005    NaN   \n",
       "4               42            7           1.0        Z008    NaN   \n",
       "\n",
       "   Marital Status  Occupation Date of Birth Death date  \n",
       "0             NaN         NaN           NaN        NaT  \n",
       "1             NaN         NaN           NaN        NaT  \n",
       "2             2.0         NaN           NaN        NaT  \n",
       "3             NaN         NaN           NaN        NaT  \n",
       "4             NaN         NaN           NaN        NaT  "
      ]
     },
     "execution_count": 127,
     "metadata": {},
     "output_type": "execute_result"
    }
   ],
   "source": [
    "customer_full_data.head()"
   ]
  },
  {
   "cell_type": "code",
   "execution_count": 128,
   "metadata": {},
   "outputs": [
    {
     "data": {
      "text/plain": [
       "(555338, 9)"
      ]
     },
     "execution_count": 128,
     "metadata": {},
     "output_type": "execute_result"
    }
   ],
   "source": [
    "customer_full_data.shape"
   ]
  },
  {
   "cell_type": "code",
   "execution_count": 129,
   "metadata": {},
   "outputs": [
    {
     "data": {
      "text/plain": [
       "Business Partner         0\n",
       "Customer No.             0\n",
       "Partner Type            78\n",
       "Data Origin            136\n",
       "Title                46307\n",
       "Marital Status      539301\n",
       "Occupation          540780\n",
       "Date of Birth       541894\n",
       "Death date          554675\n",
       "dtype: int64"
      ]
     },
     "execution_count": 129,
     "metadata": {},
     "output_type": "execute_result"
    }
   ],
   "source": [
    "customer_full_data.isnull().sum()"
   ]
  },
  {
   "cell_type": "code",
   "execution_count": 130,
   "metadata": {},
   "outputs": [],
   "source": [
    "customer = customer_full_data.drop(columns = ['Marital Status', 'Occupation', 'Date of Birth', 'Death date', 'Business Partner'])"
   ]
  },
  {
   "cell_type": "code",
   "execution_count": 131,
   "metadata": {},
   "outputs": [
    {
     "data": {
      "text/plain": [
       "Customer No.     object\n",
       "Partner Type    float64\n",
       "Data Origin      object\n",
       "Title           float64\n",
       "dtype: object"
      ]
     },
     "execution_count": 131,
     "metadata": {},
     "output_type": "execute_result"
    }
   ],
   "source": [
    "customer.dtypes"
   ]
  },
  {
   "cell_type": "code",
   "execution_count": 132,
   "metadata": {},
   "outputs": [
    {
     "data": {
      "text/plain": [
       "Customer No.        0\n",
       "Partner Type       78\n",
       "Data Origin       136\n",
       "Title           46307\n",
       "dtype: int64"
      ]
     },
     "execution_count": 132,
     "metadata": {},
     "output_type": "execute_result"
    }
   ],
   "source": [
    "customer.isnull().sum()"
   ]
  },
  {
   "cell_type": "code",
   "execution_count": 133,
   "metadata": {},
   "outputs": [],
   "source": [
    "#Fill Missing Values in Partner Type, Data Origin, Title columns with most_frequently used values.\n",
    "most_frequent_value = customer['Partner Type'].mode()\n",
    "customer['Partner Type'] = customer['Partner Type'].fillna(most_frequent_value[0])"
   ]
  },
  {
   "cell_type": "code",
   "execution_count": 134,
   "metadata": {},
   "outputs": [],
   "source": [
    "customer['Data Origin'] = customer['Data Origin'].fillna(customer['Data Origin'].mode()[0])"
   ]
  },
  {
   "cell_type": "code",
   "execution_count": 135,
   "metadata": {},
   "outputs": [],
   "source": [
    "customer['Title'] = customer['Title'].fillna(customer['Title'].mode()[0])"
   ]
  },
  {
   "cell_type": "code",
   "execution_count": 136,
   "metadata": {},
   "outputs": [
    {
     "data": {
      "text/plain": [
       "Customer No.    0\n",
       "Partner Type    0\n",
       "Data Origin     0\n",
       "Title           0\n",
       "dtype: int64"
      ]
     },
     "execution_count": 136,
     "metadata": {},
     "output_type": "execute_result"
    }
   ],
   "source": [
    "customer.isnull().sum()"
   ]
  },
  {
   "cell_type": "code",
   "execution_count": 137,
   "metadata": {},
   "outputs": [],
   "source": [
    "#Load Invoice Data - Handle missing, duplicate data\n",
    "invoice_full_data = pd.read_csv('./Data/Final_invoice.csv',index_col=0)"
   ]
  },
  {
   "cell_type": "code",
   "execution_count": 138,
   "metadata": {},
   "outputs": [
    {
     "data": {
      "text/html": [
       "<div>\n",
       "<style scoped>\n",
       "    .dataframe tbody tr th:only-of-type {\n",
       "        vertical-align: middle;\n",
       "    }\n",
       "\n",
       "    .dataframe tbody tr th {\n",
       "        vertical-align: top;\n",
       "    }\n",
       "\n",
       "    .dataframe thead th {\n",
       "        text-align: right;\n",
       "    }\n",
       "</style>\n",
       "<table border=\"1\" class=\"dataframe\">\n",
       "  <thead>\n",
       "    <tr style=\"text-align: right;\">\n",
       "      <th></th>\n",
       "      <th>Amt Rcvd From Custom</th>\n",
       "      <th>Amt Rcvd From Ins Co</th>\n",
       "      <th>Area / Locality</th>\n",
       "      <th>CGST(14%)</th>\n",
       "      <th>CGST(2.5%)</th>\n",
       "      <th>CGST(6%)</th>\n",
       "      <th>CGST(9%)</th>\n",
       "      <th>CITY</th>\n",
       "      <th>Cash /Cashless Type</th>\n",
       "      <th>Claim No.</th>\n",
       "      <th>...</th>\n",
       "      <th>Service Advisor Name</th>\n",
       "      <th>TDS amount</th>\n",
       "      <th>Technician Name</th>\n",
       "      <th>Total Amt Wtd Tax.</th>\n",
       "      <th>Total CGST</th>\n",
       "      <th>Total GST</th>\n",
       "      <th>Total IGST</th>\n",
       "      <th>Total SGST/UGST</th>\n",
       "      <th>Total Value</th>\n",
       "      <th>User ID</th>\n",
       "    </tr>\n",
       "  </thead>\n",
       "  <tbody>\n",
       "    <tr>\n",
       "      <th>0</th>\n",
       "      <td>0.0</td>\n",
       "      <td>0.0</td>\n",
       "      <td>MAJIWADA</td>\n",
       "      <td>0.0</td>\n",
       "      <td>0.0</td>\n",
       "      <td>0.0</td>\n",
       "      <td>0.0</td>\n",
       "      <td>Thane</td>\n",
       "      <td>NaN</td>\n",
       "      <td>NaN</td>\n",
       "      <td>...</td>\n",
       "      <td>NaN</td>\n",
       "      <td>0.0</td>\n",
       "      <td>RUPESH</td>\n",
       "      <td>4051.95</td>\n",
       "      <td>0.0</td>\n",
       "      <td>0.0</td>\n",
       "      <td>0.0</td>\n",
       "      <td>0.0</td>\n",
       "      <td>4051.95</td>\n",
       "      <td>BC01FS1</td>\n",
       "    </tr>\n",
       "    <tr>\n",
       "      <th>1</th>\n",
       "      <td>0.0</td>\n",
       "      <td>0.0</td>\n",
       "      <td>THNAE</td>\n",
       "      <td>0.0</td>\n",
       "      <td>0.0</td>\n",
       "      <td>0.0</td>\n",
       "      <td>0.0</td>\n",
       "      <td>THNAE</td>\n",
       "      <td>NaN</td>\n",
       "      <td>NaN</td>\n",
       "      <td>...</td>\n",
       "      <td>NaN</td>\n",
       "      <td>0.0</td>\n",
       "      <td>PRASHANT</td>\n",
       "      <td>1001.29</td>\n",
       "      <td>0.0</td>\n",
       "      <td>0.0</td>\n",
       "      <td>0.0</td>\n",
       "      <td>0.0</td>\n",
       "      <td>1001.29</td>\n",
       "      <td>BC01SA2</td>\n",
       "    </tr>\n",
       "    <tr>\n",
       "      <th>2</th>\n",
       "      <td>0.0</td>\n",
       "      <td>0.0</td>\n",
       "      <td>THANE</td>\n",
       "      <td>0.0</td>\n",
       "      <td>0.0</td>\n",
       "      <td>0.0</td>\n",
       "      <td>0.0</td>\n",
       "      <td>THANE[W]</td>\n",
       "      <td>NaN</td>\n",
       "      <td>NaN</td>\n",
       "      <td>...</td>\n",
       "      <td>NaN</td>\n",
       "      <td>0.0</td>\n",
       "      <td>IMRAN</td>\n",
       "      <td>233.14</td>\n",
       "      <td>0.0</td>\n",
       "      <td>0.0</td>\n",
       "      <td>0.0</td>\n",
       "      <td>0.0</td>\n",
       "      <td>233.14</td>\n",
       "      <td>BC01SA2</td>\n",
       "    </tr>\n",
       "    <tr>\n",
       "      <th>3</th>\n",
       "      <td>0.0</td>\n",
       "      <td>0.0</td>\n",
       "      <td>THNAE</td>\n",
       "      <td>0.0</td>\n",
       "      <td>0.0</td>\n",
       "      <td>0.0</td>\n",
       "      <td>0.0</td>\n",
       "      <td>THNAE</td>\n",
       "      <td>NaN</td>\n",
       "      <td>NaN</td>\n",
       "      <td>...</td>\n",
       "      <td>NaN</td>\n",
       "      <td>0.0</td>\n",
       "      <td>PRASHANT</td>\n",
       "      <td>0.00</td>\n",
       "      <td>0.0</td>\n",
       "      <td>0.0</td>\n",
       "      <td>0.0</td>\n",
       "      <td>0.0</td>\n",
       "      <td>0.00</td>\n",
       "      <td>BC01SA2</td>\n",
       "    </tr>\n",
       "    <tr>\n",
       "      <th>4</th>\n",
       "      <td>0.0</td>\n",
       "      <td>0.0</td>\n",
       "      <td>THANE</td>\n",
       "      <td>0.0</td>\n",
       "      <td>0.0</td>\n",
       "      <td>0.0</td>\n",
       "      <td>0.0</td>\n",
       "      <td>THANE</td>\n",
       "      <td>NaN</td>\n",
       "      <td>NaN</td>\n",
       "      <td>...</td>\n",
       "      <td>NaN</td>\n",
       "      <td>0.0</td>\n",
       "      <td>DAYANAND</td>\n",
       "      <td>2747.12</td>\n",
       "      <td>0.0</td>\n",
       "      <td>0.0</td>\n",
       "      <td>0.0</td>\n",
       "      <td>0.0</td>\n",
       "      <td>2747.12</td>\n",
       "      <td>BC01SA2</td>\n",
       "    </tr>\n",
       "  </tbody>\n",
       "</table>\n",
       "<p>5 rows × 58 columns</p>\n",
       "</div>"
      ],
      "text/plain": [
       "   Amt Rcvd From Custom  Amt Rcvd From Ins Co Area / Locality  CGST(14%)  \\\n",
       "0                   0.0                   0.0        MAJIWADA        0.0   \n",
       "1                   0.0                   0.0           THNAE        0.0   \n",
       "2                   0.0                   0.0           THANE        0.0   \n",
       "3                   0.0                   0.0           THNAE        0.0   \n",
       "4                   0.0                   0.0           THANE        0.0   \n",
       "\n",
       "   CGST(2.5%)  CGST(6%)  CGST(9%)      CITY Cash /Cashless Type Claim No.  \\\n",
       "0         0.0       0.0       0.0     Thane                 NaN       NaN   \n",
       "1         0.0       0.0       0.0     THNAE                 NaN       NaN   \n",
       "2         0.0       0.0       0.0  THANE[W]                 NaN       NaN   \n",
       "3         0.0       0.0       0.0     THNAE                 NaN       NaN   \n",
       "4         0.0       0.0       0.0     THANE                 NaN       NaN   \n",
       "\n",
       "   ... Service Advisor Name TDS amount Technician Name Total Amt Wtd Tax.  \\\n",
       "0  ...                  NaN        0.0          RUPESH            4051.95   \n",
       "1  ...                  NaN        0.0        PRASHANT            1001.29   \n",
       "2  ...                  NaN        0.0           IMRAN             233.14   \n",
       "3  ...                  NaN        0.0        PRASHANT               0.00   \n",
       "4  ...                  NaN        0.0        DAYANAND            2747.12   \n",
       "\n",
       "  Total CGST Total GST  Total IGST  Total SGST/UGST  Total Value  User ID  \n",
       "0        0.0       0.0         0.0              0.0      4051.95  BC01FS1  \n",
       "1        0.0       0.0         0.0              0.0      1001.29  BC01SA2  \n",
       "2        0.0       0.0         0.0              0.0       233.14  BC01SA2  \n",
       "3        0.0       0.0         0.0              0.0         0.00  BC01SA2  \n",
       "4        0.0       0.0         0.0              0.0      2747.12  BC01SA2  \n",
       "\n",
       "[5 rows x 58 columns]"
      ]
     },
     "execution_count": 138,
     "metadata": {},
     "output_type": "execute_result"
    }
   ],
   "source": [
    "invoice_full_data.head()"
   ]
  },
  {
   "cell_type": "code",
   "execution_count": 139,
   "metadata": {},
   "outputs": [
    {
     "data": {
      "text/plain": [
       "(492314, 58)"
      ]
     },
     "execution_count": 139,
     "metadata": {},
     "output_type": "execute_result"
    }
   ],
   "source": [
    "invoice_full_data.shape"
   ]
  },
  {
   "cell_type": "code",
   "execution_count": 140,
   "metadata": {},
   "outputs": [
    {
     "data": {
      "text/html": [
       "<div>\n",
       "<style scoped>\n",
       "    .dataframe tbody tr th:only-of-type {\n",
       "        vertical-align: middle;\n",
       "    }\n",
       "\n",
       "    .dataframe tbody tr th {\n",
       "        vertical-align: top;\n",
       "    }\n",
       "\n",
       "    .dataframe thead th {\n",
       "        text-align: right;\n",
       "    }\n",
       "</style>\n",
       "<table border=\"1\" class=\"dataframe\">\n",
       "  <thead>\n",
       "    <tr style=\"text-align: right;\">\n",
       "      <th></th>\n",
       "      <th>Amt Rcvd From Custom</th>\n",
       "      <th>Amt Rcvd From Ins Co</th>\n",
       "      <th>Area / Locality</th>\n",
       "      <th>CGST(14%)</th>\n",
       "      <th>CGST(2.5%)</th>\n",
       "      <th>CGST(6%)</th>\n",
       "      <th>CGST(9%)</th>\n",
       "      <th>CITY</th>\n",
       "      <th>Cash /Cashless Type</th>\n",
       "      <th>Claim No.</th>\n",
       "      <th>...</th>\n",
       "      <th>Service Advisor Name</th>\n",
       "      <th>TDS amount</th>\n",
       "      <th>Technician Name</th>\n",
       "      <th>Total Amt Wtd Tax.</th>\n",
       "      <th>Total CGST</th>\n",
       "      <th>Total GST</th>\n",
       "      <th>Total IGST</th>\n",
       "      <th>Total SGST/UGST</th>\n",
       "      <th>Total Value</th>\n",
       "      <th>User ID</th>\n",
       "    </tr>\n",
       "  </thead>\n",
       "  <tbody>\n",
       "    <tr>\n",
       "      <th>596342</th>\n",
       "      <td>0.0</td>\n",
       "      <td>0.0</td>\n",
       "      <td>NaN</td>\n",
       "      <td>0.0</td>\n",
       "      <td>0.0</td>\n",
       "      <td>0.0</td>\n",
       "      <td>0.0</td>\n",
       "      <td>Nashik</td>\n",
       "      <td>NaN</td>\n",
       "      <td>NaN</td>\n",
       "      <td>...</td>\n",
       "      <td>NaN</td>\n",
       "      <td>0.0</td>\n",
       "      <td>VILAS</td>\n",
       "      <td>3224.98</td>\n",
       "      <td>0.0</td>\n",
       "      <td>0.0</td>\n",
       "      <td>0.0</td>\n",
       "      <td>0.0</td>\n",
       "      <td>3224.98</td>\n",
       "      <td>BC03SA2</td>\n",
       "    </tr>\n",
       "    <tr>\n",
       "      <th>655477</th>\n",
       "      <td>0.0</td>\n",
       "      <td>0.0</td>\n",
       "      <td>NaN</td>\n",
       "      <td>0.0</td>\n",
       "      <td>0.0</td>\n",
       "      <td>0.0</td>\n",
       "      <td>0.0</td>\n",
       "      <td>Nashik</td>\n",
       "      <td>NaN</td>\n",
       "      <td>NaN</td>\n",
       "      <td>...</td>\n",
       "      <td>NaN</td>\n",
       "      <td>0.0</td>\n",
       "      <td>NaN</td>\n",
       "      <td>420.09</td>\n",
       "      <td>0.0</td>\n",
       "      <td>0.0</td>\n",
       "      <td>0.0</td>\n",
       "      <td>0.0</td>\n",
       "      <td>420.09</td>\n",
       "      <td>GOLIVE</td>\n",
       "    </tr>\n",
       "    <tr>\n",
       "      <th>671744</th>\n",
       "      <td>0.0</td>\n",
       "      <td>0.0</td>\n",
       "      <td>NaN</td>\n",
       "      <td>0.0</td>\n",
       "      <td>0.0</td>\n",
       "      <td>0.0</td>\n",
       "      <td>0.0</td>\n",
       "      <td>Nashik</td>\n",
       "      <td>NaN</td>\n",
       "      <td>NaN</td>\n",
       "      <td>...</td>\n",
       "      <td>NaN</td>\n",
       "      <td>0.0</td>\n",
       "      <td>NaN</td>\n",
       "      <td>1637.43</td>\n",
       "      <td>0.0</td>\n",
       "      <td>0.0</td>\n",
       "      <td>0.0</td>\n",
       "      <td>0.0</td>\n",
       "      <td>1637.43</td>\n",
       "      <td>BC03SA3</td>\n",
       "    </tr>\n",
       "    <tr>\n",
       "      <th>698201</th>\n",
       "      <td>0.0</td>\n",
       "      <td>0.0</td>\n",
       "      <td>NaN</td>\n",
       "      <td>0.0</td>\n",
       "      <td>0.0</td>\n",
       "      <td>0.0</td>\n",
       "      <td>0.0</td>\n",
       "      <td>Nashik</td>\n",
       "      <td>NaN</td>\n",
       "      <td>NaN</td>\n",
       "      <td>...</td>\n",
       "      <td>NaN</td>\n",
       "      <td>0.0</td>\n",
       "      <td>CX</td>\n",
       "      <td>1803.27</td>\n",
       "      <td>0.0</td>\n",
       "      <td>0.0</td>\n",
       "      <td>0.0</td>\n",
       "      <td>0.0</td>\n",
       "      <td>1803.27</td>\n",
       "      <td>BC03SA3</td>\n",
       "    </tr>\n",
       "  </tbody>\n",
       "</table>\n",
       "<p>4 rows × 58 columns</p>\n",
       "</div>"
      ],
      "text/plain": [
       "        Amt Rcvd From Custom  Amt Rcvd From Ins Co Area / Locality  CGST(14%)  \\\n",
       "596342                   0.0                   0.0             NaN        0.0   \n",
       "655477                   0.0                   0.0             NaN        0.0   \n",
       "671744                   0.0                   0.0             NaN        0.0   \n",
       "698201                   0.0                   0.0             NaN        0.0   \n",
       "\n",
       "        CGST(2.5%)  CGST(6%)  CGST(9%)    CITY Cash /Cashless Type Claim No.  \\\n",
       "596342         0.0       0.0       0.0  Nashik                 NaN       NaN   \n",
       "655477         0.0       0.0       0.0  Nashik                 NaN       NaN   \n",
       "671744         0.0       0.0       0.0  Nashik                 NaN       NaN   \n",
       "698201         0.0       0.0       0.0  Nashik                 NaN       NaN   \n",
       "\n",
       "        ... Service Advisor Name TDS amount Technician Name  \\\n",
       "596342  ...                  NaN        0.0           VILAS   \n",
       "655477  ...                  NaN        0.0             NaN   \n",
       "671744  ...                  NaN        0.0             NaN   \n",
       "698201  ...                  NaN        0.0              CX   \n",
       "\n",
       "       Total Amt Wtd Tax. Total CGST Total GST  Total IGST  Total SGST/UGST  \\\n",
       "596342            3224.98        0.0       0.0         0.0              0.0   \n",
       "655477             420.09        0.0       0.0         0.0              0.0   \n",
       "671744            1637.43        0.0       0.0         0.0              0.0   \n",
       "698201            1803.27        0.0       0.0         0.0              0.0   \n",
       "\n",
       "        Total Value  User ID  \n",
       "596342      3224.98  BC03SA2  \n",
       "655477       420.09   GOLIVE  \n",
       "671744      1637.43  BC03SA3  \n",
       "698201      1803.27  BC03SA3  \n",
       "\n",
       "[4 rows x 58 columns]"
      ]
     },
     "execution_count": 140,
     "metadata": {},
     "output_type": "execute_result"
    }
   ],
   "source": [
    "invoice_full_data[invoice_full_data['Customer No.']=='E14006']"
   ]
  },
  {
   "cell_type": "code",
   "execution_count": 141,
   "metadata": {},
   "outputs": [],
   "source": [
    "columns_to_be_removed = invoice_full_data.isnull().sum()[invoice_full_data.isnull().sum().sort_values() > 29178].index"
   ]
  },
  {
   "cell_type": "code",
   "execution_count": 142,
   "metadata": {},
   "outputs": [
    {
     "data": {
      "text/plain": [
       "Index(['Amt Rcvd From Custom', 'Amt Rcvd From Ins Co', 'CGST(14%)',\n",
       "       'CGST(2.5%)', 'CGST(6%)', 'CGST(9%)', 'Cash /Cashless Type',\n",
       "       'Claim No.', 'Expiry Date', 'Gate Pass Date', 'IGST(12%)', 'IGST(18%)',\n",
       "       'IGST(28%)', 'IGST(5%)', 'Insurance Company', 'ODN No.',\n",
       "       'Outstanding Amt', 'Policy no.', 'SGST/UGST(14%)', 'SGST/UGST(2.5%)',\n",
       "       'SGST/UGST(6%)', 'SGST/UGST(9%)', 'Service Advisor Name', 'TDS amount',\n",
       "       'Technician Name', 'Total CGST', 'Total GST', 'Total IGST',\n",
       "       'Total SGST/UGST', 'Total Value'],\n",
       "      dtype='object')"
      ]
     },
     "execution_count": 142,
     "metadata": {},
     "output_type": "execute_result"
    }
   ],
   "source": [
    "columns_to_be_removed"
   ]
  },
  {
   "cell_type": "code",
   "execution_count": 143,
   "metadata": {},
   "outputs": [],
   "source": [
    "invoice = invoice_full_data.drop(columns=columns_to_be_removed)"
   ]
  },
  {
   "cell_type": "code",
   "execution_count": 144,
   "metadata": {},
   "outputs": [
    {
     "data": {
      "text/plain": [
       "(492314, 28)"
      ]
     },
     "execution_count": 144,
     "metadata": {},
     "output_type": "execute_result"
    }
   ],
   "source": [
    "invoice.shape"
   ]
  },
  {
   "cell_type": "code",
   "execution_count": 145,
   "metadata": {},
   "outputs": [
    {
     "data": {
      "text/html": [
       "<div>\n",
       "<style scoped>\n",
       "    .dataframe tbody tr th:only-of-type {\n",
       "        vertical-align: middle;\n",
       "    }\n",
       "\n",
       "    .dataframe tbody tr th {\n",
       "        vertical-align: top;\n",
       "    }\n",
       "\n",
       "    .dataframe thead th {\n",
       "        text-align: right;\n",
       "    }\n",
       "</style>\n",
       "<table border=\"1\" class=\"dataframe\">\n",
       "  <thead>\n",
       "    <tr style=\"text-align: right;\">\n",
       "      <th></th>\n",
       "      <th>Area / Locality</th>\n",
       "      <th>CITY</th>\n",
       "      <th>Cust Type</th>\n",
       "      <th>Customer No.</th>\n",
       "      <th>District</th>\n",
       "      <th>Gate Pass Time</th>\n",
       "      <th>Invoice Date</th>\n",
       "      <th>Invoice No</th>\n",
       "      <th>Invoice Time</th>\n",
       "      <th>Job Card No</th>\n",
       "      <th>...</th>\n",
       "      <th>Order Type</th>\n",
       "      <th>Parts Total</th>\n",
       "      <th>Pin code</th>\n",
       "      <th>Plant</th>\n",
       "      <th>Plant Name1</th>\n",
       "      <th>Print Status</th>\n",
       "      <th>Recovrbl Exp</th>\n",
       "      <th>Regn No</th>\n",
       "      <th>Total Amt Wtd Tax.</th>\n",
       "      <th>User ID</th>\n",
       "    </tr>\n",
       "  </thead>\n",
       "  <tbody>\n",
       "    <tr>\n",
       "      <th>0</th>\n",
       "      <td>MAJIWADA</td>\n",
       "      <td>Thane</td>\n",
       "      <td>Retail</td>\n",
       "      <td>67849</td>\n",
       "      <td>Maharashtra</td>\n",
       "      <td>00:00:00</td>\n",
       "      <td>2015-01-02</td>\n",
       "      <td>7005200002</td>\n",
       "      <td>11:30:36</td>\n",
       "      <td>168303</td>\n",
       "      <td>...</td>\n",
       "      <td>Paid Service</td>\n",
       "      <td>2348.75</td>\n",
       "      <td>400601</td>\n",
       "      <td>BC01</td>\n",
       "      <td>THANE</td>\n",
       "      <td>NO</td>\n",
       "      <td>0.0</td>\n",
       "      <td>KA19MA1291</td>\n",
       "      <td>4051.95</td>\n",
       "      <td>BC01FS1</td>\n",
       "    </tr>\n",
       "    <tr>\n",
       "      <th>1</th>\n",
       "      <td>THNAE</td>\n",
       "      <td>THNAE</td>\n",
       "      <td>Retail</td>\n",
       "      <td>84419</td>\n",
       "      <td>Maharashtra</td>\n",
       "      <td>00:00:00</td>\n",
       "      <td>2015-01-03</td>\n",
       "      <td>7005200003</td>\n",
       "      <td>10:07:32</td>\n",
       "      <td>173997</td>\n",
       "      <td>...</td>\n",
       "      <td>SMC Value Package</td>\n",
       "      <td>0.00</td>\n",
       "      <td>400603</td>\n",
       "      <td>BC01</td>\n",
       "      <td>THANE</td>\n",
       "      <td>NO</td>\n",
       "      <td>0.0</td>\n",
       "      <td>MH43R3046</td>\n",
       "      <td>1001.29</td>\n",
       "      <td>BC01SA2</td>\n",
       "    </tr>\n",
       "    <tr>\n",
       "      <th>2</th>\n",
       "      <td>THANE</td>\n",
       "      <td>THANE[W]</td>\n",
       "      <td>Retail</td>\n",
       "      <td>81055</td>\n",
       "      <td>Maharashtra</td>\n",
       "      <td>00:00:00</td>\n",
       "      <td>2015-01-03</td>\n",
       "      <td>7005200004</td>\n",
       "      <td>11:12:57</td>\n",
       "      <td>173889</td>\n",
       "      <td>...</td>\n",
       "      <td>Running Repairs</td>\n",
       "      <td>52.95</td>\n",
       "      <td>400607</td>\n",
       "      <td>BC01</td>\n",
       "      <td>THANE</td>\n",
       "      <td>NO</td>\n",
       "      <td>0.0</td>\n",
       "      <td>AP09AX0582</td>\n",
       "      <td>233.14</td>\n",
       "      <td>BC01SA2</td>\n",
       "    </tr>\n",
       "    <tr>\n",
       "      <th>3</th>\n",
       "      <td>THNAE</td>\n",
       "      <td>THNAE</td>\n",
       "      <td>Retail</td>\n",
       "      <td>84419</td>\n",
       "      <td>Maharashtra</td>\n",
       "      <td>00:00:00</td>\n",
       "      <td>2015-01-03</td>\n",
       "      <td>7005200005</td>\n",
       "      <td>11:40:44</td>\n",
       "      <td>174158</td>\n",
       "      <td>...</td>\n",
       "      <td>SMC Redemption</td>\n",
       "      <td>0.00</td>\n",
       "      <td>400603</td>\n",
       "      <td>BC01</td>\n",
       "      <td>THANE</td>\n",
       "      <td>NO</td>\n",
       "      <td>0.0</td>\n",
       "      <td>MH43R3046</td>\n",
       "      <td>0.00</td>\n",
       "      <td>BC01SA2</td>\n",
       "    </tr>\n",
       "    <tr>\n",
       "      <th>4</th>\n",
       "      <td>THANE</td>\n",
       "      <td>THANE</td>\n",
       "      <td>Retail</td>\n",
       "      <td>18980</td>\n",
       "      <td>Maharashtra</td>\n",
       "      <td>00:00:00</td>\n",
       "      <td>2015-01-03</td>\n",
       "      <td>7005200006</td>\n",
       "      <td>12:07:17</td>\n",
       "      <td>173860</td>\n",
       "      <td>...</td>\n",
       "      <td>Paid Service</td>\n",
       "      <td>944.16</td>\n",
       "      <td>400603</td>\n",
       "      <td>BC01</td>\n",
       "      <td>THANE</td>\n",
       "      <td>NO</td>\n",
       "      <td>0.0</td>\n",
       "      <td>MH04CD9768</td>\n",
       "      <td>2747.12</td>\n",
       "      <td>BC01SA2</td>\n",
       "    </tr>\n",
       "  </tbody>\n",
       "</table>\n",
       "<p>5 rows × 28 columns</p>\n",
       "</div>"
      ],
      "text/plain": [
       "  Area / Locality      CITY Cust Type Customer No.     District  \\\n",
       "0        MAJIWADA     Thane    Retail        67849  Maharashtra   \n",
       "1           THNAE     THNAE    Retail        84419  Maharashtra   \n",
       "2           THANE  THANE[W]    Retail        81055  Maharashtra   \n",
       "3           THNAE     THNAE    Retail        84419  Maharashtra   \n",
       "4           THANE     THANE    Retail        18980  Maharashtra   \n",
       "\n",
       "  Gate Pass Time Invoice Date  Invoice No Invoice Time  Job Card No  ...  \\\n",
       "0       00:00:00   2015-01-02  7005200002     11:30:36       168303  ...   \n",
       "1       00:00:00   2015-01-03  7005200003     10:07:32       173997  ...   \n",
       "2       00:00:00   2015-01-03  7005200004     11:12:57       173889  ...   \n",
       "3       00:00:00   2015-01-03  7005200005     11:40:44       174158  ...   \n",
       "4       00:00:00   2015-01-03  7005200006     12:07:17       173860  ...   \n",
       "\n",
       "          Order Type Parts Total  Pin code  Plant Plant Name1  Print Status  \\\n",
       "0       Paid Service     2348.75    400601   BC01       THANE            NO   \n",
       "1  SMC Value Package        0.00    400603   BC01       THANE            NO   \n",
       "2    Running Repairs       52.95    400607   BC01       THANE            NO   \n",
       "3     SMC Redemption        0.00    400603   BC01       THANE            NO   \n",
       "4       Paid Service      944.16    400603   BC01       THANE            NO   \n",
       "\n",
       "  Recovrbl Exp     Regn No Total Amt Wtd Tax.  User ID  \n",
       "0          0.0  KA19MA1291            4051.95  BC01FS1  \n",
       "1          0.0   MH43R3046            1001.29  BC01SA2  \n",
       "2          0.0  AP09AX0582             233.14  BC01SA2  \n",
       "3          0.0   MH43R3046               0.00  BC01SA2  \n",
       "4          0.0  MH04CD9768            2747.12  BC01SA2  \n",
       "\n",
       "[5 rows x 28 columns]"
      ]
     },
     "execution_count": 145,
     "metadata": {},
     "output_type": "execute_result"
    }
   ],
   "source": [
    "invoice.head(5)"
   ]
  },
  {
   "cell_type": "code",
   "execution_count": 146,
   "metadata": {},
   "outputs": [],
   "source": [
    "columns_irrelevant = ['Area / Locality', 'Print Status', 'Gate Pass Time', 'Recovrbl Exp', 'CITY']"
   ]
  },
  {
   "cell_type": "code",
   "execution_count": 147,
   "metadata": {},
   "outputs": [],
   "source": [
    "invoice = invoice.drop(columns=columns_irrelevant)"
   ]
  },
  {
   "cell_type": "code",
   "execution_count": 148,
   "metadata": {},
   "outputs": [],
   "source": [
    "invoice.dropna(subset=['Regn No'], inplace=True)"
   ]
  },
  {
   "cell_type": "code",
   "execution_count": 149,
   "metadata": {},
   "outputs": [
    {
     "data": {
      "text/plain": [
       "Cust Type                0\n",
       "Regn No                  0\n",
       "Plant Name1              0\n",
       "Plant                    0\n",
       "Pin code                 0\n",
       "Parts Total              0\n",
       "Order Type               0\n",
       "OSL Total                0\n",
       "Misc Total               0\n",
       "Total Amt Wtd Tax.       0\n",
       "Make                     0\n",
       "KMs Reading              0\n",
       "JobCard Time             0\n",
       "JobCard Date             0\n",
       "Job Card No              0\n",
       "Invoice Time             0\n",
       "Invoice No               0\n",
       "Invoice Date             0\n",
       "District                 0\n",
       "Customer No.             0\n",
       "Labour Total             0\n",
       "User ID                  0\n",
       "Model                 1524\n",
       "dtype: int64"
      ]
     },
     "execution_count": 149,
     "metadata": {},
     "output_type": "execute_result"
    }
   ],
   "source": [
    "invoice.isnull().sum().sort_values()"
   ]
  },
  {
   "cell_type": "code",
   "execution_count": 150,
   "metadata": {},
   "outputs": [],
   "source": [
    "invoice['Cust Type'] = invoice['Cust Type'].fillna(invoice['Cust Type'].mode()[0])\n",
    "#invoice['CITY'] = invoice['CITY'].fillna(invoice['CITY'].mode()[0])\n",
    "invoice['Model']  = invoice['Model'].fillna(invoice['Model'].mode()[0])"
   ]
  },
  {
   "cell_type": "code",
   "execution_count": 151,
   "metadata": {},
   "outputs": [
    {
     "data": {
      "text/plain": [
       "Cust Type             0\n",
       "Regn No               0\n",
       "Plant Name1           0\n",
       "Plant                 0\n",
       "Pin code              0\n",
       "Parts Total           0\n",
       "Order Type            0\n",
       "OSL Total             0\n",
       "Model                 0\n",
       "Misc Total            0\n",
       "Total Amt Wtd Tax.    0\n",
       "Make                  0\n",
       "KMs Reading           0\n",
       "JobCard Time          0\n",
       "JobCard Date          0\n",
       "Job Card No           0\n",
       "Invoice Time          0\n",
       "Invoice No            0\n",
       "Invoice Date          0\n",
       "District              0\n",
       "Customer No.          0\n",
       "Labour Total          0\n",
       "User ID               0\n",
       "dtype: int64"
      ]
     },
     "execution_count": 151,
     "metadata": {},
     "output_type": "execute_result"
    }
   ],
   "source": [
    "invoice.isnull().sum().sort_values()"
   ]
  },
  {
   "cell_type": "code",
   "execution_count": 152,
   "metadata": {},
   "outputs": [
    {
     "data": {
      "text/plain": [
       "Running Repairs      269448\n",
       "Paid Service         134995\n",
       "Accidental            44159\n",
       "SMC Redemption        15738\n",
       "Mechanical            15100\n",
       "SMC Value Package      9781\n",
       "Repeat Order           3043\n",
       "Workshop Damage          17\n",
       "WBW Order                17\n",
       "Name: Order Type, dtype: int64"
      ]
     },
     "execution_count": 152,
     "metadata": {},
     "output_type": "execute_result"
    }
   ],
   "source": [
    "invoice['Order Type'].value_counts()"
   ]
  },
  {
   "cell_type": "code",
   "execution_count": 153,
   "metadata": {},
   "outputs": [],
   "source": [
    "#Read JTD data - Handle missing and duplicate data\n",
    "jtd = pd.read_csv('./Data/JTD.csv',index_col=0)"
   ]
  },
  {
   "cell_type": "code",
   "execution_count": 154,
   "metadata": {},
   "outputs": [
    {
     "data": {
      "text/html": [
       "<div>\n",
       "<style scoped>\n",
       "    .dataframe tbody tr th:only-of-type {\n",
       "        vertical-align: middle;\n",
       "    }\n",
       "\n",
       "    .dataframe tbody tr th {\n",
       "        vertical-align: top;\n",
       "    }\n",
       "\n",
       "    .dataframe thead th {\n",
       "        text-align: right;\n",
       "    }\n",
       "</style>\n",
       "<table border=\"1\" class=\"dataframe\">\n",
       "  <thead>\n",
       "    <tr style=\"text-align: right;\">\n",
       "      <th></th>\n",
       "      <th>DBM Order</th>\n",
       "      <th>Order Item</th>\n",
       "      <th>Material</th>\n",
       "      <th>Labor Value Number</th>\n",
       "      <th>Description</th>\n",
       "      <th>Item Category</th>\n",
       "      <th>Order Quantity</th>\n",
       "      <th>Target quantity UoM</th>\n",
       "      <th>Net value</th>\n",
       "    </tr>\n",
       "  </thead>\n",
       "  <tbody>\n",
       "    <tr>\n",
       "      <th>0</th>\n",
       "      <td>22385</td>\n",
       "      <td>180</td>\n",
       "      <td>OSLCC_SRV31</td>\n",
       "      <td>NaN</td>\n",
       "      <td>MACHINING RR.SUSPENSION CHARGE  (MAJOR)</td>\n",
       "      <td>P010</td>\n",
       "      <td>1.2</td>\n",
       "      <td>MIN</td>\n",
       "      <td>1869.87</td>\n",
       "    </tr>\n",
       "    <tr>\n",
       "      <th>1</th>\n",
       "      <td>23910</td>\n",
       "      <td>10</td>\n",
       "      <td>1DM279018170117</td>\n",
       "      <td>NaN</td>\n",
       "      <td>ASSY.OIL COOLER (6-PLATE) (VOR</td>\n",
       "      <td>P002</td>\n",
       "      <td>1.0</td>\n",
       "      <td>EA</td>\n",
       "      <td>2151.13</td>\n",
       "    </tr>\n",
       "    <tr>\n",
       "      <th>2</th>\n",
       "      <td>23910</td>\n",
       "      <td>40</td>\n",
       "      <td>1IS150203BE01</td>\n",
       "      <td>NaN</td>\n",
       "      <td>FRONT WHEEL BEARING/ LUBRICATE</td>\n",
       "      <td>P002</td>\n",
       "      <td>1.0</td>\n",
       "      <td>EA</td>\n",
       "      <td>2552.92</td>\n",
       "    </tr>\n",
       "    <tr>\n",
       "      <th>3</th>\n",
       "      <td>23910</td>\n",
       "      <td>60</td>\n",
       "      <td>1DM279001990173</td>\n",
       "      <td>NaN</td>\n",
       "      <td>ASSY.CYL.HEAD W /O INJ.(NA W /O</td>\n",
       "      <td>P002</td>\n",
       "      <td>1.0</td>\n",
       "      <td>EA</td>\n",
       "      <td>20360.14</td>\n",
       "    </tr>\n",
       "    <tr>\n",
       "      <th>4</th>\n",
       "      <td>23910</td>\n",
       "      <td>70</td>\n",
       "      <td>1DM88552790S001SA</td>\n",
       "      <td>NaN</td>\n",
       "      <td>Engine Overhaul Kit -Indica Di</td>\n",
       "      <td>P002</td>\n",
       "      <td>1.0</td>\n",
       "      <td>EA</td>\n",
       "      <td>10691.63</td>\n",
       "    </tr>\n",
       "  </tbody>\n",
       "</table>\n",
       "</div>"
      ],
      "text/plain": [
       "   DBM Order  Order Item           Material Labor Value Number  \\\n",
       "0      22385         180        OSLCC_SRV31                NaN   \n",
       "1      23910          10    1DM279018170117                NaN   \n",
       "2      23910          40      1IS150203BE01                NaN   \n",
       "3      23910          60    1DM279001990173                NaN   \n",
       "4      23910          70  1DM88552790S001SA                NaN   \n",
       "\n",
       "                               Description Item Category  Order Quantity  \\\n",
       "0  MACHINING RR.SUSPENSION CHARGE  (MAJOR)          P010             1.2   \n",
       "1           ASSY.OIL COOLER (6-PLATE) (VOR          P002             1.0   \n",
       "2           FRONT WHEEL BEARING/ LUBRICATE          P002             1.0   \n",
       "3          ASSY.CYL.HEAD W /O INJ.(NA W /O          P002             1.0   \n",
       "4           Engine Overhaul Kit -Indica Di          P002             1.0   \n",
       "\n",
       "  Target quantity UoM  Net value  \n",
       "0                 MIN    1869.87  \n",
       "1                  EA    2151.13  \n",
       "2                  EA    2552.92  \n",
       "3                  EA   20360.14  \n",
       "4                  EA   10691.63  "
      ]
     },
     "execution_count": 154,
     "metadata": {},
     "output_type": "execute_result"
    }
   ],
   "source": [
    "jtd.head()"
   ]
  },
  {
   "cell_type": "code",
   "execution_count": 155,
   "metadata": {},
   "outputs": [
    {
     "data": {
      "text/plain": [
       "(5619484, 9)"
      ]
     },
     "execution_count": 155,
     "metadata": {},
     "output_type": "execute_result"
    }
   ],
   "source": [
    "jtd.shape"
   ]
  },
  {
   "cell_type": "code",
   "execution_count": 156,
   "metadata": {},
   "outputs": [
    {
     "data": {
      "text/html": [
       "<div>\n",
       "<style scoped>\n",
       "    .dataframe tbody tr th:only-of-type {\n",
       "        vertical-align: middle;\n",
       "    }\n",
       "\n",
       "    .dataframe tbody tr th {\n",
       "        vertical-align: top;\n",
       "    }\n",
       "\n",
       "    .dataframe thead th {\n",
       "        text-align: right;\n",
       "    }\n",
       "</style>\n",
       "<table border=\"1\" class=\"dataframe\">\n",
       "  <thead>\n",
       "    <tr style=\"text-align: right;\">\n",
       "      <th></th>\n",
       "      <th>DBM Order</th>\n",
       "      <th>Order Item</th>\n",
       "      <th>Material</th>\n",
       "      <th>Labor Value Number</th>\n",
       "      <th>Description</th>\n",
       "      <th>Item Category</th>\n",
       "      <th>Order Quantity</th>\n",
       "      <th>Target quantity UoM</th>\n",
       "      <th>Net value</th>\n",
       "    </tr>\n",
       "  </thead>\n",
       "  <tbody>\n",
       "    <tr>\n",
       "      <th>2674242</th>\n",
       "      <td>98050</td>\n",
       "      <td>10</td>\n",
       "      <td>1EMJ96615412</td>\n",
       "      <td>NaN</td>\n",
       "      <td>SWITCH A-A/C CONTROL</td>\n",
       "      <td>P002</td>\n",
       "      <td>1.0</td>\n",
       "      <td>EA</td>\n",
       "      <td>5185.92</td>\n",
       "    </tr>\n",
       "    <tr>\n",
       "      <th>2674243</th>\n",
       "      <td>98050</td>\n",
       "      <td>20</td>\n",
       "      <td>1EMJ96548238</td>\n",
       "      <td>NaN</td>\n",
       "      <td>WEATHER STRIP A-REAR DOOR LH</td>\n",
       "      <td>P002</td>\n",
       "      <td>1.0</td>\n",
       "      <td>EA</td>\n",
       "      <td>1433.49</td>\n",
       "    </tr>\n",
       "    <tr>\n",
       "      <th>2674244</th>\n",
       "      <td>98050</td>\n",
       "      <td>30</td>\n",
       "      <td>1EMJ96548102</td>\n",
       "      <td>NaN</td>\n",
       "      <td>WEATHER STRIP A-FRONT DOOR LH</td>\n",
       "      <td>P002</td>\n",
       "      <td>1.0</td>\n",
       "      <td>EA</td>\n",
       "      <td>1526.88</td>\n",
       "    </tr>\n",
       "    <tr>\n",
       "      <th>2674245</th>\n",
       "      <td>98050</td>\n",
       "      <td>40</td>\n",
       "      <td>1EMJ96548239</td>\n",
       "      <td>NaN</td>\n",
       "      <td>WEATHER STRIP A-REAR DOOR RH</td>\n",
       "      <td>P002</td>\n",
       "      <td>1.0</td>\n",
       "      <td>EA</td>\n",
       "      <td>1433.49</td>\n",
       "    </tr>\n",
       "    <tr>\n",
       "      <th>2674246</th>\n",
       "      <td>98050</td>\n",
       "      <td>50</td>\n",
       "      <td>1EMJ96548103</td>\n",
       "      <td>NaN</td>\n",
       "      <td>WEATHER STRIP A-FRONT DOOR RH</td>\n",
       "      <td>P002</td>\n",
       "      <td>1.0</td>\n",
       "      <td>EA</td>\n",
       "      <td>1526.88</td>\n",
       "    </tr>\n",
       "  </tbody>\n",
       "</table>\n",
       "</div>"
      ],
      "text/plain": [
       "         DBM Order  Order Item      Material Labor Value Number  \\\n",
       "2674242      98050          10  1EMJ96615412                NaN   \n",
       "2674243      98050          20  1EMJ96548238                NaN   \n",
       "2674244      98050          30  1EMJ96548102                NaN   \n",
       "2674245      98050          40  1EMJ96548239                NaN   \n",
       "2674246      98050          50  1EMJ96548103                NaN   \n",
       "\n",
       "                           Description Item Category  Order Quantity  \\\n",
       "2674242           SWITCH A-A/C CONTROL          P002             1.0   \n",
       "2674243   WEATHER STRIP A-REAR DOOR LH          P002             1.0   \n",
       "2674244  WEATHER STRIP A-FRONT DOOR LH          P002             1.0   \n",
       "2674245   WEATHER STRIP A-REAR DOOR RH          P002             1.0   \n",
       "2674246  WEATHER STRIP A-FRONT DOOR RH          P002             1.0   \n",
       "\n",
       "        Target quantity UoM  Net value  \n",
       "2674242                  EA    5185.92  \n",
       "2674243                  EA    1433.49  \n",
       "2674244                  EA    1526.88  \n",
       "2674245                  EA    1433.49  \n",
       "2674246                  EA    1526.88  "
      ]
     },
     "execution_count": 156,
     "metadata": {},
     "output_type": "execute_result"
    }
   ],
   "source": [
    "jtd[jtd['DBM Order']==98050]"
   ]
  },
  {
   "cell_type": "code",
   "execution_count": 157,
   "metadata": {},
   "outputs": [
    {
     "data": {
      "text/plain": [
       "3604"
      ]
     },
     "execution_count": 157,
     "metadata": {},
     "output_type": "execute_result"
    }
   ],
   "source": [
    "len(jtd['Order Quantity'].unique())"
   ]
  },
  {
   "cell_type": "code",
   "execution_count": 158,
   "metadata": {},
   "outputs": [],
   "source": [
    "aggregation_jtd_dbno={ 'Description' : {'Description' : lambda x: str(set(x)).strip('{}').replace(\"'\",\"\")},\n",
    "                      'Item Category' : {'Item Category' : lambda x: str(set(x)).strip('{}').replace(\"'\",\"\")}, \n",
    "                      'Order Quantity' : {'Order Quantity' : 'sum'},\n",
    "                      'Net value' : {'Net value' : 'sum'} }\n",
    "jtd_grouped = jtd.groupby('DBM Order')['Description','Item Category','Order Quantity','Net value'].agg(aggregation_jtd_dbno).reset_index()"
   ]
  },
  {
   "cell_type": "code",
   "execution_count": 159,
   "metadata": {},
   "outputs": [
    {
     "data": {
      "text/html": [
       "<div>\n",
       "<style scoped>\n",
       "    .dataframe tbody tr th:only-of-type {\n",
       "        vertical-align: middle;\n",
       "    }\n",
       "\n",
       "    .dataframe tbody tr th {\n",
       "        vertical-align: top;\n",
       "    }\n",
       "\n",
       "    .dataframe thead th {\n",
       "        text-align: right;\n",
       "    }\n",
       "</style>\n",
       "<table border=\"1\" class=\"dataframe\">\n",
       "  <thead>\n",
       "    <tr style=\"text-align: right;\">\n",
       "      <th></th>\n",
       "      <th>DBM Order</th>\n",
       "      <th>Description</th>\n",
       "      <th>Item Category</th>\n",
       "      <th>Order Quantity</th>\n",
       "      <th>Net value</th>\n",
       "    </tr>\n",
       "  </thead>\n",
       "  <tbody>\n",
       "    <tr>\n",
       "      <th>0</th>\n",
       "      <td>4</td>\n",
       "      <td>SHELL ENGINE OIL PETROL, VALVE 1-INTAKE, KIT-E...</td>\n",
       "      <td>P001, P011, P002, P010</td>\n",
       "      <td>731.6</td>\n",
       "      <td>16998.49</td>\n",
       "    </tr>\n",
       "    <tr>\n",
       "      <th>1</th>\n",
       "      <td>5</td>\n",
       "      <td>Paid Service-Major, SHELL ENGINE OIL PETROL, M...</td>\n",
       "      <td>P001, P002</td>\n",
       "      <td>290.2</td>\n",
       "      <td>3779.80</td>\n",
       "    </tr>\n",
       "    <tr>\n",
       "      <th>2</th>\n",
       "      <td>6</td>\n",
       "      <td>Paid Service-Minor, MISC LABOR 0.5 HOURS, REPL...</td>\n",
       "      <td>P001</td>\n",
       "      <td>109.0</td>\n",
       "      <td>1340.37</td>\n",
       "    </tr>\n",
       "    <tr>\n",
       "      <th>3</th>\n",
       "      <td>7</td>\n",
       "      <td>MISC LABOR 0.25 HOURS</td>\n",
       "      <td>P001</td>\n",
       "      <td>36.5</td>\n",
       "      <td>167.36</td>\n",
       "    </tr>\n",
       "    <tr>\n",
       "      <th>4</th>\n",
       "      <td>8</td>\n",
       "      <td>DISTILLED WATER, OIL FILTER, REPLACE ENGINE OI...</td>\n",
       "      <td>P001, P002</td>\n",
       "      <td>69.0</td>\n",
       "      <td>2306.94</td>\n",
       "    </tr>\n",
       "  </tbody>\n",
       "</table>\n",
       "</div>"
      ],
      "text/plain": [
       "   DBM Order                                        Description  \\\n",
       "0          4  SHELL ENGINE OIL PETROL, VALVE 1-INTAKE, KIT-E...   \n",
       "1          5  Paid Service-Major, SHELL ENGINE OIL PETROL, M...   \n",
       "2          6  Paid Service-Minor, MISC LABOR 0.5 HOURS, REPL...   \n",
       "3          7                              MISC LABOR 0.25 HOURS   \n",
       "4          8  DISTILLED WATER, OIL FILTER, REPLACE ENGINE OI...   \n",
       "\n",
       "            Item Category  Order Quantity  Net value  \n",
       "0  P001, P011, P002, P010           731.6   16998.49  \n",
       "1              P001, P002           290.2    3779.80  \n",
       "2                    P001           109.0    1340.37  \n",
       "3                    P001            36.5     167.36  \n",
       "4              P001, P002            69.0    2306.94  "
      ]
     },
     "execution_count": 159,
     "metadata": {},
     "output_type": "execute_result"
    }
   ],
   "source": [
    "jtd_grouped.head()"
   ]
  },
  {
   "cell_type": "code",
   "execution_count": 160,
   "metadata": {},
   "outputs": [
    {
     "data": {
      "text/plain": [
       "(973473, 5)"
      ]
     },
     "execution_count": 160,
     "metadata": {},
     "output_type": "execute_result"
    }
   ],
   "source": [
    "jtd_grouped.shape"
   ]
  },
  {
   "cell_type": "code",
   "execution_count": 161,
   "metadata": {},
   "outputs": [
    {
     "data": {
      "text/plain": [
       "MISC_OTHER CHARGES                        270563\n",
       "Paid Service-Minor                        201857\n",
       "WASHING                                   199068\n",
       "Wheel Alignment                           191211\n",
       "OIL FILTER                                154387\n",
       "URANIA SUPREMO CI 4 15W 40                122218\n",
       "MFC PROLEUM CI4/SL 15W40                   92091\n",
       "AIR FILTER                                 80211\n",
       "Wheel Balancing (5 Wheels)                 79970\n",
       "MISC LABOR 0.5 HOURS                       62982\n",
       "General Check up                           62459\n",
       "Paid Service-Major                         60369\n",
       "WINDSHIELD LIQUID WASHER                   55352\n",
       "MISC LABOR 0.25 HOURS                      50143\n",
       "DISTILLED WATER                            46919\n",
       "Interior & Upholstery Cleaning             44864\n",
       "REPLACE BRAKE PAD (BOTH SIDE)              38552\n",
       "PAINTING CHARGES                           34187\n",
       "MISC LABOR 1 HOUR                          33993\n",
       "BALANCE WEIGHT 15GRAM                      31791\n",
       "MISC LABOR 2 HOURS                         31761\n",
       "BALANCE WEIGHT 20 GRAM                     29524\n",
       "BALANCE WEIGHT 25GRAM                      28774\n",
       "CLIP                                       28714\n",
       "BALANCE WEIGHT 10GRAM                      27962\n",
       "ANTIFREEZE COOLANT-GREEN                   27403\n",
       "BALANCE WEIGHT 30GRAM                      26724\n",
       "REPAIRING CHARGES                          23669\n",
       "PROFAR CONCENTRATED ANTIFREEZE COOLANT     22536\n",
       "Brake service - All 4 Wheels               21236\n",
       "FUEL FILTER                                20818\n",
       "BALANCE WEIGHT 35 GRAM                     20798\n",
       "RUST SPRAY                                 20731\n",
       "TIE CLIP                                   19829\n",
       "Clutch Overhaul                            19696\n",
       "Oil Filter-Spin On Petrol                  19610\n",
       "MISC_ON ROAD ASSISTANCE                    18991\n",
       "REPLACE ENGINE OIL & OIL FILTER            18268\n",
       "BRAKE OIL DOT 4                            17929\n",
       "BALANCE WEIGHT 5 GRAM                      17139\n",
       "TUTELA TRANSMISSIONS EPYX 90               16945\n",
       "BALANCE WEIGHT 40GRAM                      16278\n",
       "CLEANING INJECTOR PETROL (EACH)            15436\n",
       "REPLACE COOLANT                            14524\n",
       "Engine Flush                               13900\n",
       "FEVIQUIK 3 GM                              13479\n",
       "MFC PROLEUM GL-4 80W-90 - 26 Ltr           13188\n",
       "BULB 1016(12V 21/5W)                       12619\n",
       "MISC_COST OF WEIGHT (EACH)                 12530\n",
       "TYRE ROTATION                              12529\n",
       "Name: Description, dtype: int64"
      ]
     },
     "execution_count": 161,
     "metadata": {},
     "output_type": "execute_result"
    }
   ],
   "source": [
    "jtd['Description'].value_counts().head(50)"
   ]
  },
  {
   "cell_type": "code",
   "execution_count": 162,
   "metadata": {},
   "outputs": [
    {
     "data": {
      "text/plain": [
       "(5619484, 9)"
      ]
     },
     "execution_count": 162,
     "metadata": {},
     "output_type": "execute_result"
    }
   ],
   "source": [
    "jtd.shape"
   ]
  },
  {
   "cell_type": "code",
   "execution_count": 163,
   "metadata": {},
   "outputs": [
    {
     "data": {
      "text/plain": [
       "DBM Order                    0\n",
       "Order Item                   0\n",
       "Item Category                0\n",
       "Order Quantity               0\n",
       "Net value                    0\n",
       "Material                 51629\n",
       "Description              51629\n",
       "Target quantity UoM      51629\n",
       "Labor Value Number     3774033\n",
       "dtype: int64"
      ]
     },
     "execution_count": 163,
     "metadata": {},
     "output_type": "execute_result"
    }
   ],
   "source": [
    "jtd.isnull().sum().sort_values()"
   ]
  },
  {
   "cell_type": "code",
   "execution_count": 164,
   "metadata": {},
   "outputs": [],
   "source": [
    "#Merge the Data - Merge Invoice and Customer Data on Customer No. Key\n",
    "invoice['Customer No.'] = invoice['Customer No.'].str.lstrip('0')"
   ]
  },
  {
   "cell_type": "code",
   "execution_count": 165,
   "metadata": {},
   "outputs": [],
   "source": [
    "customer['Customer No.'] = customer['Customer No.'].astype(str)"
   ]
  },
  {
   "cell_type": "code",
   "execution_count": 166,
   "metadata": {},
   "outputs": [],
   "source": [
    "invoice_customer = pd.merge(invoice, customer, on='Customer No.')\n",
    "invoice_customer.to_csv('./Data/invoice_customer.csv', index=False)"
   ]
  },
  {
   "cell_type": "code",
   "execution_count": 167,
   "metadata": {},
   "outputs": [
    {
     "data": {
      "text/plain": [
       "((492296, 26), 253480, 555338, 253478)"
      ]
     },
     "execution_count": 167,
     "metadata": {},
     "output_type": "execute_result"
    }
   ],
   "source": [
    "invoice_customer.shape, len(invoice['Customer No.'].unique()), len(customer['Customer No.'].unique()), len(invoice_customer['Customer No.'].unique())"
   ]
  },
  {
   "cell_type": "code",
   "execution_count": 168,
   "metadata": {},
   "outputs": [
    {
     "data": {
      "text/plain": [
       "Cust Type             0\n",
       "Customer No.          0\n",
       "District              0\n",
       "Invoice Date          0\n",
       "Invoice No            0\n",
       "Invoice Time          0\n",
       "Job Card No           0\n",
       "JobCard Date          0\n",
       "JobCard Time          0\n",
       "KMs Reading           0\n",
       "Labour Total          0\n",
       "Make                  0\n",
       "Misc Total            0\n",
       "Model                 0\n",
       "OSL Total             0\n",
       "Order Type            0\n",
       "Parts Total           0\n",
       "Pin code              0\n",
       "Plant                 0\n",
       "Plant Name1           0\n",
       "Regn No               0\n",
       "Total Amt Wtd Tax.    0\n",
       "User ID               0\n",
       "Partner Type          0\n",
       "Data Origin           0\n",
       "Title                 0\n",
       "dtype: int64"
      ]
     },
     "execution_count": 168,
     "metadata": {},
     "output_type": "execute_result"
    }
   ],
   "source": [
    "invoice_customer.isnull().sum()"
   ]
  },
  {
   "cell_type": "code",
   "execution_count": 169,
   "metadata": {},
   "outputs": [
    {
     "data": {
      "text/plain": [
       "(438, 13)"
      ]
     },
     "execution_count": 169,
     "metadata": {},
     "output_type": "execute_result"
    }
   ],
   "source": [
    "#Merge invoice_customer and Plant\n",
    "plant.shape"
   ]
  },
  {
   "cell_type": "code",
   "execution_count": 170,
   "metadata": {},
   "outputs": [
    {
     "data": {
      "text/plain": [
       "(242, 438)"
      ]
     },
     "execution_count": 170,
     "metadata": {},
     "output_type": "execute_result"
    }
   ],
   "source": [
    "len(invoice_customer.Plant.unique()), len(plant.Plant.unique())"
   ]
  },
  {
   "cell_type": "code",
   "execution_count": 171,
   "metadata": {},
   "outputs": [],
   "source": [
    "invoice_customer_plant = pd.merge(invoice_customer, plant, on='Plant')\n",
    "invoice_customer_plant.to_csv('./Data/invoice_customer_plant.csv', index=False)"
   ]
  },
  {
   "cell_type": "code",
   "execution_count": 172,
   "metadata": {},
   "outputs": [
    {
     "data": {
      "text/plain": [
       "(255754, 38)"
      ]
     },
     "execution_count": 172,
     "metadata": {},
     "output_type": "execute_result"
    }
   ],
   "source": [
    "invoice_customer_plant.shape"
   ]
  },
  {
   "cell_type": "code",
   "execution_count": 173,
   "metadata": {},
   "outputs": [
    {
     "data": {
      "text/plain": [
       "Cust Type                       0\n",
       "Customer No.                    0\n",
       "District                        0\n",
       "Invoice Date                    0\n",
       "Invoice No                      0\n",
       "Invoice Time                    0\n",
       "Job Card No                     0\n",
       "JobCard Date                    0\n",
       "JobCard Time                    0\n",
       "KMs Reading                     0\n",
       "Labour Total                    0\n",
       "Make                            0\n",
       "Misc Total                      0\n",
       "Model                           0\n",
       "OSL Total                       0\n",
       "Order Type                      0\n",
       "Parts Total                     0\n",
       "Pin code                        0\n",
       "Plant                           0\n",
       "Plant Name1                     0\n",
       "Regn No                         0\n",
       "Total Amt Wtd Tax.              0\n",
       "User ID                         0\n",
       "Partner Type                    0\n",
       "Data Origin                     0\n",
       "Title                           0\n",
       "Name 1                          0\n",
       "Valuation Area                  0\n",
       "Customer no. - plant            0\n",
       "Vendor number plant        236536\n",
       "Factory calendar                0\n",
       "Name 2                      19218\n",
       "House number and street       191\n",
       "PO Box                          0\n",
       "Postal Code                     0\n",
       "City                            0\n",
       "Sales organization           4265\n",
       "State                           0\n",
       "dtype: int64"
      ]
     },
     "execution_count": 173,
     "metadata": {},
     "output_type": "execute_result"
    }
   ],
   "source": [
    "invoice_customer_plant.isnull().sum()"
   ]
  },
  {
   "cell_type": "code",
   "execution_count": 174,
   "metadata": {},
   "outputs": [
    {
     "data": {
      "text/html": [
       "<div>\n",
       "<style scoped>\n",
       "    .dataframe tbody tr th:only-of-type {\n",
       "        vertical-align: middle;\n",
       "    }\n",
       "\n",
       "    .dataframe tbody tr th {\n",
       "        vertical-align: top;\n",
       "    }\n",
       "\n",
       "    .dataframe thead th {\n",
       "        text-align: right;\n",
       "    }\n",
       "</style>\n",
       "<table border=\"1\" class=\"dataframe\">\n",
       "  <thead>\n",
       "    <tr style=\"text-align: right;\">\n",
       "      <th></th>\n",
       "      <th>Cust Type</th>\n",
       "      <th>Customer No.</th>\n",
       "      <th>District</th>\n",
       "      <th>Invoice Date</th>\n",
       "      <th>Invoice No</th>\n",
       "      <th>Invoice Time</th>\n",
       "      <th>Job Card No</th>\n",
       "      <th>JobCard Date</th>\n",
       "      <th>JobCard Time</th>\n",
       "      <th>KMs Reading</th>\n",
       "      <th>...</th>\n",
       "      <th>Customer no. - plant</th>\n",
       "      <th>Vendor number plant</th>\n",
       "      <th>Factory calendar</th>\n",
       "      <th>Name 2</th>\n",
       "      <th>House number and street</th>\n",
       "      <th>PO Box</th>\n",
       "      <th>Postal Code</th>\n",
       "      <th>City</th>\n",
       "      <th>Sales organization</th>\n",
       "      <th>State</th>\n",
       "    </tr>\n",
       "  </thead>\n",
       "  <tbody>\n",
       "    <tr>\n",
       "      <th>0</th>\n",
       "      <td>Retail</td>\n",
       "      <td>80479</td>\n",
       "      <td>Maharashtra</td>\n",
       "      <td>2015-06-19</td>\n",
       "      <td>7151201169</td>\n",
       "      <td>18:10:34</td>\n",
       "      <td>227460</td>\n",
       "      <td>2015-06-19</td>\n",
       "      <td>13:56:32</td>\n",
       "      <td>65714</td>\n",
       "      <td>...</td>\n",
       "      <td>PLX006</td>\n",
       "      <td>NaN</td>\n",
       "      <td>IN</td>\n",
       "      <td>Mumbai</td>\n",
       "      <td>8, Mira, Behind Ajit Palace Ho</td>\n",
       "      <td>401104.0</td>\n",
       "      <td>401104</td>\n",
       "      <td>Thane</td>\n",
       "      <td>MFCB</td>\n",
       "      <td>Maharashtra</td>\n",
       "    </tr>\n",
       "    <tr>\n",
       "      <th>1</th>\n",
       "      <td>Retail</td>\n",
       "      <td>E15810</td>\n",
       "      <td>Maharashtra</td>\n",
       "      <td>2016-07-20</td>\n",
       "      <td>7151205340</td>\n",
       "      <td>10:26:00</td>\n",
       "      <td>413455</td>\n",
       "      <td>2016-07-18</td>\n",
       "      <td>15:49:34</td>\n",
       "      <td>53903</td>\n",
       "      <td>...</td>\n",
       "      <td>PLX006</td>\n",
       "      <td>NaN</td>\n",
       "      <td>IN</td>\n",
       "      <td>Mumbai</td>\n",
       "      <td>8, Mira, Behind Ajit Palace Ho</td>\n",
       "      <td>401104.0</td>\n",
       "      <td>401104</td>\n",
       "      <td>Thane</td>\n",
       "      <td>MFCB</td>\n",
       "      <td>Maharashtra</td>\n",
       "    </tr>\n",
       "    <tr>\n",
       "      <th>2</th>\n",
       "      <td>Retail</td>\n",
       "      <td>E15810</td>\n",
       "      <td>Maharashtra</td>\n",
       "      <td>2016-09-04</td>\n",
       "      <td>7151205916</td>\n",
       "      <td>11:12:47</td>\n",
       "      <td>446448</td>\n",
       "      <td>2016-08-30</td>\n",
       "      <td>10:10:59</td>\n",
       "      <td>54231</td>\n",
       "      <td>...</td>\n",
       "      <td>PLX006</td>\n",
       "      <td>NaN</td>\n",
       "      <td>IN</td>\n",
       "      <td>Mumbai</td>\n",
       "      <td>8, Mira, Behind Ajit Palace Ho</td>\n",
       "      <td>401104.0</td>\n",
       "      <td>401104</td>\n",
       "      <td>Thane</td>\n",
       "      <td>MFCB</td>\n",
       "      <td>Maharashtra</td>\n",
       "    </tr>\n",
       "    <tr>\n",
       "      <th>3</th>\n",
       "      <td>Retail</td>\n",
       "      <td>73857</td>\n",
       "      <td>Maharashtra</td>\n",
       "      <td>2016-10-28</td>\n",
       "      <td>7151206592</td>\n",
       "      <td>13:17:54</td>\n",
       "      <td>487708</td>\n",
       "      <td>2016-10-18</td>\n",
       "      <td>17:47:35</td>\n",
       "      <td>55118</td>\n",
       "      <td>...</td>\n",
       "      <td>PLX006</td>\n",
       "      <td>NaN</td>\n",
       "      <td>IN</td>\n",
       "      <td>Mumbai</td>\n",
       "      <td>8, Mira, Behind Ajit Palace Ho</td>\n",
       "      <td>401104.0</td>\n",
       "      <td>401104</td>\n",
       "      <td>Thane</td>\n",
       "      <td>MFCB</td>\n",
       "      <td>Maharashtra</td>\n",
       "    </tr>\n",
       "    <tr>\n",
       "      <th>4</th>\n",
       "      <td>Retail</td>\n",
       "      <td>E25519</td>\n",
       "      <td>Maharashtra</td>\n",
       "      <td>2015-05-28</td>\n",
       "      <td>7151201014</td>\n",
       "      <td>18:20:37</td>\n",
       "      <td>220109</td>\n",
       "      <td>2015-05-28</td>\n",
       "      <td>17:57:40</td>\n",
       "      <td>182687</td>\n",
       "      <td>...</td>\n",
       "      <td>PLX006</td>\n",
       "      <td>NaN</td>\n",
       "      <td>IN</td>\n",
       "      <td>Mumbai</td>\n",
       "      <td>8, Mira, Behind Ajit Palace Ho</td>\n",
       "      <td>401104.0</td>\n",
       "      <td>401104</td>\n",
       "      <td>Thane</td>\n",
       "      <td>MFCB</td>\n",
       "      <td>Maharashtra</td>\n",
       "    </tr>\n",
       "  </tbody>\n",
       "</table>\n",
       "<p>5 rows × 38 columns</p>\n",
       "</div>"
      ],
      "text/plain": [
       "  Cust Type Customer No.     District Invoice Date  Invoice No Invoice Time  \\\n",
       "0    Retail        80479  Maharashtra   2015-06-19  7151201169     18:10:34   \n",
       "1    Retail       E15810  Maharashtra   2016-07-20  7151205340     10:26:00   \n",
       "2    Retail       E15810  Maharashtra   2016-09-04  7151205916     11:12:47   \n",
       "3    Retail        73857  Maharashtra   2016-10-28  7151206592     13:17:54   \n",
       "4    Retail       E25519  Maharashtra   2015-05-28  7151201014     18:20:37   \n",
       "\n",
       "   Job Card No JobCard Date JobCard Time  KMs Reading  ...  \\\n",
       "0       227460   2015-06-19     13:56:32        65714  ...   \n",
       "1       413455   2016-07-18     15:49:34        53903  ...   \n",
       "2       446448   2016-08-30     10:10:59        54231  ...   \n",
       "3       487708   2016-10-18     17:47:35        55118  ...   \n",
       "4       220109   2015-05-28     17:57:40       182687  ...   \n",
       "\n",
       "   Customer no. - plant Vendor number plant  Factory calendar  Name 2  \\\n",
       "0                PLX006                 NaN                IN  Mumbai   \n",
       "1                PLX006                 NaN                IN  Mumbai   \n",
       "2                PLX006                 NaN                IN  Mumbai   \n",
       "3                PLX006                 NaN                IN  Mumbai   \n",
       "4                PLX006                 NaN                IN  Mumbai   \n",
       "\n",
       "          House number and street    PO Box  Postal Code   City  \\\n",
       "0  8, Mira, Behind Ajit Palace Ho  401104.0       401104  Thane   \n",
       "1  8, Mira, Behind Ajit Palace Ho  401104.0       401104  Thane   \n",
       "2  8, Mira, Behind Ajit Palace Ho  401104.0       401104  Thane   \n",
       "3  8, Mira, Behind Ajit Palace Ho  401104.0       401104  Thane   \n",
       "4  8, Mira, Behind Ajit Palace Ho  401104.0       401104  Thane   \n",
       "\n",
       "  Sales organization        State  \n",
       "0               MFCB  Maharashtra  \n",
       "1               MFCB  Maharashtra  \n",
       "2               MFCB  Maharashtra  \n",
       "3               MFCB  Maharashtra  \n",
       "4               MFCB  Maharashtra  \n",
       "\n",
       "[5 rows x 38 columns]"
      ]
     },
     "execution_count": 174,
     "metadata": {},
     "output_type": "execute_result"
    }
   ],
   "source": [
    "#Prepare Data for Clustering after cleaning merged data\n",
    "invoice_customer_plant.head()"
   ]
  },
  {
   "cell_type": "code",
   "execution_count": 175,
   "metadata": {},
   "outputs": [
    {
     "data": {
      "text/plain": [
       "(255754, 38)"
      ]
     },
     "execution_count": 175,
     "metadata": {},
     "output_type": "execute_result"
    }
   ],
   "source": [
    "invoice_customer_plant.shape"
   ]
  },
  {
   "cell_type": "code",
   "execution_count": 176,
   "metadata": {},
   "outputs": [
    {
     "data": {
      "text/html": [
       "<div>\n",
       "<style scoped>\n",
       "    .dataframe tbody tr th:only-of-type {\n",
       "        vertical-align: middle;\n",
       "    }\n",
       "\n",
       "    .dataframe tbody tr th {\n",
       "        vertical-align: top;\n",
       "    }\n",
       "\n",
       "    .dataframe thead th {\n",
       "        text-align: right;\n",
       "    }\n",
       "</style>\n",
       "<table border=\"1\" class=\"dataframe\">\n",
       "  <thead>\n",
       "    <tr style=\"text-align: right;\">\n",
       "      <th></th>\n",
       "      <th>Invoice No</th>\n",
       "      <th>Job Card No</th>\n",
       "      <th>KMs Reading</th>\n",
       "      <th>Labour Total</th>\n",
       "      <th>Misc Total</th>\n",
       "      <th>OSL Total</th>\n",
       "      <th>Parts Total</th>\n",
       "      <th>Pin code</th>\n",
       "      <th>Total Amt Wtd Tax.</th>\n",
       "      <th>Partner Type</th>\n",
       "      <th>Title</th>\n",
       "      <th>PO Box</th>\n",
       "      <th>Postal Code</th>\n",
       "    </tr>\n",
       "  </thead>\n",
       "  <tbody>\n",
       "    <tr>\n",
       "      <th>count</th>\n",
       "      <td>2.557540e+05</td>\n",
       "      <td>255754.000000</td>\n",
       "      <td>2.557540e+05</td>\n",
       "      <td>255754.000000</td>\n",
       "      <td>255754.000000</td>\n",
       "      <td>255754.000000</td>\n",
       "      <td>255754.000000</td>\n",
       "      <td>255754.000000</td>\n",
       "      <td>255754.000000</td>\n",
       "      <td>255754.000000</td>\n",
       "      <td>255754.000000</td>\n",
       "      <td>255754.000000</td>\n",
       "      <td>255754.000000</td>\n",
       "    </tr>\n",
       "    <tr>\n",
       "      <th>mean</th>\n",
       "      <td>7.154316e+09</td>\n",
       "      <td>348892.072120</td>\n",
       "      <td>8.454848e+04</td>\n",
       "      <td>1647.134252</td>\n",
       "      <td>196.013643</td>\n",
       "      <td>147.131363</td>\n",
       "      <td>2315.776703</td>\n",
       "      <td>482079.179098</td>\n",
       "      <td>4306.055961</td>\n",
       "      <td>1.459883</td>\n",
       "      <td>1.961655</td>\n",
       "      <td>488206.388346</td>\n",
       "      <td>488208.955915</td>\n",
       "    </tr>\n",
       "    <tr>\n",
       "      <th>std</th>\n",
       "      <td>4.901045e+07</td>\n",
       "      <td>102284.060465</td>\n",
       "      <td>1.412618e+05</td>\n",
       "      <td>4858.893926</td>\n",
       "      <td>1877.049774</td>\n",
       "      <td>1502.267100</td>\n",
       "      <td>8192.674795</td>\n",
       "      <td>172344.322657</td>\n",
       "      <td>11677.718916</td>\n",
       "      <td>64.170792</td>\n",
       "      <td>0.192029</td>\n",
       "      <td>164190.195447</td>\n",
       "      <td>164193.412429</td>\n",
       "    </tr>\n",
       "    <tr>\n",
       "      <th>min</th>\n",
       "      <td>7.000000e+09</td>\n",
       "      <td>119.000000</td>\n",
       "      <td>1.000000e+00</td>\n",
       "      <td>-137.000000</td>\n",
       "      <td>-0.010000</td>\n",
       "      <td>0.000000</td>\n",
       "      <td>-0.010000</td>\n",
       "      <td>0.000000</td>\n",
       "      <td>-137.000000</td>\n",
       "      <td>1.000000</td>\n",
       "      <td>1.000000</td>\n",
       "      <td>123001.000000</td>\n",
       "      <td>123001.000000</td>\n",
       "    </tr>\n",
       "    <tr>\n",
       "      <th>25%</th>\n",
       "      <td>7.153601e+09</td>\n",
       "      <td>280215.750000</td>\n",
       "      <td>3.534250e+04</td>\n",
       "      <td>1.010000</td>\n",
       "      <td>0.000000</td>\n",
       "      <td>0.000000</td>\n",
       "      <td>0.000000</td>\n",
       "      <td>401107.000000</td>\n",
       "      <td>250.430000</td>\n",
       "      <td>1.000000</td>\n",
       "      <td>2.000000</td>\n",
       "      <td>410501.000000</td>\n",
       "      <td>410501.000000</td>\n",
       "    </tr>\n",
       "    <tr>\n",
       "      <th>50%</th>\n",
       "      <td>7.160202e+09</td>\n",
       "      <td>363786.500000</td>\n",
       "      <td>6.386600e+04</td>\n",
       "      <td>446.940000</td>\n",
       "      <td>0.000000</td>\n",
       "      <td>0.000000</td>\n",
       "      <td>108.285000</td>\n",
       "      <td>560067.000000</td>\n",
       "      <td>1161.540000</td>\n",
       "      <td>1.000000</td>\n",
       "      <td>2.000000</td>\n",
       "      <td>560037.000000</td>\n",
       "      <td>560037.000000</td>\n",
       "    </tr>\n",
       "    <tr>\n",
       "      <th>75%</th>\n",
       "      <td>7.175002e+09</td>\n",
       "      <td>431837.750000</td>\n",
       "      <td>1.001878e+05</td>\n",
       "      <td>1366.935000</td>\n",
       "      <td>0.000000</td>\n",
       "      <td>0.000000</td>\n",
       "      <td>2045.140000</td>\n",
       "      <td>608003.000000</td>\n",
       "      <td>4085.360000</td>\n",
       "      <td>1.000000</td>\n",
       "      <td>2.000000</td>\n",
       "      <td>610001.000000</td>\n",
       "      <td>610001.000000</td>\n",
       "    </tr>\n",
       "    <tr>\n",
       "      <th>max</th>\n",
       "      <td>7.241600e+09</td>\n",
       "      <td>499962.000000</td>\n",
       "      <td>9.999999e+06</td>\n",
       "      <td>323000.000000</td>\n",
       "      <td>350000.000000</td>\n",
       "      <td>88555.310000</td>\n",
       "      <td>598003.480000</td>\n",
       "      <td>999999.000000</td>\n",
       "      <td>648203.490000</td>\n",
       "      <td>9003.000000</td>\n",
       "      <td>2.000000</td>\n",
       "      <td>851134.000000</td>\n",
       "      <td>851134.000000</td>\n",
       "    </tr>\n",
       "  </tbody>\n",
       "</table>\n",
       "</div>"
      ],
      "text/plain": [
       "         Invoice No    Job Card No   KMs Reading   Labour Total  \\\n",
       "count  2.557540e+05  255754.000000  2.557540e+05  255754.000000   \n",
       "mean   7.154316e+09  348892.072120  8.454848e+04    1647.134252   \n",
       "std    4.901045e+07  102284.060465  1.412618e+05    4858.893926   \n",
       "min    7.000000e+09     119.000000  1.000000e+00    -137.000000   \n",
       "25%    7.153601e+09  280215.750000  3.534250e+04       1.010000   \n",
       "50%    7.160202e+09  363786.500000  6.386600e+04     446.940000   \n",
       "75%    7.175002e+09  431837.750000  1.001878e+05    1366.935000   \n",
       "max    7.241600e+09  499962.000000  9.999999e+06  323000.000000   \n",
       "\n",
       "          Misc Total      OSL Total    Parts Total       Pin code  \\\n",
       "count  255754.000000  255754.000000  255754.000000  255754.000000   \n",
       "mean      196.013643     147.131363    2315.776703  482079.179098   \n",
       "std      1877.049774    1502.267100    8192.674795  172344.322657   \n",
       "min        -0.010000       0.000000      -0.010000       0.000000   \n",
       "25%         0.000000       0.000000       0.000000  401107.000000   \n",
       "50%         0.000000       0.000000     108.285000  560067.000000   \n",
       "75%         0.000000       0.000000    2045.140000  608003.000000   \n",
       "max    350000.000000   88555.310000  598003.480000  999999.000000   \n",
       "\n",
       "       Total Amt Wtd Tax.   Partner Type          Title         PO Box  \\\n",
       "count       255754.000000  255754.000000  255754.000000  255754.000000   \n",
       "mean          4306.055961       1.459883       1.961655  488206.388346   \n",
       "std          11677.718916      64.170792       0.192029  164190.195447   \n",
       "min           -137.000000       1.000000       1.000000  123001.000000   \n",
       "25%            250.430000       1.000000       2.000000  410501.000000   \n",
       "50%           1161.540000       1.000000       2.000000  560037.000000   \n",
       "75%           4085.360000       1.000000       2.000000  610001.000000   \n",
       "max         648203.490000    9003.000000       2.000000  851134.000000   \n",
       "\n",
       "         Postal Code  \n",
       "count  255754.000000  \n",
       "mean   488208.955915  \n",
       "std    164193.412429  \n",
       "min    123001.000000  \n",
       "25%    410501.000000  \n",
       "50%    560037.000000  \n",
       "75%    610001.000000  \n",
       "max    851134.000000  "
      ]
     },
     "execution_count": 176,
     "metadata": {},
     "output_type": "execute_result"
    }
   ],
   "source": [
    "invoice_customer_plant.describe()"
   ]
  },
  {
   "cell_type": "code",
   "execution_count": 177,
   "metadata": {},
   "outputs": [
    {
     "data": {
      "text/plain": [
       "((255754, 38),\n",
       " Index(['Cust Type', 'Customer No.', 'District', 'Invoice Date', 'Invoice No',\n",
       "        'Invoice Time', 'Job Card No', 'JobCard Date', 'JobCard Time',\n",
       "        'KMs Reading', 'Labour Total', 'Make', 'Misc Total', 'Model',\n",
       "        'OSL Total', 'Order Type', 'Parts Total', 'Pin code', 'Plant',\n",
       "        'Plant Name1', 'Regn No', 'Total Amt Wtd Tax.', 'User ID',\n",
       "        'Partner Type', 'Data Origin', 'Title', 'Name 1', 'Valuation Area',\n",
       "        'Customer no. - plant', 'Vendor number plant', 'Factory calendar',\n",
       "        'Name 2', 'House number and street', 'PO Box', 'Postal Code', 'City',\n",
       "        'Sales organization', 'State'],\n",
       "       dtype='object'))"
      ]
     },
     "execution_count": 177,
     "metadata": {},
     "output_type": "execute_result"
    }
   ],
   "source": [
    "invoice_customer_plant.shape, invoice_customer_plant.columns"
   ]
  },
  {
   "cell_type": "code",
   "execution_count": 178,
   "metadata": {},
   "outputs": [],
   "source": [
    "invoice_customer_plant['Invoice Date'] = pd.to_datetime(invoice_customer_plant['Invoice Date'])"
   ]
  },
  {
   "cell_type": "code",
   "execution_count": 179,
   "metadata": {},
   "outputs": [],
   "source": [
    "invoice_customer_plant['Invoice Date Time'] = invoice_customer_plant['Invoice Date'].astype(str).str.cat(invoice_customer_plant[['Invoice Time']].astype(str),sep=' ')"
   ]
  },
  {
   "cell_type": "code",
   "execution_count": 180,
   "metadata": {},
   "outputs": [],
   "source": [
    "invoice_customer_plant['JobCard Date'] =  pd.to_datetime(invoice_customer_plant['JobCard Date'])"
   ]
  },
  {
   "cell_type": "code",
   "execution_count": 181,
   "metadata": {},
   "outputs": [],
   "source": [
    "invoice_customer_plant['JobCard Date Time'] = invoice_customer_plant['JobCard Date'].astype(str).str.cat(invoice_customer_plant[['JobCard Time']].astype(str), sep=' ')"
   ]
  },
  {
   "cell_type": "code",
   "execution_count": 182,
   "metadata": {},
   "outputs": [
    {
     "data": {
      "text/html": [
       "<div>\n",
       "<style scoped>\n",
       "    .dataframe tbody tr th:only-of-type {\n",
       "        vertical-align: middle;\n",
       "    }\n",
       "\n",
       "    .dataframe tbody tr th {\n",
       "        vertical-align: top;\n",
       "    }\n",
       "\n",
       "    .dataframe thead th {\n",
       "        text-align: right;\n",
       "    }\n",
       "</style>\n",
       "<table border=\"1\" class=\"dataframe\">\n",
       "  <thead>\n",
       "    <tr style=\"text-align: right;\">\n",
       "      <th></th>\n",
       "      <th>JobCard Date Time</th>\n",
       "      <th>JobCard Date</th>\n",
       "      <th>JobCard Time</th>\n",
       "    </tr>\n",
       "  </thead>\n",
       "  <tbody>\n",
       "    <tr>\n",
       "      <th>0</th>\n",
       "      <td>2015-06-19 13:56:32</td>\n",
       "      <td>2015-06-19</td>\n",
       "      <td>13:56:32</td>\n",
       "    </tr>\n",
       "    <tr>\n",
       "      <th>1</th>\n",
       "      <td>2016-07-18 15:49:34</td>\n",
       "      <td>2016-07-18</td>\n",
       "      <td>15:49:34</td>\n",
       "    </tr>\n",
       "    <tr>\n",
       "      <th>2</th>\n",
       "      <td>2016-08-30 10:10:59</td>\n",
       "      <td>2016-08-30</td>\n",
       "      <td>10:10:59</td>\n",
       "    </tr>\n",
       "    <tr>\n",
       "      <th>3</th>\n",
       "      <td>2016-10-18 17:47:35</td>\n",
       "      <td>2016-10-18</td>\n",
       "      <td>17:47:35</td>\n",
       "    </tr>\n",
       "    <tr>\n",
       "      <th>4</th>\n",
       "      <td>2015-05-28 17:57:40</td>\n",
       "      <td>2015-05-28</td>\n",
       "      <td>17:57:40</td>\n",
       "    </tr>\n",
       "  </tbody>\n",
       "</table>\n",
       "</div>"
      ],
      "text/plain": [
       "     JobCard Date Time JobCard Date JobCard Time\n",
       "0  2015-06-19 13:56:32   2015-06-19     13:56:32\n",
       "1  2016-07-18 15:49:34   2016-07-18     15:49:34\n",
       "2  2016-08-30 10:10:59   2016-08-30     10:10:59\n",
       "3  2016-10-18 17:47:35   2016-10-18     17:47:35\n",
       "4  2015-05-28 17:57:40   2015-05-28     17:57:40"
      ]
     },
     "execution_count": 182,
     "metadata": {},
     "output_type": "execute_result"
    }
   ],
   "source": [
    "invoice_customer_plant.loc[:, ['JobCard Date Time', 'JobCard Date','JobCard Time']].head()"
   ]
  },
  {
   "cell_type": "code",
   "execution_count": 183,
   "metadata": {},
   "outputs": [
    {
     "data": {
      "text/html": [
       "<div>\n",
       "<style scoped>\n",
       "    .dataframe tbody tr th:only-of-type {\n",
       "        vertical-align: middle;\n",
       "    }\n",
       "\n",
       "    .dataframe tbody tr th {\n",
       "        vertical-align: top;\n",
       "    }\n",
       "\n",
       "    .dataframe thead th {\n",
       "        text-align: right;\n",
       "    }\n",
       "</style>\n",
       "<table border=\"1\" class=\"dataframe\">\n",
       "  <thead>\n",
       "    <tr style=\"text-align: right;\">\n",
       "      <th></th>\n",
       "      <th>Invoice Date Time</th>\n",
       "      <th>Invoice Date</th>\n",
       "      <th>Invoice Time</th>\n",
       "    </tr>\n",
       "  </thead>\n",
       "  <tbody>\n",
       "    <tr>\n",
       "      <th>0</th>\n",
       "      <td>2015-06-19 18:10:34</td>\n",
       "      <td>2015-06-19</td>\n",
       "      <td>18:10:34</td>\n",
       "    </tr>\n",
       "    <tr>\n",
       "      <th>1</th>\n",
       "      <td>2016-07-20 10:26:00</td>\n",
       "      <td>2016-07-20</td>\n",
       "      <td>10:26:00</td>\n",
       "    </tr>\n",
       "    <tr>\n",
       "      <th>2</th>\n",
       "      <td>2016-09-04 11:12:47</td>\n",
       "      <td>2016-09-04</td>\n",
       "      <td>11:12:47</td>\n",
       "    </tr>\n",
       "    <tr>\n",
       "      <th>3</th>\n",
       "      <td>2016-10-28 13:17:54</td>\n",
       "      <td>2016-10-28</td>\n",
       "      <td>13:17:54</td>\n",
       "    </tr>\n",
       "    <tr>\n",
       "      <th>4</th>\n",
       "      <td>2015-05-28 18:20:37</td>\n",
       "      <td>2015-05-28</td>\n",
       "      <td>18:20:37</td>\n",
       "    </tr>\n",
       "  </tbody>\n",
       "</table>\n",
       "</div>"
      ],
      "text/plain": [
       "     Invoice Date Time Invoice Date Invoice Time\n",
       "0  2015-06-19 18:10:34   2015-06-19     18:10:34\n",
       "1  2016-07-20 10:26:00   2016-07-20     10:26:00\n",
       "2  2016-09-04 11:12:47   2016-09-04     11:12:47\n",
       "3  2016-10-28 13:17:54   2016-10-28     13:17:54\n",
       "4  2015-05-28 18:20:37   2015-05-28     18:20:37"
      ]
     },
     "execution_count": 183,
     "metadata": {},
     "output_type": "execute_result"
    }
   ],
   "source": [
    "invoice_customer_plant.loc[:, ['Invoice Date Time', 'Invoice Date','Invoice Time']].head()"
   ]
  },
  {
   "cell_type": "code",
   "execution_count": 184,
   "metadata": {},
   "outputs": [],
   "source": [
    "invoice_customer_plant['Invoice Date Time'] = pd.to_datetime(invoice_customer_plant['Invoice Date Time'])"
   ]
  },
  {
   "cell_type": "code",
   "execution_count": 185,
   "metadata": {},
   "outputs": [],
   "source": [
    "invoice_customer_plant['JobCard Date Time'] = pd.to_datetime(invoice_customer_plant['JobCard Date Time'])"
   ]
  },
  {
   "cell_type": "code",
   "execution_count": 186,
   "metadata": {},
   "outputs": [],
   "source": [
    "invoice_customer_plant['ServiceTime'] = invoice_customer_plant['Invoice Date Time']-invoice_customer_plant['JobCard Date Time']"
   ]
  },
  {
   "cell_type": "code",
   "execution_count": 187,
   "metadata": {},
   "outputs": [
    {
     "data": {
      "text/html": [
       "<div>\n",
       "<style scoped>\n",
       "    .dataframe tbody tr th:only-of-type {\n",
       "        vertical-align: middle;\n",
       "    }\n",
       "\n",
       "    .dataframe tbody tr th {\n",
       "        vertical-align: top;\n",
       "    }\n",
       "\n",
       "    .dataframe thead th {\n",
       "        text-align: right;\n",
       "    }\n",
       "</style>\n",
       "<table border=\"1\" class=\"dataframe\">\n",
       "  <thead>\n",
       "    <tr style=\"text-align: right;\">\n",
       "      <th></th>\n",
       "      <th>ServiceTime</th>\n",
       "    </tr>\n",
       "  </thead>\n",
       "  <tbody>\n",
       "    <tr>\n",
       "      <th>0</th>\n",
       "      <td>0 days 04:14:02</td>\n",
       "    </tr>\n",
       "    <tr>\n",
       "      <th>1</th>\n",
       "      <td>1 days 18:36:26</td>\n",
       "    </tr>\n",
       "    <tr>\n",
       "      <th>2</th>\n",
       "      <td>5 days 01:01:48</td>\n",
       "    </tr>\n",
       "    <tr>\n",
       "      <th>3</th>\n",
       "      <td>9 days 19:30:19</td>\n",
       "    </tr>\n",
       "    <tr>\n",
       "      <th>4</th>\n",
       "      <td>0 days 00:22:57</td>\n",
       "    </tr>\n",
       "  </tbody>\n",
       "</table>\n",
       "</div>"
      ],
      "text/plain": [
       "      ServiceTime\n",
       "0 0 days 04:14:02\n",
       "1 1 days 18:36:26\n",
       "2 5 days 01:01:48\n",
       "3 9 days 19:30:19\n",
       "4 0 days 00:22:57"
      ]
     },
     "execution_count": 187,
     "metadata": {},
     "output_type": "execute_result"
    }
   ],
   "source": [
    "invoice_customer_plant.loc[:, ['ServiceTime']].head()"
   ]
  },
  {
   "cell_type": "code",
   "execution_count": 188,
   "metadata": {},
   "outputs": [
    {
     "data": {
      "text/html": [
       "<div>\n",
       "<style scoped>\n",
       "    .dataframe tbody tr th:only-of-type {\n",
       "        vertical-align: middle;\n",
       "    }\n",
       "\n",
       "    .dataframe tbody tr th {\n",
       "        vertical-align: top;\n",
       "    }\n",
       "\n",
       "    .dataframe thead th {\n",
       "        text-align: right;\n",
       "    }\n",
       "</style>\n",
       "<table border=\"1\" class=\"dataframe\">\n",
       "  <thead>\n",
       "    <tr style=\"text-align: right;\">\n",
       "      <th></th>\n",
       "      <th>ServiceTime</th>\n",
       "    </tr>\n",
       "  </thead>\n",
       "  <tbody>\n",
       "    <tr>\n",
       "      <th>count</th>\n",
       "      <td>255754</td>\n",
       "    </tr>\n",
       "    <tr>\n",
       "      <th>mean</th>\n",
       "      <td>4 days 06:36:08.553336</td>\n",
       "    </tr>\n",
       "    <tr>\n",
       "      <th>std</th>\n",
       "      <td>12 days 18:05:19.842755</td>\n",
       "    </tr>\n",
       "    <tr>\n",
       "      <th>min</th>\n",
       "      <td>-1 days +23:59:27</td>\n",
       "    </tr>\n",
       "    <tr>\n",
       "      <th>25%</th>\n",
       "      <td>0 days 01:54:30</td>\n",
       "    </tr>\n",
       "    <tr>\n",
       "      <th>50%</th>\n",
       "      <td>0 days 08:08:20.500000</td>\n",
       "    </tr>\n",
       "    <tr>\n",
       "      <th>75%</th>\n",
       "      <td>3 days 01:43:06.500000</td>\n",
       "    </tr>\n",
       "    <tr>\n",
       "      <th>max</th>\n",
       "      <td>495 days 03:25:24</td>\n",
       "    </tr>\n",
       "  </tbody>\n",
       "</table>\n",
       "</div>"
      ],
      "text/plain": [
       "                   ServiceTime\n",
       "count                   255754\n",
       "mean    4 days 06:36:08.553336\n",
       "std    12 days 18:05:19.842755\n",
       "min          -1 days +23:59:27\n",
       "25%            0 days 01:54:30\n",
       "50%     0 days 08:08:20.500000\n",
       "75%     3 days 01:43:06.500000\n",
       "max          495 days 03:25:24"
      ]
     },
     "execution_count": 188,
     "metadata": {},
     "output_type": "execute_result"
    }
   ],
   "source": [
    "invoice_customer_plant.loc[:, ['ServiceTime']].describe()"
   ]
  },
  {
   "cell_type": "code",
   "execution_count": 189,
   "metadata": {},
   "outputs": [],
   "source": [
    "invoice_customer_plant = invoice_customer_plant.loc[invoice_customer_plant['ServiceTime']>pd.Timedelta(hours=0),:]"
   ]
  },
  {
   "cell_type": "code",
   "execution_count": 190,
   "metadata": {},
   "outputs": [
    {
     "data": {
      "text/html": [
       "<div>\n",
       "<style scoped>\n",
       "    .dataframe tbody tr th:only-of-type {\n",
       "        vertical-align: middle;\n",
       "    }\n",
       "\n",
       "    .dataframe tbody tr th {\n",
       "        vertical-align: top;\n",
       "    }\n",
       "\n",
       "    .dataframe thead th {\n",
       "        text-align: right;\n",
       "    }\n",
       "</style>\n",
       "<table border=\"1\" class=\"dataframe\">\n",
       "  <thead>\n",
       "    <tr style=\"text-align: right;\">\n",
       "      <th></th>\n",
       "      <th>ServiceTime</th>\n",
       "    </tr>\n",
       "  </thead>\n",
       "  <tbody>\n",
       "    <tr>\n",
       "      <th>count</th>\n",
       "      <td>255753</td>\n",
       "    </tr>\n",
       "    <tr>\n",
       "      <th>mean</th>\n",
       "      <td>4 days 06:36:09.997704</td>\n",
       "    </tr>\n",
       "    <tr>\n",
       "      <th>std</th>\n",
       "      <td>12 days 18:05:21.754925</td>\n",
       "    </tr>\n",
       "    <tr>\n",
       "      <th>min</th>\n",
       "      <td>0 days 00:00:36</td>\n",
       "    </tr>\n",
       "    <tr>\n",
       "      <th>25%</th>\n",
       "      <td>0 days 01:54:30</td>\n",
       "    </tr>\n",
       "    <tr>\n",
       "      <th>50%</th>\n",
       "      <td>0 days 08:08:21</td>\n",
       "    </tr>\n",
       "    <tr>\n",
       "      <th>75%</th>\n",
       "      <td>3 days 01:43:08</td>\n",
       "    </tr>\n",
       "    <tr>\n",
       "      <th>max</th>\n",
       "      <td>495 days 03:25:24</td>\n",
       "    </tr>\n",
       "  </tbody>\n",
       "</table>\n",
       "</div>"
      ],
      "text/plain": [
       "                   ServiceTime\n",
       "count                   255753\n",
       "mean    4 days 06:36:09.997704\n",
       "std    12 days 18:05:21.754925\n",
       "min            0 days 00:00:36\n",
       "25%            0 days 01:54:30\n",
       "50%            0 days 08:08:21\n",
       "75%            3 days 01:43:08\n",
       "max          495 days 03:25:24"
      ]
     },
     "execution_count": 190,
     "metadata": {},
     "output_type": "execute_result"
    }
   ],
   "source": [
    "invoice_customer_plant.loc[:, ['ServiceTime']].describe()"
   ]
  },
  {
   "cell_type": "code",
   "execution_count": 191,
   "metadata": {},
   "outputs": [],
   "source": [
    "invoice_customer_plant['ServiceTime_category']=None\n",
    "invoice_customer_plant.loc[invoice_customer_plant['ServiceTime']<pd.Timedelta(hours=13),'ServiceTime_category']='super_fast'\n",
    "invoice_customer_plant.loc[(invoice_customer_plant['ServiceTime']>=pd.Timedelta(hours=13))&(invoice_customer_plant['ServiceTime']<pd.Timedelta(hours=36)),'ServiceTime_category']='fast'\n",
    "invoice_customer_plant.loc[(invoice_customer_plant['ServiceTime']>=pd.Timedelta(hours=36))&(invoice_customer_plant['ServiceTime']<pd.Timedelta(hours=61)),'ServiceTime_category']='mid'\n",
    "invoice_customer_plant.loc[(invoice_customer_plant['ServiceTime']>=pd.Timedelta(hours=61))&(invoice_customer_plant['ServiceTime']<pd.Timedelta(hours=84)),'ServiceTime_category']='slow'\n",
    "invoice_customer_plant.loc[invoice_customer_plant['ServiceTime']>=pd.Timedelta(hours=84),'ServiceTime_category']='super_slow'"
   ]
  },
  {
   "cell_type": "code",
   "execution_count": 192,
   "metadata": {},
   "outputs": [],
   "source": [
    "#'Invoice Date Time' - Have not dropped this for calculating Cx Recency\n",
    "invoice_customer_plant.drop(columns=['Invoice Time', 'Invoice Date Time', 'Invoice No', 'JobCard Date', 'JobCard Time', 'KMs Reading', 'Pin code', 'Plant', 'Plant Name1', 'User ID', 'Name 1', 'Postal Code', 'State', 'JobCard Date Time', 'ServiceTime'], inplace=True)"
   ]
  },
  {
   "cell_type": "code",
   "execution_count": 193,
   "metadata": {},
   "outputs": [
    {
     "data": {
      "text/html": [
       "<div>\n",
       "<style scoped>\n",
       "    .dataframe tbody tr th:only-of-type {\n",
       "        vertical-align: middle;\n",
       "    }\n",
       "\n",
       "    .dataframe tbody tr th {\n",
       "        vertical-align: top;\n",
       "    }\n",
       "\n",
       "    .dataframe thead th {\n",
       "        text-align: right;\n",
       "    }\n",
       "</style>\n",
       "<table border=\"1\" class=\"dataframe\">\n",
       "  <thead>\n",
       "    <tr style=\"text-align: right;\">\n",
       "      <th></th>\n",
       "      <th>Cust Type</th>\n",
       "      <th>Customer No.</th>\n",
       "      <th>District</th>\n",
       "      <th>Invoice Date</th>\n",
       "      <th>Job Card No</th>\n",
       "      <th>Labour Total</th>\n",
       "      <th>Make</th>\n",
       "      <th>Misc Total</th>\n",
       "      <th>Model</th>\n",
       "      <th>OSL Total</th>\n",
       "      <th>...</th>\n",
       "      <th>Valuation Area</th>\n",
       "      <th>Customer no. - plant</th>\n",
       "      <th>Vendor number plant</th>\n",
       "      <th>Factory calendar</th>\n",
       "      <th>Name 2</th>\n",
       "      <th>House number and street</th>\n",
       "      <th>PO Box</th>\n",
       "      <th>City</th>\n",
       "      <th>Sales organization</th>\n",
       "      <th>ServiceTime_category</th>\n",
       "    </tr>\n",
       "  </thead>\n",
       "  <tbody>\n",
       "    <tr>\n",
       "      <th>0</th>\n",
       "      <td>Retail</td>\n",
       "      <td>80479</td>\n",
       "      <td>Maharashtra</td>\n",
       "      <td>2015-06-19</td>\n",
       "      <td>227460</td>\n",
       "      <td>1802.05</td>\n",
       "      <td>FORD</td>\n",
       "      <td>0.0</td>\n",
       "      <td>FIESTA</td>\n",
       "      <td>0.0</td>\n",
       "      <td>...</td>\n",
       "      <td>X006</td>\n",
       "      <td>PLX006</td>\n",
       "      <td>NaN</td>\n",
       "      <td>IN</td>\n",
       "      <td>Mumbai</td>\n",
       "      <td>8, Mira, Behind Ajit Palace Ho</td>\n",
       "      <td>401104.0</td>\n",
       "      <td>Thane</td>\n",
       "      <td>MFCB</td>\n",
       "      <td>super_fast</td>\n",
       "    </tr>\n",
       "    <tr>\n",
       "      <th>1</th>\n",
       "      <td>Retail</td>\n",
       "      <td>E15810</td>\n",
       "      <td>Maharashtra</td>\n",
       "      <td>2016-07-20</td>\n",
       "      <td>413455</td>\n",
       "      <td>2874.80</td>\n",
       "      <td>MARUTI SUZUKI</td>\n",
       "      <td>0.0</td>\n",
       "      <td>SWIFT</td>\n",
       "      <td>0.0</td>\n",
       "      <td>...</td>\n",
       "      <td>X006</td>\n",
       "      <td>PLX006</td>\n",
       "      <td>NaN</td>\n",
       "      <td>IN</td>\n",
       "      <td>Mumbai</td>\n",
       "      <td>8, Mira, Behind Ajit Palace Ho</td>\n",
       "      <td>401104.0</td>\n",
       "      <td>Thane</td>\n",
       "      <td>MFCB</td>\n",
       "      <td>mid</td>\n",
       "    </tr>\n",
       "    <tr>\n",
       "      <th>2</th>\n",
       "      <td>Retail</td>\n",
       "      <td>E15810</td>\n",
       "      <td>Maharashtra</td>\n",
       "      <td>2016-09-04</td>\n",
       "      <td>446448</td>\n",
       "      <td>2799.96</td>\n",
       "      <td>MARUTI SUZUKI</td>\n",
       "      <td>0.0</td>\n",
       "      <td>SWIFT</td>\n",
       "      <td>0.0</td>\n",
       "      <td>...</td>\n",
       "      <td>X006</td>\n",
       "      <td>PLX006</td>\n",
       "      <td>NaN</td>\n",
       "      <td>IN</td>\n",
       "      <td>Mumbai</td>\n",
       "      <td>8, Mira, Behind Ajit Palace Ho</td>\n",
       "      <td>401104.0</td>\n",
       "      <td>Thane</td>\n",
       "      <td>MFCB</td>\n",
       "      <td>super_slow</td>\n",
       "    </tr>\n",
       "    <tr>\n",
       "      <th>3</th>\n",
       "      <td>Retail</td>\n",
       "      <td>73857</td>\n",
       "      <td>Maharashtra</td>\n",
       "      <td>2016-10-28</td>\n",
       "      <td>487708</td>\n",
       "      <td>554.95</td>\n",
       "      <td>HYUNDAI</td>\n",
       "      <td>0.0</td>\n",
       "      <td>VERNA</td>\n",
       "      <td>0.0</td>\n",
       "      <td>...</td>\n",
       "      <td>X006</td>\n",
       "      <td>PLX006</td>\n",
       "      <td>NaN</td>\n",
       "      <td>IN</td>\n",
       "      <td>Mumbai</td>\n",
       "      <td>8, Mira, Behind Ajit Palace Ho</td>\n",
       "      <td>401104.0</td>\n",
       "      <td>Thane</td>\n",
       "      <td>MFCB</td>\n",
       "      <td>super_slow</td>\n",
       "    </tr>\n",
       "    <tr>\n",
       "      <th>4</th>\n",
       "      <td>Retail</td>\n",
       "      <td>E25519</td>\n",
       "      <td>Maharashtra</td>\n",
       "      <td>2015-05-28</td>\n",
       "      <td>220109</td>\n",
       "      <td>75.02</td>\n",
       "      <td>MAHINDRA &amp;  MAHINDRA</td>\n",
       "      <td>0.0</td>\n",
       "      <td>LOGAN D</td>\n",
       "      <td>0.0</td>\n",
       "      <td>...</td>\n",
       "      <td>X006</td>\n",
       "      <td>PLX006</td>\n",
       "      <td>NaN</td>\n",
       "      <td>IN</td>\n",
       "      <td>Mumbai</td>\n",
       "      <td>8, Mira, Behind Ajit Palace Ho</td>\n",
       "      <td>401104.0</td>\n",
       "      <td>Thane</td>\n",
       "      <td>MFCB</td>\n",
       "      <td>super_fast</td>\n",
       "    </tr>\n",
       "  </tbody>\n",
       "</table>\n",
       "<p>5 rows × 27 columns</p>\n",
       "</div>"
      ],
      "text/plain": [
       "  Cust Type Customer No.     District Invoice Date  Job Card No  Labour Total  \\\n",
       "0    Retail        80479  Maharashtra   2015-06-19       227460       1802.05   \n",
       "1    Retail       E15810  Maharashtra   2016-07-20       413455       2874.80   \n",
       "2    Retail       E15810  Maharashtra   2016-09-04       446448       2799.96   \n",
       "3    Retail        73857  Maharashtra   2016-10-28       487708        554.95   \n",
       "4    Retail       E25519  Maharashtra   2015-05-28       220109         75.02   \n",
       "\n",
       "                   Make  Misc Total    Model  OSL Total  ... Valuation Area  \\\n",
       "0                  FORD         0.0   FIESTA        0.0  ...           X006   \n",
       "1         MARUTI SUZUKI         0.0    SWIFT        0.0  ...           X006   \n",
       "2         MARUTI SUZUKI         0.0    SWIFT        0.0  ...           X006   \n",
       "3               HYUNDAI         0.0    VERNA        0.0  ...           X006   \n",
       "4  MAHINDRA &  MAHINDRA         0.0  LOGAN D        0.0  ...           X006   \n",
       "\n",
       "   Customer no. - plant Vendor number plant  Factory calendar  Name 2  \\\n",
       "0                PLX006                 NaN                IN  Mumbai   \n",
       "1                PLX006                 NaN                IN  Mumbai   \n",
       "2                PLX006                 NaN                IN  Mumbai   \n",
       "3                PLX006                 NaN                IN  Mumbai   \n",
       "4                PLX006                 NaN                IN  Mumbai   \n",
       "\n",
       "          House number and street    PO Box   City Sales organization  \\\n",
       "0  8, Mira, Behind Ajit Palace Ho  401104.0  Thane               MFCB   \n",
       "1  8, Mira, Behind Ajit Palace Ho  401104.0  Thane               MFCB   \n",
       "2  8, Mira, Behind Ajit Palace Ho  401104.0  Thane               MFCB   \n",
       "3  8, Mira, Behind Ajit Palace Ho  401104.0  Thane               MFCB   \n",
       "4  8, Mira, Behind Ajit Palace Ho  401104.0  Thane               MFCB   \n",
       "\n",
       "  ServiceTime_category  \n",
       "0           super_fast  \n",
       "1                  mid  \n",
       "2           super_slow  \n",
       "3           super_slow  \n",
       "4           super_fast  \n",
       "\n",
       "[5 rows x 27 columns]"
      ]
     },
     "execution_count": 193,
     "metadata": {},
     "output_type": "execute_result"
    }
   ],
   "source": [
    "invoice_customer_plant.head()"
   ]
  },
  {
   "cell_type": "code",
   "execution_count": 194,
   "metadata": {},
   "outputs": [
    {
     "data": {
      "text/plain": [
       "(253199, 973473)"
      ]
     },
     "execution_count": 194,
     "metadata": {},
     "output_type": "execute_result"
    }
   ],
   "source": [
    "#Merge Jtd grouped and invoice_customer_plant csv\n",
    "len(invoice_customer_plant['Job Card No'].unique()), len(jtd_grouped['DBM Order'].unique())"
   ]
  },
  {
   "cell_type": "code",
   "execution_count": 195,
   "metadata": {},
   "outputs": [],
   "source": [
    "invoice_customer_plant_jtd = pd.merge(invoice_customer_plant, jtd_grouped, left_on='Job Card No', right_on='DBM Order').drop('DBM Order', axis=1)\n",
    "invoice_customer_plant_jtd.to_csv('./Data/invoice_customer_plant_jtd.csv', index=False)"
   ]
  },
  {
   "cell_type": "code",
   "execution_count": 196,
   "metadata": {},
   "outputs": [
    {
     "data": {
      "text/plain": [
       "(255714, 31)"
      ]
     },
     "execution_count": 196,
     "metadata": {},
     "output_type": "execute_result"
    }
   ],
   "source": [
    "invoice_customer_plant_jtd.shape"
   ]
  },
  {
   "cell_type": "code",
   "execution_count": 197,
   "metadata": {},
   "outputs": [
    {
     "data": {
      "text/html": [
       "<div>\n",
       "<style scoped>\n",
       "    .dataframe tbody tr th:only-of-type {\n",
       "        vertical-align: middle;\n",
       "    }\n",
       "\n",
       "    .dataframe tbody tr th {\n",
       "        vertical-align: top;\n",
       "    }\n",
       "\n",
       "    .dataframe thead th {\n",
       "        text-align: right;\n",
       "    }\n",
       "</style>\n",
       "<table border=\"1\" class=\"dataframe\">\n",
       "  <thead>\n",
       "    <tr style=\"text-align: right;\">\n",
       "      <th></th>\n",
       "      <th>Cust Type</th>\n",
       "      <th>Customer No.</th>\n",
       "      <th>District</th>\n",
       "      <th>Invoice Date</th>\n",
       "      <th>Job Card No</th>\n",
       "      <th>Labour Total</th>\n",
       "      <th>Make</th>\n",
       "      <th>Misc Total</th>\n",
       "      <th>Model</th>\n",
       "      <th>OSL Total</th>\n",
       "      <th>...</th>\n",
       "      <th>Name 2</th>\n",
       "      <th>House number and street</th>\n",
       "      <th>PO Box</th>\n",
       "      <th>City</th>\n",
       "      <th>Sales organization</th>\n",
       "      <th>ServiceTime_category</th>\n",
       "      <th>Description</th>\n",
       "      <th>Item Category</th>\n",
       "      <th>Order Quantity</th>\n",
       "      <th>Net value</th>\n",
       "    </tr>\n",
       "  </thead>\n",
       "  <tbody>\n",
       "    <tr>\n",
       "      <th>0</th>\n",
       "      <td>Retail</td>\n",
       "      <td>80479</td>\n",
       "      <td>Maharashtra</td>\n",
       "      <td>2015-06-19</td>\n",
       "      <td>227460</td>\n",
       "      <td>1802.05</td>\n",
       "      <td>FORD</td>\n",
       "      <td>0.0</td>\n",
       "      <td>FIESTA</td>\n",
       "      <td>0.0</td>\n",
       "      <td>...</td>\n",
       "      <td>Mumbai</td>\n",
       "      <td>8, Mira, Behind Ajit Palace Ho</td>\n",
       "      <td>401104.0</td>\n",
       "      <td>Thane</td>\n",
       "      <td>MFCB</td>\n",
       "      <td>super_fast</td>\n",
       "      <td>DISTILLED WATER, Paid Service-Minor, REPLACE H...</td>\n",
       "      <td>P001, P002</td>\n",
       "      <td>45.5</td>\n",
       "      <td>2201.78</td>\n",
       "    </tr>\n",
       "  </tbody>\n",
       "</table>\n",
       "<p>1 rows × 31 columns</p>\n",
       "</div>"
      ],
      "text/plain": [
       "  Cust Type Customer No.     District Invoice Date  Job Card No  Labour Total  \\\n",
       "0    Retail        80479  Maharashtra   2015-06-19       227460       1802.05   \n",
       "\n",
       "   Make  Misc Total   Model  OSL Total  ...  Name 2  \\\n",
       "0  FORD         0.0  FIESTA        0.0  ...  Mumbai   \n",
       "\n",
       "          House number and street    PO Box   City  Sales organization  \\\n",
       "0  8, Mira, Behind Ajit Palace Ho  401104.0  Thane                MFCB   \n",
       "\n",
       "  ServiceTime_category                                        Description  \\\n",
       "0           super_fast  DISTILLED WATER, Paid Service-Minor, REPLACE H...   \n",
       "\n",
       "  Item Category Order Quantity Net value  \n",
       "0    P001, P002           45.5   2201.78  \n",
       "\n",
       "[1 rows x 31 columns]"
      ]
     },
     "execution_count": 197,
     "metadata": {},
     "output_type": "execute_result"
    }
   ],
   "source": [
    "invoice_customer_plant_jtd.head(1)"
   ]
  },
  {
   "cell_type": "code",
   "execution_count": 200,
   "metadata": {},
   "outputs": [],
   "source": [
    "#This file can be used for EDA\n",
    "invoice_customer_plant_jtd.to_csv('./Data/Blended_Data_Features_Removed.csv', index = False)"
   ]
  },
  {
   "cell_type": "code",
   "execution_count": 204,
   "metadata": {},
   "outputs": [
    {
     "data": {
      "text/plain": [
       "Timestamp('2016-10-31 00:00:00')"
      ]
     },
     "execution_count": 204,
     "metadata": {},
     "output_type": "execute_result"
    }
   ],
   "source": []
  },
  {
   "cell_type": "code",
   "execution_count": 205,
   "metadata": {},
   "outputs": [],
   "source": [
    "aggregation_by_customer_no = {'Cust Type' : lambda x: str(set(x)).strip(\"{}\").replace(\"'\",\"\"),\n",
    "                              'Labour Total':'sum',\n",
    "                              'Misc Total':'sum',\n",
    "                              'OSL Total':'sum',\n",
    "                              'Order Type' : lambda x: str(set(x)).strip(\"{}\").replace(\"'\",\"\"),\n",
    "                              'Parts Total' : 'sum',\n",
    "                              'Total Amt Wtd Tax.' : 'sum',\n",
    "                              'Partner Type': 'nunique',\n",
    "                              'Data Origin' : lambda x: str(set(x)).strip(\"{}\").replace(\"'\",\"\"),\n",
    "                              'Title' : 'nunique',\n",
    "                              'Model': lambda x: str(set(x)).strip(\"{}\").replace(\"'\",\"\"),\n",
    "                              'Make': lambda x: str(set(x)).strip(\"{}\").replace(\"'\",\"\"),\n",
    "                              'City' : lambda x: str(set(x)).strip(\"{}\").replace(\"'\",\"\"),\n",
    "                              'ServiceTime_category' : lambda x: str(set(x)).strip(\"{}\").replace(\"'\",\"\"),\n",
    "                              'Description' : lambda x: str(set(x)).strip(\"{}\").replace(\"'\",\"\"),\n",
    "                              'Item Category' : lambda x: str(set(x)).strip(\"{}\").replace(\"'\",\"\"),\n",
    "                              'Order Quantity' : 'sum',\n",
    "                              'Net value' : 'sum',\n",
    "                              'Invoice Date': lambda x: x.max()}"
   ]
  },
  {
   "cell_type": "code",
   "execution_count": 207,
   "metadata": {},
   "outputs": [],
   "source": [
    "invoice_grouped_data = invoice_customer_plant_jtd.groupby('Customer No.').agg(aggregation_by_customer_no).reset_index()"
   ]
  },
  {
   "cell_type": "code",
   "execution_count": 208,
   "metadata": {},
   "outputs": [],
   "source": [
    "invoice_grouped_data.to_csv('./Data/invoice_grouped_data.csv', index=False)"
   ]
  },
  {
   "cell_type": "code",
   "execution_count": null,
   "metadata": {},
   "outputs": [],
   "source": [
    "invoice_grouped_data.shape"
   ]
  },
  {
   "cell_type": "code",
   "execution_count": null,
   "metadata": {},
   "outputs": [],
   "source": [
    "invoice_grouped_data.head(1)"
   ]
  },
  {
   "cell_type": "code",
   "execution_count": null,
   "metadata": {},
   "outputs": [],
   "source": [
    "','.join(sorted([w.strip(' ') for w in invoice_grouped_data['Order Type'].iloc[50].split(',')]))"
   ]
  },
  {
   "cell_type": "code",
   "execution_count": null,
   "metadata": {},
   "outputs": [],
   "source": [
    "invoice_grouped_data['Order Type'] = invoice_grouped_data['Order Type'].apply(lambda x: ','.join(sorted([w.strip(' ') for w in x.split(',')])))"
   ]
  },
  {
   "cell_type": "code",
   "execution_count": null,
   "metadata": {},
   "outputs": [],
   "source": [
    "freq_used_services = ['Running Repairs','Paid Service', 'Paid Service,Running Repairs', 'Accidental']"
   ]
  },
  {
   "cell_type": "code",
   "execution_count": null,
   "metadata": {},
   "outputs": [],
   "source": [
    "invoice_grouped_data['Order Type'] = invoice_grouped_data['Order Type'].apply(lambda order: 'Others' if order not in freq_used_services else order)"
   ]
  },
  {
   "cell_type": "code",
   "execution_count": null,
   "metadata": {},
   "outputs": [],
   "source": [
    "(invoice_grouped_data['Order Type'].value_counts()/len(invoice_grouped_data['Order Type']))*100"
   ]
  },
  {
   "cell_type": "code",
   "execution_count": null,
   "metadata": {},
   "outputs": [],
   "source": [
    "most_freq_data_origin = (invoice_grouped_data['Data Origin'].value_counts()/len(invoice_grouped_data['Data Origin'])).iloc[0:7].index"
   ]
  },
  {
   "cell_type": "code",
   "execution_count": null,
   "metadata": {},
   "outputs": [],
   "source": [
    "invoice_grouped_data['Data Origin'] = invoice_grouped_data['Data Origin'].apply(lambda x: 'Others' if x not in most_freq_data_origin else x)"
   ]
  },
  {
   "cell_type": "code",
   "execution_count": null,
   "metadata": {},
   "outputs": [],
   "source": [
    "(invoice_grouped_data['Data Origin'].value_counts()/len(invoice_grouped_data['Data Origin']))*100"
   ]
  },
  {
   "cell_type": "code",
   "execution_count": null,
   "metadata": {},
   "outputs": [],
   "source": [
    "invoice_grouped_data['Model'].value_counts()"
   ]
  },
  {
   "cell_type": "code",
   "execution_count": null,
   "metadata": {},
   "outputs": [],
   "source": [
    "#Not Required as we have many models - This can be dropped\n",
    "#most_freq_used_veh_models = ((invoice_grouped_data['Model'].value_counts()/len(invoice_grouped_data['Model']))*100)[((invoice_grouped_data['Model'].value_counts()/len(invoice_grouped_data['Model']))*100)>2].index\n",
    "#invoice_grouped_data['Model'] = invoice_grouped_data['Model'].apply(lambda x: 'Others' if x not in most_freq_used_veh_models else x)"
   ]
  },
  {
   "cell_type": "code",
   "execution_count": null,
   "metadata": {},
   "outputs": [],
   "source": [
    "most_freq_used_vehicle_make = ((invoice_grouped_data['Make'].value_counts()/len(invoice_grouped_data['Make']))*100)[((invoice_grouped_data['Make'].value_counts()/len(invoice_grouped_data['Make']))*100)>2].index"
   ]
  },
  {
   "cell_type": "code",
   "execution_count": null,
   "metadata": {},
   "outputs": [],
   "source": [
    "invoice_grouped_data['Make'] = invoice_grouped_data['Make'].apply(lambda x: 'Others' if x not in most_freq_used_vehicle_make else x)"
   ]
  },
  {
   "cell_type": "code",
   "execution_count": null,
   "metadata": {},
   "outputs": [],
   "source": [
    "invoice_grouped_data['Make'].value_counts()/len(invoice_grouped_data['Make'])*100"
   ]
  },
  {
   "cell_type": "code",
   "execution_count": null,
   "metadata": {},
   "outputs": [],
   "source": [
    "invoice_grouped_data['Model'].value_counts()/len(invoice_grouped_data['Model'])*100"
   ]
  },
  {
   "cell_type": "code",
   "execution_count": null,
   "metadata": {},
   "outputs": [],
   "source": [
    "most_freq_service_type = ((invoice_grouped_data['ServiceTime_category'].value_counts()/len(invoice_grouped_data['ServiceTime_category']))*100).iloc[0:11]"
   ]
  },
  {
   "cell_type": "code",
   "execution_count": null,
   "metadata": {},
   "outputs": [],
   "source": [
    "invoice_grouped_data['ServiceTime_category'] = invoice_grouped_data['ServiceTime_category'].apply(lambda x: 'Others' if x not in most_freq_service_type else x )"
   ]
  },
  {
   "cell_type": "code",
   "execution_count": null,
   "metadata": {},
   "outputs": [],
   "source": [
    "((invoice_grouped_data['ServiceTime_category'].value_counts()/len(invoice_grouped_data['ServiceTime_category']))*100)"
   ]
  },
  {
   "cell_type": "code",
   "execution_count": null,
   "metadata": {},
   "outputs": [],
   "source": [
    "invoice_grouped_data.head(1)"
   ]
  },
  {
   "cell_type": "code",
   "execution_count": null,
   "metadata": {},
   "outputs": [],
   "source": [
    "invoice_grouped_data.drop(columns=['Description'], inplace=True)"
   ]
  },
  {
   "cell_type": "code",
   "execution_count": null,
   "metadata": {},
   "outputs": [],
   "source": [
    "most_freq_used_item_categ = ((invoice_grouped_data['Item Category'].value_counts()/len(invoice_grouped_data['Item Category']))*100).iloc[0:11].index"
   ]
  },
  {
   "cell_type": "code",
   "execution_count": null,
   "metadata": {},
   "outputs": [],
   "source": [
    "invoice_grouped_data['Item Category'] = invoice_grouped_data['Item Category'].apply(lambda x: 'Others' if x not in most_freq_used_item_categ else x)"
   ]
  },
  {
   "cell_type": "code",
   "execution_count": null,
   "metadata": {},
   "outputs": [],
   "source": [
    "invoice_grouped_data.head(1)"
   ]
  },
  {
   "cell_type": "code",
   "execution_count": 130,
   "metadata": {},
   "outputs": [],
   "source": [
    "#Apply Label Encoding on cluster data\n",
    "from sklearn.preprocessing import LabelEncoder"
   ]
  },
  {
   "cell_type": "code",
   "execution_count": 131,
   "metadata": {},
   "outputs": [],
   "source": [
    "le = LabelEncoder()"
   ]
  },
  {
   "cell_type": "code",
   "execution_count": 110,
   "metadata": {},
   "outputs": [],
   "source": [
    "invoice_grouped_data_categroical = invoice_grouped_data[['Cust Type', 'Order Type',  'OSL Total', 'Model', 'Make', 'City', 'ServiceTime_category']]"
   ]
  },
  {
   "cell_type": "code",
   "execution_count": 133,
   "metadata": {},
   "outputs": [
    {
     "data": {
      "text/html": [
       "<div>\n",
       "<style scoped>\n",
       "    .dataframe tbody tr th:only-of-type {\n",
       "        vertical-align: middle;\n",
       "    }\n",
       "\n",
       "    .dataframe tbody tr th {\n",
       "        vertical-align: top;\n",
       "    }\n",
       "\n",
       "    .dataframe thead th {\n",
       "        text-align: right;\n",
       "    }\n",
       "</style>\n",
       "<table border=\"1\" class=\"dataframe\">\n",
       "  <thead>\n",
       "    <tr style=\"text-align: right;\">\n",
       "      <th></th>\n",
       "      <th>Cust Type</th>\n",
       "      <th>Order Type</th>\n",
       "      <th>OSL Total</th>\n",
       "      <th>Model</th>\n",
       "      <th>Make</th>\n",
       "      <th>City</th>\n",
       "      <th>ServiceTime_category</th>\n",
       "    </tr>\n",
       "  </thead>\n",
       "  <tbody>\n",
       "    <tr>\n",
       "      <th>0</th>\n",
       "      <td>Retail</td>\n",
       "      <td>Others</td>\n",
       "      <td>0.0</td>\n",
       "      <td>INNOVA, SUPERB, BOLERO</td>\n",
       "      <td>Others</td>\n",
       "      <td>Pune</td>\n",
       "      <td>Others</td>\n",
       "    </tr>\n",
       "    <tr>\n",
       "      <th>1</th>\n",
       "      <td>Retail</td>\n",
       "      <td>Accidental</td>\n",
       "      <td>0.0</td>\n",
       "      <td>INNOVA</td>\n",
       "      <td>TOYOTA</td>\n",
       "      <td>Shirur</td>\n",
       "      <td>super_fast</td>\n",
       "    </tr>\n",
       "    <tr>\n",
       "      <th>2</th>\n",
       "      <td>Retail</td>\n",
       "      <td>Running Repairs</td>\n",
       "      <td>0.0</td>\n",
       "      <td>I20</td>\n",
       "      <td>HYUNDAI</td>\n",
       "      <td>Boripardhi</td>\n",
       "      <td>super_fast</td>\n",
       "    </tr>\n",
       "    <tr>\n",
       "      <th>3</th>\n",
       "      <td>Retail</td>\n",
       "      <td>Paid Service</td>\n",
       "      <td>0.0</td>\n",
       "      <td>800</td>\n",
       "      <td>MARUTI SUZUKI</td>\n",
       "      <td>Abohar</td>\n",
       "      <td>mid</td>\n",
       "    </tr>\n",
       "    <tr>\n",
       "      <th>4</th>\n",
       "      <td>Retail</td>\n",
       "      <td>Paid Service,Running Repairs</td>\n",
       "      <td>0.0</td>\n",
       "      <td>VERNA</td>\n",
       "      <td>HYUNDAI</td>\n",
       "      <td>Tirupur</td>\n",
       "      <td>Others</td>\n",
       "    </tr>\n",
       "  </tbody>\n",
       "</table>\n",
       "</div>"
      ],
      "text/plain": [
       "  Cust Type                    Order Type  OSL Total                   Model  \\\n",
       "0    Retail                        Others        0.0  INNOVA, SUPERB, BOLERO   \n",
       "1    Retail                    Accidental        0.0                  INNOVA   \n",
       "2    Retail               Running Repairs        0.0                     I20   \n",
       "3    Retail                  Paid Service        0.0                     800   \n",
       "4    Retail  Paid Service,Running Repairs        0.0                   VERNA   \n",
       "\n",
       "            Make        City ServiceTime_category  \n",
       "0         Others        Pune               Others  \n",
       "1         TOYOTA      Shirur           super_fast  \n",
       "2        HYUNDAI  Boripardhi           super_fast  \n",
       "3  MARUTI SUZUKI      Abohar                  mid  \n",
       "4        HYUNDAI     Tirupur               Others  "
      ]
     },
     "execution_count": 133,
     "metadata": {},
     "output_type": "execute_result"
    }
   ],
   "source": [
    "invoice_grouped_data_categroical.head()"
   ]
  },
  {
   "cell_type": "code",
   "execution_count": 134,
   "metadata": {},
   "outputs": [],
   "source": [
    "invoice_grouped_data_encoded = invoice_grouped_data_categroical.apply(le.fit_transform)"
   ]
  },
  {
   "cell_type": "code",
   "execution_count": 135,
   "metadata": {},
   "outputs": [],
   "source": [
    "invoice_grouped_data_numerical = invoice_grouped_data[['Labour Total', 'Misc Total', 'Total Amt Wtd Tax.', 'Partner Type', 'Title']]"
   ]
  },
  {
   "cell_type": "code",
   "execution_count": 136,
   "metadata": {},
   "outputs": [],
   "source": [
    "invoice_grouped_data_numerical = invoice_grouped_data.select_dtypes(include=[np.number])"
   ]
  },
  {
   "cell_type": "code",
   "execution_count": 137,
   "metadata": {},
   "outputs": [],
   "source": [
    "cluster_data = pd.concat([invoice_grouped_data_encoded,invoice_grouped_data_numerical], axis=1)"
   ]
  },
  {
   "cell_type": "code",
   "execution_count": 138,
   "metadata": {},
   "outputs": [
    {
     "data": {
      "text/html": [
       "<div>\n",
       "<style scoped>\n",
       "    .dataframe tbody tr th:only-of-type {\n",
       "        vertical-align: middle;\n",
       "    }\n",
       "\n",
       "    .dataframe tbody tr th {\n",
       "        vertical-align: top;\n",
       "    }\n",
       "\n",
       "    .dataframe thead th {\n",
       "        text-align: right;\n",
       "    }\n",
       "</style>\n",
       "<table border=\"1\" class=\"dataframe\">\n",
       "  <thead>\n",
       "    <tr style=\"text-align: right;\">\n",
       "      <th></th>\n",
       "      <th>Cust Type</th>\n",
       "      <th>Order Type</th>\n",
       "      <th>OSL Total</th>\n",
       "      <th>Model</th>\n",
       "      <th>Make</th>\n",
       "      <th>City</th>\n",
       "      <th>ServiceTime_category</th>\n",
       "      <th>Labour Total</th>\n",
       "      <th>Misc Total</th>\n",
       "      <th>OSL Total</th>\n",
       "      <th>Parts Total</th>\n",
       "      <th>Total Amt Wtd Tax.</th>\n",
       "      <th>Partner Type</th>\n",
       "      <th>Title</th>\n",
       "      <th>Order Quantity</th>\n",
       "      <th>Net value</th>\n",
       "    </tr>\n",
       "  </thead>\n",
       "  <tbody>\n",
       "    <tr>\n",
       "      <th>153780</th>\n",
       "      <td>5</td>\n",
       "      <td>4</td>\n",
       "      <td>0</td>\n",
       "      <td>929</td>\n",
       "      <td>5</td>\n",
       "      <td>290</td>\n",
       "      <td>7</td>\n",
       "      <td>3257.38</td>\n",
       "      <td>219.99</td>\n",
       "      <td>0.0</td>\n",
       "      <td>0.00</td>\n",
       "      <td>3477.37</td>\n",
       "      <td>1</td>\n",
       "      <td>1</td>\n",
       "      <td>2.0</td>\n",
       "      <td>3477.37</td>\n",
       "    </tr>\n",
       "    <tr>\n",
       "      <th>153781</th>\n",
       "      <td>9</td>\n",
       "      <td>4</td>\n",
       "      <td>0</td>\n",
       "      <td>1066</td>\n",
       "      <td>7</td>\n",
       "      <td>262</td>\n",
       "      <td>3</td>\n",
       "      <td>1245.04</td>\n",
       "      <td>0.00</td>\n",
       "      <td>0.0</td>\n",
       "      <td>5625.91</td>\n",
       "      <td>6870.95</td>\n",
       "      <td>1</td>\n",
       "      <td>1</td>\n",
       "      <td>5.0</td>\n",
       "      <td>6870.95</td>\n",
       "    </tr>\n",
       "    <tr>\n",
       "      <th>153782</th>\n",
       "      <td>9</td>\n",
       "      <td>4</td>\n",
       "      <td>0</td>\n",
       "      <td>1024</td>\n",
       "      <td>4</td>\n",
       "      <td>472</td>\n",
       "      <td>8</td>\n",
       "      <td>167.94</td>\n",
       "      <td>0.00</td>\n",
       "      <td>0.0</td>\n",
       "      <td>399.86</td>\n",
       "      <td>567.80</td>\n",
       "      <td>1</td>\n",
       "      <td>1</td>\n",
       "      <td>32.0</td>\n",
       "      <td>567.80</td>\n",
       "    </tr>\n",
       "    <tr>\n",
       "      <th>153783</th>\n",
       "      <td>9</td>\n",
       "      <td>4</td>\n",
       "      <td>0</td>\n",
       "      <td>1372</td>\n",
       "      <td>4</td>\n",
       "      <td>363</td>\n",
       "      <td>7</td>\n",
       "      <td>4126.97</td>\n",
       "      <td>220.01</td>\n",
       "      <td>0.0</td>\n",
       "      <td>0.00</td>\n",
       "      <td>4346.98</td>\n",
       "      <td>1</td>\n",
       "      <td>1</td>\n",
       "      <td>2.0</td>\n",
       "      <td>4346.98</td>\n",
       "    </tr>\n",
       "    <tr>\n",
       "      <th>153784</th>\n",
       "      <td>5</td>\n",
       "      <td>4</td>\n",
       "      <td>0</td>\n",
       "      <td>985</td>\n",
       "      <td>3</td>\n",
       "      <td>430</td>\n",
       "      <td>8</td>\n",
       "      <td>0.00</td>\n",
       "      <td>0.00</td>\n",
       "      <td>0.0</td>\n",
       "      <td>0.00</td>\n",
       "      <td>0.00</td>\n",
       "      <td>1</td>\n",
       "      <td>1</td>\n",
       "      <td>84.0</td>\n",
       "      <td>0.00</td>\n",
       "    </tr>\n",
       "  </tbody>\n",
       "</table>\n",
       "</div>"
      ],
      "text/plain": [
       "        Cust Type  Order Type  OSL Total  Model  Make  City  \\\n",
       "153780          5           4          0    929     5   290   \n",
       "153781          9           4          0   1066     7   262   \n",
       "153782          9           4          0   1024     4   472   \n",
       "153783          9           4          0   1372     4   363   \n",
       "153784          5           4          0    985     3   430   \n",
       "\n",
       "        ServiceTime_category  Labour Total  Misc Total  OSL Total  \\\n",
       "153780                     7       3257.38      219.99        0.0   \n",
       "153781                     3       1245.04        0.00        0.0   \n",
       "153782                     8        167.94        0.00        0.0   \n",
       "153783                     7       4126.97      220.01        0.0   \n",
       "153784                     8          0.00        0.00        0.0   \n",
       "\n",
       "        Parts Total  Total Amt Wtd Tax.  Partner Type  Title  Order Quantity  \\\n",
       "153780         0.00             3477.37             1      1             2.0   \n",
       "153781      5625.91             6870.95             1      1             5.0   \n",
       "153782       399.86              567.80             1      1            32.0   \n",
       "153783         0.00             4346.98             1      1             2.0   \n",
       "153784         0.00                0.00             1      1            84.0   \n",
       "\n",
       "        Net value  \n",
       "153780    3477.37  \n",
       "153781    6870.95  \n",
       "153782     567.80  \n",
       "153783    4346.98  \n",
       "153784       0.00  "
      ]
     },
     "execution_count": 138,
     "metadata": {},
     "output_type": "execute_result"
    }
   ],
   "source": [
    "cluster_data.tail()"
   ]
  },
  {
   "cell_type": "code",
   "execution_count": 139,
   "metadata": {},
   "outputs": [
    {
     "data": {
      "text/plain": [
       "(153785, 16)"
      ]
     },
     "execution_count": 139,
     "metadata": {},
     "output_type": "execute_result"
    }
   ],
   "source": [
    "cluster_data.shape"
   ]
  },
  {
   "cell_type": "code",
   "execution_count": 140,
   "metadata": {},
   "outputs": [],
   "source": [
    "#Apply Clustering Algorthims\n",
    "from sklearn.cluster import KMeans"
   ]
  },
  {
   "cell_type": "code",
   "execution_count": 141,
   "metadata": {},
   "outputs": [],
   "source": [
    "dist=[]\n",
    "# Iterate from 1-9\n",
    "for i in range(1, 10):\n",
    "    # Initialize KMeans algorithm\n",
    "    km = KMeans(n_clusters=i, init='k-means++', n_init=10, max_iter=300, random_state=0)\n",
    "    # Fit on data\n",
    "    km.fit(cluster_data)\n",
    "    # Append WCSS to list storing WCSS\n",
    "    dist.append(km.inertia_)"
   ]
  },
  {
   "cell_type": "code",
   "execution_count": 142,
   "metadata": {},
   "outputs": [],
   "source": [
    "import matplotlib.pyplot as plt"
   ]
  },
  {
   "cell_type": "code",
   "execution_count": 143,
   "metadata": {},
   "outputs": [
    {
     "data": {
      "image/png": "[encoded data removed]",
      "text/plain": [
       "<Figure size 432x288 with 1 Axes>"
      ]
     },
     "metadata": {
      "needs_background": "light"
     },
     "output_type": "display_data"
    }
   ],
   "source": [
    "# Line plot # clusters on X-axis and WCSS on Y-axis \n",
    "plt.plot(range(1, 10), dist, 'bo-')\n",
    "plt.show()"
   ]
  },
  {
   "cell_type": "code",
   "execution_count": 144,
   "metadata": {},
   "outputs": [],
   "source": [
    "cluster  = KMeans(n_clusters=5, init='k-means++', max_iter=300, n_init=10, random_state=0)\n",
    "# create 'cluster' column\n",
    "cluster_data['cluster'] = cluster.fit_predict(cluster_data)"
   ]
  },
  {
   "cell_type": "code",
   "execution_count": 145,
   "metadata": {},
   "outputs": [],
   "source": [
    "# Cluster centers\n",
    "centroids = cluster.cluster_centers_"
   ]
  },
  {
   "cell_type": "code",
   "execution_count": 146,
   "metadata": {},
   "outputs": [],
   "source": [
    "# Within cluster sum of squares\n",
    "wcss = km.inertia_"
   ]
  },
  {
   "cell_type": "code",
   "execution_count": 147,
   "metadata": {},
   "outputs": [
    {
     "data": {
      "text/plain": [
       "array([[8.99968779e+00, 2.92785002e+00, 5.33409063e+01, 7.08343665e+02,\n",
       "        4.47430061e+00, 3.33307652e+02, 5.92782098e+00, 1.30497186e+03,\n",
       "        1.75663893e+02, 6.96191005e+01, 1.52621074e+03, 3.07646559e+03,\n",
       "        1.00000000e+00, 1.00000000e+00, 2.38693122e+02, 3.09968121e+03],\n",
       "       [8.79591837e+00, 7.68707483e-01, 1.25517007e+03, 7.66755102e+02,\n",
       "        4.53741497e+00, 2.68312925e+02, 5.89795918e+00, 7.95459225e+04,\n",
       "        1.22699051e+04, 1.08933124e+04, 2.31548731e+05, 3.34257871e+05,\n",
       "        1.00000000e+00, 1.00000000e+00, 1.83135518e+04, 3.80916834e+05],\n",
       "       [8.97836668e+00, 1.04218496e+00, 1.12269118e+03, 7.61930773e+02,\n",
       "        4.48080043e+00, 2.93975663e+02, 6.19415900e+00, 3.31798648e+04,\n",
       "        3.39730162e+03, 5.14550330e+03, 6.21856329e+04, 1.03908303e+05,\n",
       "        1.00000000e+00, 1.00000000e+00, 6.10190487e+03, 1.06612253e+05],\n",
       "       [6.00000000e+00, 8.00000000e-01, 2.15380000e+03, 7.72400000e+02,\n",
       "        5.80000000e+00, 1.98200000e+02, 2.00000000e+00, 4.87976244e+05,\n",
       "        1.21376096e+05, 1.89684060e+05, 5.50601350e+05, 1.34963775e+06,\n",
       "        1.00000000e+00, 1.00000000e+00, 1.12503950e+05, 1.93474984e+06],\n",
       "       [8.99445116e+00, 1.66329942e+00, 5.08318418e+02, 7.58753717e+02,\n",
       "        4.38969908e+00, 3.09052003e+02, 5.68023049e+00, 1.17705138e+04,\n",
       "        1.22637795e+03, 1.13518047e+03, 1.63690104e+04, 3.05010826e+04,\n",
       "        1.00000000e+00, 1.00000000e+00, 2.33270659e+03, 3.07272998e+04]])"
      ]
     },
     "execution_count": 147,
     "metadata": {},
     "output_type": "execute_result"
    }
   ],
   "source": [
    "centroids"
   ]
  },
  {
   "cell_type": "code",
   "execution_count": 148,
   "metadata": {},
   "outputs": [
    {
     "data": {
      "text/plain": [
       "22119165216199.5"
      ]
     },
     "execution_count": 148,
     "metadata": {},
     "output_type": "execute_result"
    }
   ],
   "source": [
    "wcss"
   ]
  },
  {
   "cell_type": "code",
   "execution_count": 149,
   "metadata": {},
   "outputs": [
    {
     "name": "stdout",
     "output_type": "stream",
     "text": [
      "0    9\n",
      "dtype: int32\n",
      "0    4\n",
      "dtype: int32\n",
      "   OSL Total  OSL Total\n",
      "0          0        0.0\n",
      "0    1112\n",
      "dtype: int32\n",
      "0    5\n",
      "dtype: int32\n",
      "0    113\n",
      "dtype: int32\n",
      "0    7\n",
      "dtype: int32\n",
      "0    0.0\n",
      "dtype: float64\n",
      "0    0.0\n",
      "dtype: float64\n",
      "   OSL Total  OSL Total\n",
      "0          0        0.0\n",
      "0    0.0\n",
      "dtype: float64\n",
      "0    0.0\n",
      "dtype: float64\n",
      "0    1\n",
      "dtype: int64\n",
      "0    1\n",
      "dtype: int64\n",
      "0    1.0\n",
      "dtype: float64\n",
      "0    0.0\n",
      "dtype: float64\n",
      "0    0\n",
      "dtype: int32\n"
     ]
    }
   ],
   "source": [
    "for col in cluster_data[cluster_data['cluster']==0].columns:\n",
    "  print(cluster_data[col].mode())"
   ]
  },
  {
   "cell_type": "code",
   "execution_count": 150,
   "metadata": {},
   "outputs": [
    {
     "data": {
      "text/html": [
       "<div>\n",
       "<style scoped>\n",
       "    .dataframe tbody tr th:only-of-type {\n",
       "        vertical-align: middle;\n",
       "    }\n",
       "\n",
       "    .dataframe tbody tr th {\n",
       "        vertical-align: top;\n",
       "    }\n",
       "\n",
       "    .dataframe thead th {\n",
       "        text-align: right;\n",
       "    }\n",
       "</style>\n",
       "<table border=\"1\" class=\"dataframe\">\n",
       "  <thead>\n",
       "    <tr style=\"text-align: right;\">\n",
       "      <th></th>\n",
       "      <th>Cust Type</th>\n",
       "      <th>Order Type</th>\n",
       "      <th>OSL Total</th>\n",
       "      <th>Model</th>\n",
       "      <th>Make</th>\n",
       "      <th>City</th>\n",
       "      <th>ServiceTime_category</th>\n",
       "      <th>Labour Total</th>\n",
       "      <th>Misc Total</th>\n",
       "      <th>OSL Total</th>\n",
       "      <th>Parts Total</th>\n",
       "      <th>Total Amt Wtd Tax.</th>\n",
       "      <th>Partner Type</th>\n",
       "      <th>Title</th>\n",
       "      <th>Order Quantity</th>\n",
       "      <th>Net value</th>\n",
       "      <th>cluster</th>\n",
       "    </tr>\n",
       "  </thead>\n",
       "  <tbody>\n",
       "    <tr>\n",
       "      <th>0</th>\n",
       "      <td>9</td>\n",
       "      <td>1</td>\n",
       "      <td>0</td>\n",
       "      <td>662</td>\n",
       "      <td>6</td>\n",
       "      <td>472</td>\n",
       "      <td>0</td>\n",
       "      <td>3429.34</td>\n",
       "      <td>0.0</td>\n",
       "      <td>0.0</td>\n",
       "      <td>834.41</td>\n",
       "      <td>4263.75</td>\n",
       "      <td>1</td>\n",
       "      <td>1</td>\n",
       "      <td>1208.2</td>\n",
       "      <td>4263.75</td>\n",
       "      <td>0</td>\n",
       "    </tr>\n",
       "    <tr>\n",
       "      <th>1</th>\n",
       "      <td>9</td>\n",
       "      <td>0</td>\n",
       "      <td>0</td>\n",
       "      <td>603</td>\n",
       "      <td>8</td>\n",
       "      <td>531</td>\n",
       "      <td>7</td>\n",
       "      <td>0.00</td>\n",
       "      <td>0.0</td>\n",
       "      <td>0.0</td>\n",
       "      <td>0.00</td>\n",
       "      <td>0.00</td>\n",
       "      <td>1</td>\n",
       "      <td>1</td>\n",
       "      <td>0.0</td>\n",
       "      <td>0.00</td>\n",
       "      <td>0</td>\n",
       "    </tr>\n",
       "    <tr>\n",
       "      <th>2</th>\n",
       "      <td>9</td>\n",
       "      <td>4</td>\n",
       "      <td>0</td>\n",
       "      <td>486</td>\n",
       "      <td>3</td>\n",
       "      <td>94</td>\n",
       "      <td>7</td>\n",
       "      <td>249.22</td>\n",
       "      <td>0.0</td>\n",
       "      <td>0.0</td>\n",
       "      <td>0.00</td>\n",
       "      <td>249.22</td>\n",
       "      <td>1</td>\n",
       "      <td>1</td>\n",
       "      <td>84.0</td>\n",
       "      <td>249.22</td>\n",
       "      <td>0</td>\n",
       "    </tr>\n",
       "    <tr>\n",
       "      <th>3</th>\n",
       "      <td>9</td>\n",
       "      <td>2</td>\n",
       "      <td>0</td>\n",
       "      <td>11</td>\n",
       "      <td>5</td>\n",
       "      <td>0</td>\n",
       "      <td>3</td>\n",
       "      <td>1223.71</td>\n",
       "      <td>0.0</td>\n",
       "      <td>0.0</td>\n",
       "      <td>0.00</td>\n",
       "      <td>1223.71</td>\n",
       "      <td>1</td>\n",
       "      <td>1</td>\n",
       "      <td>288.0</td>\n",
       "      <td>1223.71</td>\n",
       "      <td>0</td>\n",
       "    </tr>\n",
       "    <tr>\n",
       "      <th>4</th>\n",
       "      <td>9</td>\n",
       "      <td>3</td>\n",
       "      <td>0</td>\n",
       "      <td>1269</td>\n",
       "      <td>3</td>\n",
       "      <td>582</td>\n",
       "      <td>0</td>\n",
       "      <td>11031.37</td>\n",
       "      <td>0.0</td>\n",
       "      <td>0.0</td>\n",
       "      <td>35257.27</td>\n",
       "      <td>46288.64</td>\n",
       "      <td>1</td>\n",
       "      <td>1</td>\n",
       "      <td>478.0</td>\n",
       "      <td>46288.64</td>\n",
       "      <td>4</td>\n",
       "    </tr>\n",
       "  </tbody>\n",
       "</table>\n",
       "</div>"
      ],
      "text/plain": [
       "   Cust Type  Order Type  OSL Total  Model  Make  City  ServiceTime_category  \\\n",
       "0          9           1          0    662     6   472                     0   \n",
       "1          9           0          0    603     8   531                     7   \n",
       "2          9           4          0    486     3    94                     7   \n",
       "3          9           2          0     11     5     0                     3   \n",
       "4          9           3          0   1269     3   582                     0   \n",
       "\n",
       "   Labour Total  Misc Total  OSL Total  Parts Total  Total Amt Wtd Tax.  \\\n",
       "0       3429.34         0.0        0.0       834.41             4263.75   \n",
       "1          0.00         0.0        0.0         0.00                0.00   \n",
       "2        249.22         0.0        0.0         0.00              249.22   \n",
       "3       1223.71         0.0        0.0         0.00             1223.71   \n",
       "4      11031.37         0.0        0.0     35257.27            46288.64   \n",
       "\n",
       "   Partner Type  Title  Order Quantity  Net value  cluster  \n",
       "0             1      1          1208.2    4263.75        0  \n",
       "1             1      1             0.0       0.00        0  \n",
       "2             1      1            84.0     249.22        0  \n",
       "3             1      1           288.0    1223.71        0  \n",
       "4             1      1           478.0   46288.64        4  "
      ]
     },
     "execution_count": 150,
     "metadata": {},
     "output_type": "execute_result"
    }
   ],
   "source": [
    "cluster_data.head()"
   ]
  },
  {
   "cell_type": "code",
   "execution_count": 151,
   "metadata": {},
   "outputs": [],
   "source": [
    "cluster_data.to_csv('./Data/Cluster_from_SavioCode.csv', index=False)"
   ]
  },
  {
   "cell_type": "code",
   "execution_count": null,
   "metadata": {},
   "outputs": [],
   "source": []
  }
 ],
 "metadata": {
  "kernelspec": {
   "display_name": "Python 3",
   "language": "python",
   "name": "python3"
  },
  "language_info": {
   "codemirror_mode": {
    "name": "ipython",
    "version": 3
   },
   "file_extension": ".py",
   "mimetype": "text/x-python",
   "name": "python",
   "nbconvert_exporter": "python",
   "pygments_lexer": "ipython3",
   "version": "3.7.3"
  }
 },
 "nbformat": 4,
 "nbformat_minor": 4
}
