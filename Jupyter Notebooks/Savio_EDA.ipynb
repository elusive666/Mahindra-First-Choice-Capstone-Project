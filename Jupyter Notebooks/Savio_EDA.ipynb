{
 "cells": [
  {
   "cell_type": "code",
   "execution_count": 1,
   "metadata": {},
   "outputs": [],
   "source": [
    "import pandas as pd\n",
    "import numpy as np"
   ]
  },
  {
   "cell_type": "code",
   "execution_count": 3,
   "metadata": {},
   "outputs": [],
   "source": [
    "#Load Plant Data - Remove duplicate and Null Columns\n",
    "plant_full_data = pd.read_excel('./Data/Plant Master.xlsx')"
   ]
  },
  {
   "cell_type": "code",
   "execution_count": 4,
   "metadata": {},
   "outputs": [
    {
     "data": {
      "text/html": [
       "<div>\n",
       "<style scoped>\n",
       "    .dataframe tbody tr th:only-of-type {\n",
       "        vertical-align: middle;\n",
       "    }\n",
       "\n",
       "    .dataframe tbody tr th {\n",
       "        vertical-align: top;\n",
       "    }\n",
       "\n",
       "    .dataframe thead th {\n",
       "        text-align: right;\n",
       "    }\n",
       "</style>\n",
       "<table border=\"1\" class=\"dataframe\">\n",
       "  <thead>\n",
       "    <tr style=\"text-align: right;\">\n",
       "      <th></th>\n",
       "      <th>Plant</th>\n",
       "      <th>Name 1</th>\n",
       "      <th>Valuation Area</th>\n",
       "      <th>Customer no. - plant</th>\n",
       "      <th>Vendor number plant</th>\n",
       "      <th>Factory calendar</th>\n",
       "      <th>Name 2</th>\n",
       "      <th>House number and street</th>\n",
       "      <th>PO Box</th>\n",
       "      <th>Postal Code</th>\n",
       "      <th>City</th>\n",
       "      <th>Sales organization</th>\n",
       "      <th>State</th>\n",
       "    </tr>\n",
       "  </thead>\n",
       "  <tbody>\n",
       "    <tr>\n",
       "      <th>0</th>\n",
       "      <td>BC07</td>\n",
       "      <td>NERKUNDRAM</td>\n",
       "      <td>BC07</td>\n",
       "      <td>PLBC07</td>\n",
       "      <td>PLBC07</td>\n",
       "      <td>IN</td>\n",
       "      <td>NaN</td>\n",
       "      <td>No.117 Poonamallee High Road,</td>\n",
       "      <td>600107.0</td>\n",
       "      <td>600107</td>\n",
       "      <td>Chennai</td>\n",
       "      <td>MFCS</td>\n",
       "      <td>Tamil Nadu</td>\n",
       "    </tr>\n",
       "    <tr>\n",
       "      <th>1</th>\n",
       "      <td>BC30</td>\n",
       "      <td>SAS NAGAR - MOHALI</td>\n",
       "      <td>BC30</td>\n",
       "      <td>PLBC30</td>\n",
       "      <td>PLBC30</td>\n",
       "      <td>IN</td>\n",
       "      <td>NaN</td>\n",
       "      <td>C-118, Phase 07,</td>\n",
       "      <td>160055.0</td>\n",
       "      <td>160055</td>\n",
       "      <td>Mohali</td>\n",
       "      <td>MFCS</td>\n",
       "      <td>Punjab</td>\n",
       "    </tr>\n",
       "    <tr>\n",
       "      <th>2</th>\n",
       "      <td>X001</td>\n",
       "      <td>X001 - AUTO PLANET WHEELS</td>\n",
       "      <td>X001</td>\n",
       "      <td>PLX001</td>\n",
       "      <td>NaN</td>\n",
       "      <td>IN</td>\n",
       "      <td>Thane</td>\n",
       "      <td>Unit No.3, Kothari Compound,</td>\n",
       "      <td>400610.0</td>\n",
       "      <td>400610</td>\n",
       "      <td>Thane</td>\n",
       "      <td>MFCA</td>\n",
       "      <td>Maharashtra</td>\n",
       "    </tr>\n",
       "    <tr>\n",
       "      <th>3</th>\n",
       "      <td>X002</td>\n",
       "      <td>X002 - BHANDARI INDUSTRIES PVT</td>\n",
       "      <td>X002</td>\n",
       "      <td>PLX002</td>\n",
       "      <td>NaN</td>\n",
       "      <td>IN</td>\n",
       "      <td>Ghaziabad</td>\n",
       "      <td>18/1, C Site 4, Sahibabad</td>\n",
       "      <td>201010.0</td>\n",
       "      <td>201010</td>\n",
       "      <td>Ghaziabad</td>\n",
       "      <td>MFCA</td>\n",
       "      <td>Uttar Pradesh</td>\n",
       "    </tr>\n",
       "    <tr>\n",
       "      <th>4</th>\n",
       "      <td>X003</td>\n",
       "      <td>X003 - Om Sri Satya Sai Automo</td>\n",
       "      <td>X003</td>\n",
       "      <td>PLX003</td>\n",
       "      <td>NaN</td>\n",
       "      <td>IN</td>\n",
       "      <td>Bengaluru</td>\n",
       "      <td>#75, Sy.No. 83/2, Panathur Mai</td>\n",
       "      <td>560087.0</td>\n",
       "      <td>560087</td>\n",
       "      <td>Bengaluru</td>\n",
       "      <td>MFCB</td>\n",
       "      <td>Karnataka</td>\n",
       "    </tr>\n",
       "  </tbody>\n",
       "</table>\n",
       "</div>"
      ],
      "text/plain": [
       "  Plant                          Name 1 Valuation Area Customer no. - plant  \\\n",
       "0  BC07                      NERKUNDRAM           BC07               PLBC07   \n",
       "1  BC30              SAS NAGAR - MOHALI           BC30               PLBC30   \n",
       "2  X001       X001 - AUTO PLANET WHEELS           X001               PLX001   \n",
       "3  X002  X002 - BHANDARI INDUSTRIES PVT           X002               PLX002   \n",
       "4  X003  X003 - Om Sri Satya Sai Automo           X003               PLX003   \n",
       "\n",
       "  Vendor number plant Factory calendar     Name 2  \\\n",
       "0              PLBC07               IN        NaN   \n",
       "1              PLBC30               IN        NaN   \n",
       "2                 NaN               IN      Thane   \n",
       "3                 NaN               IN  Ghaziabad   \n",
       "4                 NaN               IN  Bengaluru   \n",
       "\n",
       "          House number and street    PO Box  Postal Code       City  \\\n",
       "0   No.117 Poonamallee High Road,  600107.0       600107    Chennai   \n",
       "1                C-118, Phase 07,  160055.0       160055     Mohali   \n",
       "2    Unit No.3, Kothari Compound,  400610.0       400610      Thane   \n",
       "3       18/1, C Site 4, Sahibabad  201010.0       201010  Ghaziabad   \n",
       "4  #75, Sy.No. 83/2, Panathur Mai  560087.0       560087  Bengaluru   \n",
       "\n",
       "  Sales organization          State  \n",
       "0               MFCS     Tamil Nadu  \n",
       "1               MFCS         Punjab  \n",
       "2               MFCA    Maharashtra  \n",
       "3               MFCA  Uttar Pradesh  \n",
       "4               MFCB      Karnataka  "
      ]
     },
     "execution_count": 4,
     "metadata": {},
     "output_type": "execute_result"
    }
   ],
   "source": [
    "plant_full_data.head()"
   ]
  },
  {
   "cell_type": "code",
   "execution_count": 5,
   "metadata": {},
   "outputs": [
    {
     "data": {
      "text/plain": [
       "Plant                        0\n",
       "Name 1                       0\n",
       "Valuation Area               0\n",
       "Customer no. - plant         0\n",
       "Vendor number plant        436\n",
       "Factory calendar             0\n",
       "Name 2                       2\n",
       "House number and street      2\n",
       "PO Box                       1\n",
       "Postal Code                  0\n",
       "City                         0\n",
       "Sales organization           5\n",
       "State                        0\n",
       "dtype: int64"
      ]
     },
     "execution_count": 5,
     "metadata": {},
     "output_type": "execute_result"
    }
   ],
   "source": [
    "plant_full_data.isnull().sum()"
   ]
  },
  {
   "cell_type": "code",
   "execution_count": 6,
   "metadata": {},
   "outputs": [
    {
     "data": {
      "text/plain": [
       "(438, 13)"
      ]
     },
     "execution_count": 6,
     "metadata": {},
     "output_type": "execute_result"
    }
   ],
   "source": [
    "plant_full_data.shape"
   ]
  },
  {
   "cell_type": "code",
   "execution_count": 160,
   "metadata": {},
   "outputs": [],
   "source": [
    "#Drop columns=['Vendor number plant', 'Valuation Area', 'Factory calendar', 'Name 2', 'House number and street', 'PO Box', 'Sales organization']\n",
    "#plant = plant_full_data.drop(columns=['Vendor number plant', 'Valuation Area', 'Factory calendar', 'Name 2', 'House number and street', 'PO Box', 'Sales organization', 'Customer no. - plant'])"
   ]
  },
  {
   "cell_type": "code",
   "execution_count": 8,
   "metadata": {},
   "outputs": [
    {
     "data": {
      "text/plain": [
       "(438, 13)"
      ]
     },
     "execution_count": 8,
     "metadata": {},
     "output_type": "execute_result"
    }
   ],
   "source": [
    "plant = plant_full_data\n",
    "plant.shape"
   ]
  },
  {
   "cell_type": "code",
   "execution_count": 9,
   "metadata": {},
   "outputs": [
    {
     "data": {
      "text/plain": [
       "Plant                        0\n",
       "Name 1                       0\n",
       "Valuation Area               0\n",
       "Customer no. - plant         0\n",
       "Vendor number plant        436\n",
       "Factory calendar             0\n",
       "Name 2                       2\n",
       "House number and street      2\n",
       "PO Box                       1\n",
       "Postal Code                  0\n",
       "City                         0\n",
       "Sales organization           5\n",
       "State                        0\n",
       "dtype: int64"
      ]
     },
     "execution_count": 9,
     "metadata": {},
     "output_type": "execute_result"
    }
   ],
   "source": [
    "plant.isnull().sum()"
   ]
  },
  {
   "cell_type": "code",
   "execution_count": 10,
   "metadata": {},
   "outputs": [],
   "source": [
    "#Read Customer Data - Remove Duplicate and Missing values columns.\n",
    "customer_full_data = pd.read_excel('./Data/Customer_Data.xlsx')"
   ]
  },
  {
   "cell_type": "code",
   "execution_count": 11,
   "metadata": {},
   "outputs": [
    {
     "data": {
      "text/html": [
       "<div>\n",
       "<style scoped>\n",
       "    .dataframe tbody tr th:only-of-type {\n",
       "        vertical-align: middle;\n",
       "    }\n",
       "\n",
       "    .dataframe tbody tr th {\n",
       "        vertical-align: top;\n",
       "    }\n",
       "\n",
       "    .dataframe thead th {\n",
       "        text-align: right;\n",
       "    }\n",
       "</style>\n",
       "<table border=\"1\" class=\"dataframe\">\n",
       "  <thead>\n",
       "    <tr style=\"text-align: right;\">\n",
       "      <th></th>\n",
       "      <th>Business Partner</th>\n",
       "      <th>Customer No.</th>\n",
       "      <th>Partner Type</th>\n",
       "      <th>Data Origin</th>\n",
       "      <th>Title</th>\n",
       "      <th>Marital Status</th>\n",
       "      <th>Occupation</th>\n",
       "      <th>Date of Birth</th>\n",
       "      <th>Death date</th>\n",
       "    </tr>\n",
       "  </thead>\n",
       "  <tbody>\n",
       "    <tr>\n",
       "      <th>0</th>\n",
       "      <td>31</td>\n",
       "      <td>1</td>\n",
       "      <td>1.0</td>\n",
       "      <td>Z001</td>\n",
       "      <td>NaN</td>\n",
       "      <td>NaN</td>\n",
       "      <td>NaN</td>\n",
       "      <td>NaN</td>\n",
       "      <td>NaT</td>\n",
       "    </tr>\n",
       "    <tr>\n",
       "      <th>1</th>\n",
       "      <td>32</td>\n",
       "      <td>2</td>\n",
       "      <td>1.0</td>\n",
       "      <td>Z005</td>\n",
       "      <td>NaN</td>\n",
       "      <td>NaN</td>\n",
       "      <td>NaN</td>\n",
       "      <td>NaN</td>\n",
       "      <td>NaT</td>\n",
       "    </tr>\n",
       "    <tr>\n",
       "      <th>2</th>\n",
       "      <td>34</td>\n",
       "      <td>4</td>\n",
       "      <td>1.0</td>\n",
       "      <td>Z005</td>\n",
       "      <td>NaN</td>\n",
       "      <td>2.0</td>\n",
       "      <td>NaN</td>\n",
       "      <td>NaN</td>\n",
       "      <td>NaT</td>\n",
       "    </tr>\n",
       "    <tr>\n",
       "      <th>3</th>\n",
       "      <td>35</td>\n",
       "      <td>5</td>\n",
       "      <td>1.0</td>\n",
       "      <td>Z005</td>\n",
       "      <td>NaN</td>\n",
       "      <td>NaN</td>\n",
       "      <td>NaN</td>\n",
       "      <td>NaN</td>\n",
       "      <td>NaT</td>\n",
       "    </tr>\n",
       "    <tr>\n",
       "      <th>4</th>\n",
       "      <td>42</td>\n",
       "      <td>7</td>\n",
       "      <td>1.0</td>\n",
       "      <td>Z008</td>\n",
       "      <td>NaN</td>\n",
       "      <td>NaN</td>\n",
       "      <td>NaN</td>\n",
       "      <td>NaN</td>\n",
       "      <td>NaT</td>\n",
       "    </tr>\n",
       "  </tbody>\n",
       "</table>\n",
       "</div>"
      ],
      "text/plain": [
       "  Business Partner Customer No.  Partner Type Data Origin  Title  \\\n",
       "0               31            1           1.0        Z001    NaN   \n",
       "1               32            2           1.0        Z005    NaN   \n",
       "2               34            4           1.0        Z005    NaN   \n",
       "3               35            5           1.0        Z005    NaN   \n",
       "4               42            7           1.0        Z008    NaN   \n",
       "\n",
       "   Marital Status  Occupation Date of Birth Death date  \n",
       "0             NaN         NaN           NaN        NaT  \n",
       "1             NaN         NaN           NaN        NaT  \n",
       "2             2.0         NaN           NaN        NaT  \n",
       "3             NaN         NaN           NaN        NaT  \n",
       "4             NaN         NaN           NaN        NaT  "
      ]
     },
     "execution_count": 11,
     "metadata": {},
     "output_type": "execute_result"
    }
   ],
   "source": [
    "customer_full_data.head()"
   ]
  },
  {
   "cell_type": "code",
   "execution_count": 12,
   "metadata": {},
   "outputs": [
    {
     "data": {
      "text/plain": [
       "(555338, 9)"
      ]
     },
     "execution_count": 12,
     "metadata": {},
     "output_type": "execute_result"
    }
   ],
   "source": [
    "customer_full_data.shape"
   ]
  },
  {
   "cell_type": "code",
   "execution_count": 13,
   "metadata": {},
   "outputs": [
    {
     "data": {
      "text/plain": [
       "Business Partner         0\n",
       "Customer No.             0\n",
       "Partner Type            78\n",
       "Data Origin            136\n",
       "Title                46307\n",
       "Marital Status      539301\n",
       "Occupation          540780\n",
       "Date of Birth       541894\n",
       "Death date          554675\n",
       "dtype: int64"
      ]
     },
     "execution_count": 13,
     "metadata": {},
     "output_type": "execute_result"
    }
   ],
   "source": [
    "customer_full_data.isnull().sum()"
   ]
  },
  {
   "cell_type": "code",
   "execution_count": 167,
   "metadata": {},
   "outputs": [],
   "source": [
    "#customer = customer_full_data.drop(columns = ['Marital Status', 'Occupation', 'Date of Birth', 'Death date', 'Business Partner'])"
   ]
  },
  {
   "cell_type": "code",
   "execution_count": 14,
   "metadata": {},
   "outputs": [
    {
     "data": {
      "text/plain": [
       "Business Partner            object\n",
       "Customer No.                object\n",
       "Partner Type               float64\n",
       "Data Origin                 object\n",
       "Title                      float64\n",
       "Marital Status             float64\n",
       "Occupation                 float64\n",
       "Date of Birth               object\n",
       "Death date          datetime64[ns]\n",
       "dtype: object"
      ]
     },
     "execution_count": 14,
     "metadata": {},
     "output_type": "execute_result"
    }
   ],
   "source": [
    "customer = customer_full_data\n",
    "customer.dtypes"
   ]
  },
  {
   "cell_type": "code",
   "execution_count": 15,
   "metadata": {},
   "outputs": [
    {
     "data": {
      "text/plain": [
       "Business Partner         0\n",
       "Customer No.             0\n",
       "Partner Type            78\n",
       "Data Origin            136\n",
       "Title                46307\n",
       "Marital Status      539301\n",
       "Occupation          540780\n",
       "Date of Birth       541894\n",
       "Death date          554675\n",
       "dtype: int64"
      ]
     },
     "execution_count": 15,
     "metadata": {},
     "output_type": "execute_result"
    }
   ],
   "source": [
    "customer.isnull().sum()"
   ]
  },
  {
   "cell_type": "code",
   "execution_count": 16,
   "metadata": {},
   "outputs": [],
   "source": [
    "#Fill Missing Values in Partner Type, Data Origin, Title columns with most_frequently used values.\n",
    "most_frequent_value = customer['Partner Type'].mode()\n",
    "customer['Partner Type'] = customer['Partner Type'].fillna(most_frequent_value[0])"
   ]
  },
  {
   "cell_type": "code",
   "execution_count": 17,
   "metadata": {},
   "outputs": [],
   "source": [
    "customer['Data Origin'] = customer['Data Origin'].fillna(customer['Data Origin'].mode()[0])"
   ]
  },
  {
   "cell_type": "code",
   "execution_count": 18,
   "metadata": {},
   "outputs": [],
   "source": [
    "customer['Title'] = customer['Title'].fillna(customer['Title'].mode()[0])"
   ]
  },
  {
   "cell_type": "code",
   "execution_count": 19,
   "metadata": {},
   "outputs": [
    {
     "data": {
      "text/plain": [
       "Business Partner         0\n",
       "Customer No.             0\n",
       "Partner Type             0\n",
       "Data Origin              0\n",
       "Title                    0\n",
       "Marital Status      539301\n",
       "Occupation          540780\n",
       "Date of Birth       541894\n",
       "Death date          554675\n",
       "dtype: int64"
      ]
     },
     "execution_count": 19,
     "metadata": {},
     "output_type": "execute_result"
    }
   ],
   "source": [
    "customer.isnull().sum()"
   ]
  },
  {
   "cell_type": "code",
   "execution_count": 20,
   "metadata": {},
   "outputs": [
    {
     "name": "stderr",
     "output_type": "stream",
     "text": [
      "C:\\Anaconda3\\lib\\site-packages\\IPython\\core\\interactiveshell.py:3051: DtypeWarning: Columns (9,10,14,15,21,41,51) have mixed types. Specify dtype option on import or set low_memory=False.\n",
      "  interactivity=interactivity, compiler=compiler, result=result)\n"
     ]
    }
   ],
   "source": [
    "#Load Invoice Data - Handle missing, duplicate data\n",
    "invoice_full_data = pd.read_csv('./Data/Final_invoice.csv',index_col=0)"
   ]
  },
  {
   "cell_type": "code",
   "execution_count": 21,
   "metadata": {},
   "outputs": [
    {
     "data": {
      "text/html": [
       "<div>\n",
       "<style scoped>\n",
       "    .dataframe tbody tr th:only-of-type {\n",
       "        vertical-align: middle;\n",
       "    }\n",
       "\n",
       "    .dataframe tbody tr th {\n",
       "        vertical-align: top;\n",
       "    }\n",
       "\n",
       "    .dataframe thead th {\n",
       "        text-align: right;\n",
       "    }\n",
       "</style>\n",
       "<table border=\"1\" class=\"dataframe\">\n",
       "  <thead>\n",
       "    <tr style=\"text-align: right;\">\n",
       "      <th></th>\n",
       "      <th>Amt Rcvd From Custom</th>\n",
       "      <th>Amt Rcvd From Ins Co</th>\n",
       "      <th>Area / Locality</th>\n",
       "      <th>CGST(14%)</th>\n",
       "      <th>CGST(2.5%)</th>\n",
       "      <th>CGST(6%)</th>\n",
       "      <th>CGST(9%)</th>\n",
       "      <th>CITY</th>\n",
       "      <th>Cash /Cashless Type</th>\n",
       "      <th>Claim No.</th>\n",
       "      <th>...</th>\n",
       "      <th>Service Advisor Name</th>\n",
       "      <th>TDS amount</th>\n",
       "      <th>Technician Name</th>\n",
       "      <th>Total Amt Wtd Tax.</th>\n",
       "      <th>Total CGST</th>\n",
       "      <th>Total GST</th>\n",
       "      <th>Total IGST</th>\n",
       "      <th>Total SGST/UGST</th>\n",
       "      <th>Total Value</th>\n",
       "      <th>User ID</th>\n",
       "    </tr>\n",
       "  </thead>\n",
       "  <tbody>\n",
       "    <tr>\n",
       "      <th>0</th>\n",
       "      <td>0.0</td>\n",
       "      <td>0.0</td>\n",
       "      <td>MAJIWADA</td>\n",
       "      <td>0.0</td>\n",
       "      <td>0.0</td>\n",
       "      <td>0.0</td>\n",
       "      <td>0.0</td>\n",
       "      <td>Thane</td>\n",
       "      <td>NaN</td>\n",
       "      <td>NaN</td>\n",
       "      <td>...</td>\n",
       "      <td>NaN</td>\n",
       "      <td>0.0</td>\n",
       "      <td>RUPESH</td>\n",
       "      <td>4051.95</td>\n",
       "      <td>0.0</td>\n",
       "      <td>0.0</td>\n",
       "      <td>0.0</td>\n",
       "      <td>0.0</td>\n",
       "      <td>4051.95</td>\n",
       "      <td>BC01FS1</td>\n",
       "    </tr>\n",
       "    <tr>\n",
       "      <th>1</th>\n",
       "      <td>0.0</td>\n",
       "      <td>0.0</td>\n",
       "      <td>THNAE</td>\n",
       "      <td>0.0</td>\n",
       "      <td>0.0</td>\n",
       "      <td>0.0</td>\n",
       "      <td>0.0</td>\n",
       "      <td>THNAE</td>\n",
       "      <td>NaN</td>\n",
       "      <td>NaN</td>\n",
       "      <td>...</td>\n",
       "      <td>NaN</td>\n",
       "      <td>0.0</td>\n",
       "      <td>PRASHANT</td>\n",
       "      <td>1001.29</td>\n",
       "      <td>0.0</td>\n",
       "      <td>0.0</td>\n",
       "      <td>0.0</td>\n",
       "      <td>0.0</td>\n",
       "      <td>1001.29</td>\n",
       "      <td>BC01SA2</td>\n",
       "    </tr>\n",
       "    <tr>\n",
       "      <th>2</th>\n",
       "      <td>0.0</td>\n",
       "      <td>0.0</td>\n",
       "      <td>THANE</td>\n",
       "      <td>0.0</td>\n",
       "      <td>0.0</td>\n",
       "      <td>0.0</td>\n",
       "      <td>0.0</td>\n",
       "      <td>THANE[W]</td>\n",
       "      <td>NaN</td>\n",
       "      <td>NaN</td>\n",
       "      <td>...</td>\n",
       "      <td>NaN</td>\n",
       "      <td>0.0</td>\n",
       "      <td>IMRAN</td>\n",
       "      <td>233.14</td>\n",
       "      <td>0.0</td>\n",
       "      <td>0.0</td>\n",
       "      <td>0.0</td>\n",
       "      <td>0.0</td>\n",
       "      <td>233.14</td>\n",
       "      <td>BC01SA2</td>\n",
       "    </tr>\n",
       "    <tr>\n",
       "      <th>3</th>\n",
       "      <td>0.0</td>\n",
       "      <td>0.0</td>\n",
       "      <td>THNAE</td>\n",
       "      <td>0.0</td>\n",
       "      <td>0.0</td>\n",
       "      <td>0.0</td>\n",
       "      <td>0.0</td>\n",
       "      <td>THNAE</td>\n",
       "      <td>NaN</td>\n",
       "      <td>NaN</td>\n",
       "      <td>...</td>\n",
       "      <td>NaN</td>\n",
       "      <td>0.0</td>\n",
       "      <td>PRASHANT</td>\n",
       "      <td>0.00</td>\n",
       "      <td>0.0</td>\n",
       "      <td>0.0</td>\n",
       "      <td>0.0</td>\n",
       "      <td>0.0</td>\n",
       "      <td>0.00</td>\n",
       "      <td>BC01SA2</td>\n",
       "    </tr>\n",
       "    <tr>\n",
       "      <th>4</th>\n",
       "      <td>0.0</td>\n",
       "      <td>0.0</td>\n",
       "      <td>THANE</td>\n",
       "      <td>0.0</td>\n",
       "      <td>0.0</td>\n",
       "      <td>0.0</td>\n",
       "      <td>0.0</td>\n",
       "      <td>THANE</td>\n",
       "      <td>NaN</td>\n",
       "      <td>NaN</td>\n",
       "      <td>...</td>\n",
       "      <td>NaN</td>\n",
       "      <td>0.0</td>\n",
       "      <td>DAYANAND</td>\n",
       "      <td>2747.12</td>\n",
       "      <td>0.0</td>\n",
       "      <td>0.0</td>\n",
       "      <td>0.0</td>\n",
       "      <td>0.0</td>\n",
       "      <td>2747.12</td>\n",
       "      <td>BC01SA2</td>\n",
       "    </tr>\n",
       "  </tbody>\n",
       "</table>\n",
       "<p>5 rows × 58 columns</p>\n",
       "</div>"
      ],
      "text/plain": [
       "   Amt Rcvd From Custom  Amt Rcvd From Ins Co Area / Locality  CGST(14%)  \\\n",
       "0                   0.0                   0.0        MAJIWADA        0.0   \n",
       "1                   0.0                   0.0           THNAE        0.0   \n",
       "2                   0.0                   0.0           THANE        0.0   \n",
       "3                   0.0                   0.0           THNAE        0.0   \n",
       "4                   0.0                   0.0           THANE        0.0   \n",
       "\n",
       "   CGST(2.5%)  CGST(6%)  CGST(9%)      CITY Cash /Cashless Type Claim No.  \\\n",
       "0         0.0       0.0       0.0     Thane                 NaN       NaN   \n",
       "1         0.0       0.0       0.0     THNAE                 NaN       NaN   \n",
       "2         0.0       0.0       0.0  THANE[W]                 NaN       NaN   \n",
       "3         0.0       0.0       0.0     THNAE                 NaN       NaN   \n",
       "4         0.0       0.0       0.0     THANE                 NaN       NaN   \n",
       "\n",
       "   ... Service Advisor Name TDS amount Technician Name Total Amt Wtd Tax.  \\\n",
       "0  ...                  NaN        0.0          RUPESH            4051.95   \n",
       "1  ...                  NaN        0.0        PRASHANT            1001.29   \n",
       "2  ...                  NaN        0.0           IMRAN             233.14   \n",
       "3  ...                  NaN        0.0        PRASHANT               0.00   \n",
       "4  ...                  NaN        0.0        DAYANAND            2747.12   \n",
       "\n",
       "  Total CGST Total GST  Total IGST  Total SGST/UGST  Total Value  User ID  \n",
       "0        0.0       0.0         0.0              0.0      4051.95  BC01FS1  \n",
       "1        0.0       0.0         0.0              0.0      1001.29  BC01SA2  \n",
       "2        0.0       0.0         0.0              0.0       233.14  BC01SA2  \n",
       "3        0.0       0.0         0.0              0.0         0.00  BC01SA2  \n",
       "4        0.0       0.0         0.0              0.0      2747.12  BC01SA2  \n",
       "\n",
       "[5 rows x 58 columns]"
      ]
     },
     "execution_count": 21,
     "metadata": {},
     "output_type": "execute_result"
    }
   ],
   "source": [
    "invoice_full_data.head()"
   ]
  },
  {
   "cell_type": "code",
   "execution_count": 22,
   "metadata": {},
   "outputs": [
    {
     "data": {
      "text/plain": [
       "(492314, 58)"
      ]
     },
     "execution_count": 22,
     "metadata": {},
     "output_type": "execute_result"
    }
   ],
   "source": [
    "invoice_full_data.shape"
   ]
  },
  {
   "cell_type": "code",
   "execution_count": 23,
   "metadata": {},
   "outputs": [
    {
     "data": {
      "text/html": [
       "<div>\n",
       "<style scoped>\n",
       "    .dataframe tbody tr th:only-of-type {\n",
       "        vertical-align: middle;\n",
       "    }\n",
       "\n",
       "    .dataframe tbody tr th {\n",
       "        vertical-align: top;\n",
       "    }\n",
       "\n",
       "    .dataframe thead th {\n",
       "        text-align: right;\n",
       "    }\n",
       "</style>\n",
       "<table border=\"1\" class=\"dataframe\">\n",
       "  <thead>\n",
       "    <tr style=\"text-align: right;\">\n",
       "      <th></th>\n",
       "      <th>Amt Rcvd From Custom</th>\n",
       "      <th>Amt Rcvd From Ins Co</th>\n",
       "      <th>Area / Locality</th>\n",
       "      <th>CGST(14%)</th>\n",
       "      <th>CGST(2.5%)</th>\n",
       "      <th>CGST(6%)</th>\n",
       "      <th>CGST(9%)</th>\n",
       "      <th>CITY</th>\n",
       "      <th>Cash /Cashless Type</th>\n",
       "      <th>Claim No.</th>\n",
       "      <th>...</th>\n",
       "      <th>Service Advisor Name</th>\n",
       "      <th>TDS amount</th>\n",
       "      <th>Technician Name</th>\n",
       "      <th>Total Amt Wtd Tax.</th>\n",
       "      <th>Total CGST</th>\n",
       "      <th>Total GST</th>\n",
       "      <th>Total IGST</th>\n",
       "      <th>Total SGST/UGST</th>\n",
       "      <th>Total Value</th>\n",
       "      <th>User ID</th>\n",
       "    </tr>\n",
       "  </thead>\n",
       "  <tbody>\n",
       "    <tr>\n",
       "      <th>596342</th>\n",
       "      <td>0.0</td>\n",
       "      <td>0.0</td>\n",
       "      <td>NaN</td>\n",
       "      <td>0.0</td>\n",
       "      <td>0.0</td>\n",
       "      <td>0.0</td>\n",
       "      <td>0.0</td>\n",
       "      <td>Nashik</td>\n",
       "      <td>NaN</td>\n",
       "      <td>NaN</td>\n",
       "      <td>...</td>\n",
       "      <td>NaN</td>\n",
       "      <td>0.0</td>\n",
       "      <td>VILAS</td>\n",
       "      <td>3224.98</td>\n",
       "      <td>0.0</td>\n",
       "      <td>0.0</td>\n",
       "      <td>0.0</td>\n",
       "      <td>0.0</td>\n",
       "      <td>3224.98</td>\n",
       "      <td>BC03SA2</td>\n",
       "    </tr>\n",
       "    <tr>\n",
       "      <th>655477</th>\n",
       "      <td>0.0</td>\n",
       "      <td>0.0</td>\n",
       "      <td>NaN</td>\n",
       "      <td>0.0</td>\n",
       "      <td>0.0</td>\n",
       "      <td>0.0</td>\n",
       "      <td>0.0</td>\n",
       "      <td>Nashik</td>\n",
       "      <td>NaN</td>\n",
       "      <td>NaN</td>\n",
       "      <td>...</td>\n",
       "      <td>NaN</td>\n",
       "      <td>0.0</td>\n",
       "      <td>NaN</td>\n",
       "      <td>420.09</td>\n",
       "      <td>0.0</td>\n",
       "      <td>0.0</td>\n",
       "      <td>0.0</td>\n",
       "      <td>0.0</td>\n",
       "      <td>420.09</td>\n",
       "      <td>GOLIVE</td>\n",
       "    </tr>\n",
       "    <tr>\n",
       "      <th>671744</th>\n",
       "      <td>0.0</td>\n",
       "      <td>0.0</td>\n",
       "      <td>NaN</td>\n",
       "      <td>0.0</td>\n",
       "      <td>0.0</td>\n",
       "      <td>0.0</td>\n",
       "      <td>0.0</td>\n",
       "      <td>Nashik</td>\n",
       "      <td>NaN</td>\n",
       "      <td>NaN</td>\n",
       "      <td>...</td>\n",
       "      <td>NaN</td>\n",
       "      <td>0.0</td>\n",
       "      <td>NaN</td>\n",
       "      <td>1637.43</td>\n",
       "      <td>0.0</td>\n",
       "      <td>0.0</td>\n",
       "      <td>0.0</td>\n",
       "      <td>0.0</td>\n",
       "      <td>1637.43</td>\n",
       "      <td>BC03SA3</td>\n",
       "    </tr>\n",
       "    <tr>\n",
       "      <th>698201</th>\n",
       "      <td>0.0</td>\n",
       "      <td>0.0</td>\n",
       "      <td>NaN</td>\n",
       "      <td>0.0</td>\n",
       "      <td>0.0</td>\n",
       "      <td>0.0</td>\n",
       "      <td>0.0</td>\n",
       "      <td>Nashik</td>\n",
       "      <td>NaN</td>\n",
       "      <td>NaN</td>\n",
       "      <td>...</td>\n",
       "      <td>NaN</td>\n",
       "      <td>0.0</td>\n",
       "      <td>CX</td>\n",
       "      <td>1803.27</td>\n",
       "      <td>0.0</td>\n",
       "      <td>0.0</td>\n",
       "      <td>0.0</td>\n",
       "      <td>0.0</td>\n",
       "      <td>1803.27</td>\n",
       "      <td>BC03SA3</td>\n",
       "    </tr>\n",
       "  </tbody>\n",
       "</table>\n",
       "<p>4 rows × 58 columns</p>\n",
       "</div>"
      ],
      "text/plain": [
       "        Amt Rcvd From Custom  Amt Rcvd From Ins Co Area / Locality  CGST(14%)  \\\n",
       "596342                   0.0                   0.0             NaN        0.0   \n",
       "655477                   0.0                   0.0             NaN        0.0   \n",
       "671744                   0.0                   0.0             NaN        0.0   \n",
       "698201                   0.0                   0.0             NaN        0.0   \n",
       "\n",
       "        CGST(2.5%)  CGST(6%)  CGST(9%)    CITY Cash /Cashless Type Claim No.  \\\n",
       "596342         0.0       0.0       0.0  Nashik                 NaN       NaN   \n",
       "655477         0.0       0.0       0.0  Nashik                 NaN       NaN   \n",
       "671744         0.0       0.0       0.0  Nashik                 NaN       NaN   \n",
       "698201         0.0       0.0       0.0  Nashik                 NaN       NaN   \n",
       "\n",
       "        ... Service Advisor Name TDS amount Technician Name  \\\n",
       "596342  ...                  NaN        0.0           VILAS   \n",
       "655477  ...                  NaN        0.0             NaN   \n",
       "671744  ...                  NaN        0.0             NaN   \n",
       "698201  ...                  NaN        0.0              CX   \n",
       "\n",
       "       Total Amt Wtd Tax. Total CGST Total GST  Total IGST  Total SGST/UGST  \\\n",
       "596342            3224.98        0.0       0.0         0.0              0.0   \n",
       "655477             420.09        0.0       0.0         0.0              0.0   \n",
       "671744            1637.43        0.0       0.0         0.0              0.0   \n",
       "698201            1803.27        0.0       0.0         0.0              0.0   \n",
       "\n",
       "        Total Value  User ID  \n",
       "596342      3224.98  BC03SA2  \n",
       "655477       420.09   GOLIVE  \n",
       "671744      1637.43  BC03SA3  \n",
       "698201      1803.27  BC03SA3  \n",
       "\n",
       "[4 rows x 58 columns]"
      ]
     },
     "execution_count": 23,
     "metadata": {},
     "output_type": "execute_result"
    }
   ],
   "source": [
    "invoice_full_data[invoice_full_data['Customer No.']=='E14006']"
   ]
  },
  {
   "cell_type": "code",
   "execution_count": 178,
   "metadata": {},
   "outputs": [],
   "source": [
    "#columns_to_be_removed = invoice_full_data.isnull().sum()[invoice_full_data.isnull().sum().sort_values() > 29178].index"
   ]
  },
  {
   "cell_type": "code",
   "execution_count": 179,
   "metadata": {},
   "outputs": [
    {
     "data": {
      "text/plain": [
       "Index(['Amt Rcvd From Custom', 'Amt Rcvd From Ins Co', 'CGST(14%)',\n",
       "       'CGST(2.5%)', 'CGST(6%)', 'CGST(9%)', 'Cash /Cashless Type',\n",
       "       'Claim No.', 'Expiry Date', 'Gate Pass Date', 'IGST(12%)', 'IGST(18%)',\n",
       "       'IGST(28%)', 'IGST(5%)', 'Insurance Company', 'ODN No.',\n",
       "       'Outstanding Amt', 'Policy no.', 'SGST/UGST(14%)', 'SGST/UGST(2.5%)',\n",
       "       'SGST/UGST(6%)', 'SGST/UGST(9%)', 'Service Advisor Name', 'TDS amount',\n",
       "       'Technician Name', 'Total CGST', 'Total GST', 'Total IGST',\n",
       "       'Total SGST/UGST', 'Total Value'],\n",
       "      dtype='object')"
      ]
     },
     "execution_count": 179,
     "metadata": {},
     "output_type": "execute_result"
    }
   ],
   "source": [
    "#columns_to_be_removed"
   ]
  },
  {
   "cell_type": "code",
   "execution_count": 180,
   "metadata": {},
   "outputs": [],
   "source": [
    "invoice = invoice_full_data.drop(columns=columns_to_be_removed)"
   ]
  },
  {
   "cell_type": "code",
   "execution_count": 24,
   "metadata": {},
   "outputs": [
    {
     "data": {
      "text/plain": [
       "(492314, 58)"
      ]
     },
     "execution_count": 24,
     "metadata": {},
     "output_type": "execute_result"
    }
   ],
   "source": [
    "invoice = invoice_full_data\n",
    "invoice.shape"
   ]
  },
  {
   "cell_type": "code",
   "execution_count": 25,
   "metadata": {},
   "outputs": [
    {
     "data": {
      "text/html": [
       "<div>\n",
       "<style scoped>\n",
       "    .dataframe tbody tr th:only-of-type {\n",
       "        vertical-align: middle;\n",
       "    }\n",
       "\n",
       "    .dataframe tbody tr th {\n",
       "        vertical-align: top;\n",
       "    }\n",
       "\n",
       "    .dataframe thead th {\n",
       "        text-align: right;\n",
       "    }\n",
       "</style>\n",
       "<table border=\"1\" class=\"dataframe\">\n",
       "  <thead>\n",
       "    <tr style=\"text-align: right;\">\n",
       "      <th></th>\n",
       "      <th>Amt Rcvd From Custom</th>\n",
       "      <th>Amt Rcvd From Ins Co</th>\n",
       "      <th>Area / Locality</th>\n",
       "      <th>CGST(14%)</th>\n",
       "      <th>CGST(2.5%)</th>\n",
       "      <th>CGST(6%)</th>\n",
       "      <th>CGST(9%)</th>\n",
       "      <th>CITY</th>\n",
       "      <th>Cash /Cashless Type</th>\n",
       "      <th>Claim No.</th>\n",
       "      <th>...</th>\n",
       "      <th>Service Advisor Name</th>\n",
       "      <th>TDS amount</th>\n",
       "      <th>Technician Name</th>\n",
       "      <th>Total Amt Wtd Tax.</th>\n",
       "      <th>Total CGST</th>\n",
       "      <th>Total GST</th>\n",
       "      <th>Total IGST</th>\n",
       "      <th>Total SGST/UGST</th>\n",
       "      <th>Total Value</th>\n",
       "      <th>User ID</th>\n",
       "    </tr>\n",
       "  </thead>\n",
       "  <tbody>\n",
       "    <tr>\n",
       "      <th>0</th>\n",
       "      <td>0.0</td>\n",
       "      <td>0.0</td>\n",
       "      <td>MAJIWADA</td>\n",
       "      <td>0.0</td>\n",
       "      <td>0.0</td>\n",
       "      <td>0.0</td>\n",
       "      <td>0.0</td>\n",
       "      <td>Thane</td>\n",
       "      <td>NaN</td>\n",
       "      <td>NaN</td>\n",
       "      <td>...</td>\n",
       "      <td>NaN</td>\n",
       "      <td>0.0</td>\n",
       "      <td>RUPESH</td>\n",
       "      <td>4051.95</td>\n",
       "      <td>0.0</td>\n",
       "      <td>0.0</td>\n",
       "      <td>0.0</td>\n",
       "      <td>0.0</td>\n",
       "      <td>4051.95</td>\n",
       "      <td>BC01FS1</td>\n",
       "    </tr>\n",
       "    <tr>\n",
       "      <th>1</th>\n",
       "      <td>0.0</td>\n",
       "      <td>0.0</td>\n",
       "      <td>THNAE</td>\n",
       "      <td>0.0</td>\n",
       "      <td>0.0</td>\n",
       "      <td>0.0</td>\n",
       "      <td>0.0</td>\n",
       "      <td>THNAE</td>\n",
       "      <td>NaN</td>\n",
       "      <td>NaN</td>\n",
       "      <td>...</td>\n",
       "      <td>NaN</td>\n",
       "      <td>0.0</td>\n",
       "      <td>PRASHANT</td>\n",
       "      <td>1001.29</td>\n",
       "      <td>0.0</td>\n",
       "      <td>0.0</td>\n",
       "      <td>0.0</td>\n",
       "      <td>0.0</td>\n",
       "      <td>1001.29</td>\n",
       "      <td>BC01SA2</td>\n",
       "    </tr>\n",
       "    <tr>\n",
       "      <th>2</th>\n",
       "      <td>0.0</td>\n",
       "      <td>0.0</td>\n",
       "      <td>THANE</td>\n",
       "      <td>0.0</td>\n",
       "      <td>0.0</td>\n",
       "      <td>0.0</td>\n",
       "      <td>0.0</td>\n",
       "      <td>THANE[W]</td>\n",
       "      <td>NaN</td>\n",
       "      <td>NaN</td>\n",
       "      <td>...</td>\n",
       "      <td>NaN</td>\n",
       "      <td>0.0</td>\n",
       "      <td>IMRAN</td>\n",
       "      <td>233.14</td>\n",
       "      <td>0.0</td>\n",
       "      <td>0.0</td>\n",
       "      <td>0.0</td>\n",
       "      <td>0.0</td>\n",
       "      <td>233.14</td>\n",
       "      <td>BC01SA2</td>\n",
       "    </tr>\n",
       "    <tr>\n",
       "      <th>3</th>\n",
       "      <td>0.0</td>\n",
       "      <td>0.0</td>\n",
       "      <td>THNAE</td>\n",
       "      <td>0.0</td>\n",
       "      <td>0.0</td>\n",
       "      <td>0.0</td>\n",
       "      <td>0.0</td>\n",
       "      <td>THNAE</td>\n",
       "      <td>NaN</td>\n",
       "      <td>NaN</td>\n",
       "      <td>...</td>\n",
       "      <td>NaN</td>\n",
       "      <td>0.0</td>\n",
       "      <td>PRASHANT</td>\n",
       "      <td>0.00</td>\n",
       "      <td>0.0</td>\n",
       "      <td>0.0</td>\n",
       "      <td>0.0</td>\n",
       "      <td>0.0</td>\n",
       "      <td>0.00</td>\n",
       "      <td>BC01SA2</td>\n",
       "    </tr>\n",
       "    <tr>\n",
       "      <th>4</th>\n",
       "      <td>0.0</td>\n",
       "      <td>0.0</td>\n",
       "      <td>THANE</td>\n",
       "      <td>0.0</td>\n",
       "      <td>0.0</td>\n",
       "      <td>0.0</td>\n",
       "      <td>0.0</td>\n",
       "      <td>THANE</td>\n",
       "      <td>NaN</td>\n",
       "      <td>NaN</td>\n",
       "      <td>...</td>\n",
       "      <td>NaN</td>\n",
       "      <td>0.0</td>\n",
       "      <td>DAYANAND</td>\n",
       "      <td>2747.12</td>\n",
       "      <td>0.0</td>\n",
       "      <td>0.0</td>\n",
       "      <td>0.0</td>\n",
       "      <td>0.0</td>\n",
       "      <td>2747.12</td>\n",
       "      <td>BC01SA2</td>\n",
       "    </tr>\n",
       "  </tbody>\n",
       "</table>\n",
       "<p>5 rows × 58 columns</p>\n",
       "</div>"
      ],
      "text/plain": [
       "   Amt Rcvd From Custom  Amt Rcvd From Ins Co Area / Locality  CGST(14%)  \\\n",
       "0                   0.0                   0.0        MAJIWADA        0.0   \n",
       "1                   0.0                   0.0           THNAE        0.0   \n",
       "2                   0.0                   0.0           THANE        0.0   \n",
       "3                   0.0                   0.0           THNAE        0.0   \n",
       "4                   0.0                   0.0           THANE        0.0   \n",
       "\n",
       "   CGST(2.5%)  CGST(6%)  CGST(9%)      CITY Cash /Cashless Type Claim No.  \\\n",
       "0         0.0       0.0       0.0     Thane                 NaN       NaN   \n",
       "1         0.0       0.0       0.0     THNAE                 NaN       NaN   \n",
       "2         0.0       0.0       0.0  THANE[W]                 NaN       NaN   \n",
       "3         0.0       0.0       0.0     THNAE                 NaN       NaN   \n",
       "4         0.0       0.0       0.0     THANE                 NaN       NaN   \n",
       "\n",
       "   ... Service Advisor Name TDS amount Technician Name Total Amt Wtd Tax.  \\\n",
       "0  ...                  NaN        0.0          RUPESH            4051.95   \n",
       "1  ...                  NaN        0.0        PRASHANT            1001.29   \n",
       "2  ...                  NaN        0.0           IMRAN             233.14   \n",
       "3  ...                  NaN        0.0        PRASHANT               0.00   \n",
       "4  ...                  NaN        0.0        DAYANAND            2747.12   \n",
       "\n",
       "  Total CGST Total GST  Total IGST  Total SGST/UGST  Total Value  User ID  \n",
       "0        0.0       0.0         0.0              0.0      4051.95  BC01FS1  \n",
       "1        0.0       0.0         0.0              0.0      1001.29  BC01SA2  \n",
       "2        0.0       0.0         0.0              0.0       233.14  BC01SA2  \n",
       "3        0.0       0.0         0.0              0.0         0.00  BC01SA2  \n",
       "4        0.0       0.0         0.0              0.0      2747.12  BC01SA2  \n",
       "\n",
       "[5 rows x 58 columns]"
      ]
     },
     "execution_count": 25,
     "metadata": {},
     "output_type": "execute_result"
    }
   ],
   "source": [
    "invoice.head(5)"
   ]
  },
  {
   "cell_type": "code",
   "execution_count": 183,
   "metadata": {},
   "outputs": [],
   "source": [
    "#columns_irrelevant = ['Area / Locality', 'Print Status', 'Gate Pass Time', 'Recovrbl Exp', 'CITY']"
   ]
  },
  {
   "cell_type": "code",
   "execution_count": 184,
   "metadata": {},
   "outputs": [],
   "source": [
    "#invoice = invoice.drop(columns=columns_irrelevant)"
   ]
  },
  {
   "cell_type": "code",
   "execution_count": 185,
   "metadata": {},
   "outputs": [],
   "source": [
    "#invoice.dropna(subset=['Regn No'], inplace=True)"
   ]
  },
  {
   "cell_type": "code",
   "execution_count": 26,
   "metadata": {},
   "outputs": [
    {
     "data": {
      "text/plain": [
       "Labour Total                 0\n",
       "Invoice Time                 0\n",
       "Job Card No                  0\n",
       "JobCard Date                 0\n",
       "JobCard Time                 0\n",
       "KMs Reading                  0\n",
       "Make                         0\n",
       "Misc Total                   0\n",
       "Invoice No                   0\n",
       "OSL Total                    0\n",
       "Parts Total                  0\n",
       "Pin code                     0\n",
       "Plant                        0\n",
       "Plant Name1                  0\n",
       "Print Status                 0\n",
       "Recovrbl Exp                 0\n",
       "Total Amt Wtd Tax.           0\n",
       "Order Type                   0\n",
       "Invoice Date                 0\n",
       "User ID                      0\n",
       "Customer No.                 0\n",
       "Gate Pass Time               0\n",
       "District                     0\n",
       "Cust Type                    0\n",
       "CITY                         1\n",
       "Regn No                     16\n",
       "Model                     1525\n",
       "Area / Locality          23890\n",
       "SGST/UGST(14%)          197286\n",
       "SGST/UGST(2.5%)         197286\n",
       "SGST/UGST(6%)           197286\n",
       "SGST/UGST(9%)           197286\n",
       "CGST(6%)                197286\n",
       "Amt Rcvd From Ins Co    197286\n",
       "Total CGST              197286\n",
       "Total GST               197286\n",
       "Total IGST              197286\n",
       "Total SGST/UGST         197286\n",
       "TDS amount              197286\n",
       "CGST(14%)               197286\n",
       "Amt Rcvd From Custom    197286\n",
       "CGST(2.5%)              197286\n",
       "IGST(28%)               197286\n",
       "IGST(18%)               197286\n",
       "IGST(12%)               197286\n",
       "ODN No.                 197286\n",
       "Total Value             197286\n",
       "Outstanding Amt         197286\n",
       "CGST(9%)                197286\n",
       "IGST(5%)                197286\n",
       "Technician Name         236834\n",
       "Gate Pass Date          451399\n",
       "Cash /Cashless Type     464894\n",
       "Insurance Company       468723\n",
       "Expiry Date             470083\n",
       "Policy no.              475432\n",
       "Claim No.               487510\n",
       "Service Advisor Name    492314\n",
       "dtype: int64"
      ]
     },
     "execution_count": 26,
     "metadata": {},
     "output_type": "execute_result"
    }
   ],
   "source": [
    "invoice.isnull().sum().sort_values()"
   ]
  },
  {
   "cell_type": "code",
   "execution_count": 27,
   "metadata": {},
   "outputs": [],
   "source": [
    "invoice['Cust Type'] = invoice['Cust Type'].fillna(invoice['Cust Type'].mode()[0])\n",
    "#invoice['CITY'] = invoice['CITY'].fillna(invoice['CITY'].mode()[0])\n",
    "invoice['Model']  = invoice['Model'].fillna(invoice['Model'].mode()[0])"
   ]
  },
  {
   "cell_type": "code",
   "execution_count": 28,
   "metadata": {},
   "outputs": [
    {
     "data": {
      "text/plain": [
       "Labour Total                 0\n",
       "Invoice Time                 0\n",
       "Job Card No                  0\n",
       "JobCard Date                 0\n",
       "JobCard Time                 0\n",
       "KMs Reading                  0\n",
       "Make                         0\n",
       "Misc Total                   0\n",
       "Model                        0\n",
       "OSL Total                    0\n",
       "Order Type                   0\n",
       "Parts Total                  0\n",
       "Pin code                     0\n",
       "Plant                        0\n",
       "Plant Name1                  0\n",
       "Print Status                 0\n",
       "Recovrbl Exp                 0\n",
       "Total Amt Wtd Tax.           0\n",
       "Invoice No                   0\n",
       "Invoice Date                 0\n",
       "User ID                      0\n",
       "Customer No.                 0\n",
       "Gate Pass Time               0\n",
       "District                     0\n",
       "Cust Type                    0\n",
       "CITY                         1\n",
       "Regn No                     16\n",
       "Area / Locality          23890\n",
       "SGST/UGST(14%)          197286\n",
       "SGST/UGST(2.5%)         197286\n",
       "SGST/UGST(6%)           197286\n",
       "SGST/UGST(9%)           197286\n",
       "IGST(5%)                197286\n",
       "Amt Rcvd From Ins Co    197286\n",
       "Total CGST              197286\n",
       "Total GST               197286\n",
       "Total IGST              197286\n",
       "Total SGST/UGST         197286\n",
       "TDS amount              197286\n",
       "CGST(14%)               197286\n",
       "CGST(2.5%)              197286\n",
       "Total Value             197286\n",
       "IGST(28%)               197286\n",
       "IGST(18%)               197286\n",
       "IGST(12%)               197286\n",
       "ODN No.                 197286\n",
       "Amt Rcvd From Custom    197286\n",
       "Outstanding Amt         197286\n",
       "CGST(9%)                197286\n",
       "CGST(6%)                197286\n",
       "Technician Name         236834\n",
       "Gate Pass Date          451399\n",
       "Cash /Cashless Type     464894\n",
       "Insurance Company       468723\n",
       "Expiry Date             470083\n",
       "Policy no.              475432\n",
       "Claim No.               487510\n",
       "Service Advisor Name    492314\n",
       "dtype: int64"
      ]
     },
     "execution_count": 28,
     "metadata": {},
     "output_type": "execute_result"
    }
   ],
   "source": [
    "invoice.isnull().sum().sort_values()"
   ]
  },
  {
   "cell_type": "code",
   "execution_count": 29,
   "metadata": {},
   "outputs": [
    {
     "data": {
      "text/plain": [
       "Running Repairs      269455\n",
       "Paid Service         135004\n",
       "Accidental            44159\n",
       "SMC Redemption        15738\n",
       "Mechanical            15100\n",
       "SMC Value Package      9781\n",
       "Repeat Order           3043\n",
       "WBW Order                17\n",
       "Workshop Damage          17\n",
       "Name: Order Type, dtype: int64"
      ]
     },
     "execution_count": 29,
     "metadata": {},
     "output_type": "execute_result"
    }
   ],
   "source": [
    "invoice['Order Type'].value_counts()"
   ]
  },
  {
   "cell_type": "code",
   "execution_count": 30,
   "metadata": {},
   "outputs": [
    {
     "name": "stderr",
     "output_type": "stream",
     "text": [
      "C:\\Anaconda3\\lib\\site-packages\\numpy\\lib\\arraysetops.py:568: FutureWarning: elementwise comparison failed; returning scalar instead, but in the future will perform elementwise comparison\n",
      "  mask |= (ar1 == a)\n"
     ]
    }
   ],
   "source": [
    "#Read JTD data - Handle missing and duplicate data\n",
    "jtd = pd.read_csv('./Data/JTD.csv',index_col=0)"
   ]
  },
  {
   "cell_type": "code",
   "execution_count": 31,
   "metadata": {},
   "outputs": [
    {
     "data": {
      "text/html": [
       "<div>\n",
       "<style scoped>\n",
       "    .dataframe tbody tr th:only-of-type {\n",
       "        vertical-align: middle;\n",
       "    }\n",
       "\n",
       "    .dataframe tbody tr th {\n",
       "        vertical-align: top;\n",
       "    }\n",
       "\n",
       "    .dataframe thead th {\n",
       "        text-align: right;\n",
       "    }\n",
       "</style>\n",
       "<table border=\"1\" class=\"dataframe\">\n",
       "  <thead>\n",
       "    <tr style=\"text-align: right;\">\n",
       "      <th></th>\n",
       "      <th>DBM Order</th>\n",
       "      <th>Order Item</th>\n",
       "      <th>Material</th>\n",
       "      <th>Labor Value Number</th>\n",
       "      <th>Description</th>\n",
       "      <th>Item Category</th>\n",
       "      <th>Order Quantity</th>\n",
       "      <th>Target quantity UoM</th>\n",
       "      <th>Net value</th>\n",
       "    </tr>\n",
       "  </thead>\n",
       "  <tbody>\n",
       "    <tr>\n",
       "      <th>0</th>\n",
       "      <td>22385</td>\n",
       "      <td>180</td>\n",
       "      <td>OSLCC_SRV31</td>\n",
       "      <td>NaN</td>\n",
       "      <td>MACHINING RR.SUSPENSION CHARGE  (MAJOR)</td>\n",
       "      <td>P010</td>\n",
       "      <td>1.2</td>\n",
       "      <td>MIN</td>\n",
       "      <td>1869.87</td>\n",
       "    </tr>\n",
       "    <tr>\n",
       "      <th>1</th>\n",
       "      <td>23910</td>\n",
       "      <td>10</td>\n",
       "      <td>1DM279018170117</td>\n",
       "      <td>NaN</td>\n",
       "      <td>ASSY.OIL COOLER (6-PLATE) (VOR</td>\n",
       "      <td>P002</td>\n",
       "      <td>1.0</td>\n",
       "      <td>EA</td>\n",
       "      <td>2151.13</td>\n",
       "    </tr>\n",
       "    <tr>\n",
       "      <th>2</th>\n",
       "      <td>23910</td>\n",
       "      <td>40</td>\n",
       "      <td>1IS150203BE01</td>\n",
       "      <td>NaN</td>\n",
       "      <td>FRONT WHEEL BEARING/ LUBRICATE</td>\n",
       "      <td>P002</td>\n",
       "      <td>1.0</td>\n",
       "      <td>EA</td>\n",
       "      <td>2552.92</td>\n",
       "    </tr>\n",
       "    <tr>\n",
       "      <th>3</th>\n",
       "      <td>23910</td>\n",
       "      <td>60</td>\n",
       "      <td>1DM279001990173</td>\n",
       "      <td>NaN</td>\n",
       "      <td>ASSY.CYL.HEAD W /O INJ.(NA W /O</td>\n",
       "      <td>P002</td>\n",
       "      <td>1.0</td>\n",
       "      <td>EA</td>\n",
       "      <td>20360.14</td>\n",
       "    </tr>\n",
       "    <tr>\n",
       "      <th>4</th>\n",
       "      <td>23910</td>\n",
       "      <td>70</td>\n",
       "      <td>1DM88552790S001SA</td>\n",
       "      <td>NaN</td>\n",
       "      <td>Engine Overhaul Kit -Indica Di</td>\n",
       "      <td>P002</td>\n",
       "      <td>1.0</td>\n",
       "      <td>EA</td>\n",
       "      <td>10691.63</td>\n",
       "    </tr>\n",
       "  </tbody>\n",
       "</table>\n",
       "</div>"
      ],
      "text/plain": [
       "   DBM Order  Order Item           Material Labor Value Number  \\\n",
       "0      22385         180        OSLCC_SRV31                NaN   \n",
       "1      23910          10    1DM279018170117                NaN   \n",
       "2      23910          40      1IS150203BE01                NaN   \n",
       "3      23910          60    1DM279001990173                NaN   \n",
       "4      23910          70  1DM88552790S001SA                NaN   \n",
       "\n",
       "                               Description Item Category  Order Quantity  \\\n",
       "0  MACHINING RR.SUSPENSION CHARGE  (MAJOR)          P010             1.2   \n",
       "1           ASSY.OIL COOLER (6-PLATE) (VOR          P002             1.0   \n",
       "2           FRONT WHEEL BEARING/ LUBRICATE          P002             1.0   \n",
       "3          ASSY.CYL.HEAD W /O INJ.(NA W /O          P002             1.0   \n",
       "4           Engine Overhaul Kit -Indica Di          P002             1.0   \n",
       "\n",
       "  Target quantity UoM  Net value  \n",
       "0                 MIN    1869.87  \n",
       "1                  EA    2151.13  \n",
       "2                  EA    2552.92  \n",
       "3                  EA   20360.14  \n",
       "4                  EA   10691.63  "
      ]
     },
     "execution_count": 31,
     "metadata": {},
     "output_type": "execute_result"
    }
   ],
   "source": [
    "jtd.head()"
   ]
  },
  {
   "cell_type": "code",
   "execution_count": 32,
   "metadata": {},
   "outputs": [
    {
     "data": {
      "text/plain": [
       "(5619484, 9)"
      ]
     },
     "execution_count": 32,
     "metadata": {},
     "output_type": "execute_result"
    }
   ],
   "source": [
    "jtd.shape"
   ]
  },
  {
   "cell_type": "code",
   "execution_count": 33,
   "metadata": {},
   "outputs": [
    {
     "data": {
      "text/html": [
       "<div>\n",
       "<style scoped>\n",
       "    .dataframe tbody tr th:only-of-type {\n",
       "        vertical-align: middle;\n",
       "    }\n",
       "\n",
       "    .dataframe tbody tr th {\n",
       "        vertical-align: top;\n",
       "    }\n",
       "\n",
       "    .dataframe thead th {\n",
       "        text-align: right;\n",
       "    }\n",
       "</style>\n",
       "<table border=\"1\" class=\"dataframe\">\n",
       "  <thead>\n",
       "    <tr style=\"text-align: right;\">\n",
       "      <th></th>\n",
       "      <th>DBM Order</th>\n",
       "      <th>Order Item</th>\n",
       "      <th>Material</th>\n",
       "      <th>Labor Value Number</th>\n",
       "      <th>Description</th>\n",
       "      <th>Item Category</th>\n",
       "      <th>Order Quantity</th>\n",
       "      <th>Target quantity UoM</th>\n",
       "      <th>Net value</th>\n",
       "    </tr>\n",
       "  </thead>\n",
       "  <tbody>\n",
       "    <tr>\n",
       "      <th>2674242</th>\n",
       "      <td>98050</td>\n",
       "      <td>10</td>\n",
       "      <td>1EMJ96615412</td>\n",
       "      <td>NaN</td>\n",
       "      <td>SWITCH A-A/C CONTROL</td>\n",
       "      <td>P002</td>\n",
       "      <td>1.0</td>\n",
       "      <td>EA</td>\n",
       "      <td>5185.92</td>\n",
       "    </tr>\n",
       "    <tr>\n",
       "      <th>2674243</th>\n",
       "      <td>98050</td>\n",
       "      <td>20</td>\n",
       "      <td>1EMJ96548238</td>\n",
       "      <td>NaN</td>\n",
       "      <td>WEATHER STRIP A-REAR DOOR LH</td>\n",
       "      <td>P002</td>\n",
       "      <td>1.0</td>\n",
       "      <td>EA</td>\n",
       "      <td>1433.49</td>\n",
       "    </tr>\n",
       "    <tr>\n",
       "      <th>2674244</th>\n",
       "      <td>98050</td>\n",
       "      <td>30</td>\n",
       "      <td>1EMJ96548102</td>\n",
       "      <td>NaN</td>\n",
       "      <td>WEATHER STRIP A-FRONT DOOR LH</td>\n",
       "      <td>P002</td>\n",
       "      <td>1.0</td>\n",
       "      <td>EA</td>\n",
       "      <td>1526.88</td>\n",
       "    </tr>\n",
       "    <tr>\n",
       "      <th>2674245</th>\n",
       "      <td>98050</td>\n",
       "      <td>40</td>\n",
       "      <td>1EMJ96548239</td>\n",
       "      <td>NaN</td>\n",
       "      <td>WEATHER STRIP A-REAR DOOR RH</td>\n",
       "      <td>P002</td>\n",
       "      <td>1.0</td>\n",
       "      <td>EA</td>\n",
       "      <td>1433.49</td>\n",
       "    </tr>\n",
       "    <tr>\n",
       "      <th>2674246</th>\n",
       "      <td>98050</td>\n",
       "      <td>50</td>\n",
       "      <td>1EMJ96548103</td>\n",
       "      <td>NaN</td>\n",
       "      <td>WEATHER STRIP A-FRONT DOOR RH</td>\n",
       "      <td>P002</td>\n",
       "      <td>1.0</td>\n",
       "      <td>EA</td>\n",
       "      <td>1526.88</td>\n",
       "    </tr>\n",
       "  </tbody>\n",
       "</table>\n",
       "</div>"
      ],
      "text/plain": [
       "         DBM Order  Order Item      Material Labor Value Number  \\\n",
       "2674242      98050          10  1EMJ96615412                NaN   \n",
       "2674243      98050          20  1EMJ96548238                NaN   \n",
       "2674244      98050          30  1EMJ96548102                NaN   \n",
       "2674245      98050          40  1EMJ96548239                NaN   \n",
       "2674246      98050          50  1EMJ96548103                NaN   \n",
       "\n",
       "                           Description Item Category  Order Quantity  \\\n",
       "2674242           SWITCH A-A/C CONTROL          P002             1.0   \n",
       "2674243   WEATHER STRIP A-REAR DOOR LH          P002             1.0   \n",
       "2674244  WEATHER STRIP A-FRONT DOOR LH          P002             1.0   \n",
       "2674245   WEATHER STRIP A-REAR DOOR RH          P002             1.0   \n",
       "2674246  WEATHER STRIP A-FRONT DOOR RH          P002             1.0   \n",
       "\n",
       "        Target quantity UoM  Net value  \n",
       "2674242                  EA    5185.92  \n",
       "2674243                  EA    1433.49  \n",
       "2674244                  EA    1526.88  \n",
       "2674245                  EA    1433.49  \n",
       "2674246                  EA    1526.88  "
      ]
     },
     "execution_count": 33,
     "metadata": {},
     "output_type": "execute_result"
    }
   ],
   "source": [
    "jtd[jtd['DBM Order']==98050]"
   ]
  },
  {
   "cell_type": "code",
   "execution_count": 34,
   "metadata": {},
   "outputs": [
    {
     "data": {
      "text/plain": [
       "3604"
      ]
     },
     "execution_count": 34,
     "metadata": {},
     "output_type": "execute_result"
    }
   ],
   "source": [
    "len(jtd['Order Quantity'].unique())"
   ]
  },
  {
   "cell_type": "code",
   "execution_count": 35,
   "metadata": {},
   "outputs": [
    {
     "name": "stderr",
     "output_type": "stream",
     "text": [
      "C:\\Anaconda3\\lib\\site-packages\\pandas\\core\\groupby\\generic.py:1455: FutureWarning: using a dict with renaming is deprecated and will be removed\n",
      "in a future version.\n",
      "\n",
      "For column-specific groupby renaming, use named aggregation\n",
      "\n",
      "    >>> df.groupby(...).agg(name=('column', aggfunc))\n",
      "\n",
      "  return super().aggregate(arg, *args, **kwargs)\n"
     ]
    }
   ],
   "source": [
    "aggregation_jtd_dbno={ 'Description' : {'Description' : lambda x: str(set(x)).strip('{}').replace(\"'\",\"\")},\n",
    "                      'Item Category' : {'Item Category' : lambda x: str(set(x)).strip('{}').replace(\"'\",\"\")}, \n",
    "                      'Order Quantity' : {'Order Quantity' : 'sum'},\n",
    "                      'Net value' : {'Net value' : 'sum'} }\n",
    "jtd_grouped = jtd.groupby('DBM Order')['Description','Item Category','Order Quantity','Net value'].agg(aggregation_jtd_dbno).reset_index()"
   ]
  },
  {
   "cell_type": "code",
   "execution_count": 36,
   "metadata": {},
   "outputs": [
    {
     "data": {
      "text/html": [
       "<div>\n",
       "<style scoped>\n",
       "    .dataframe tbody tr th:only-of-type {\n",
       "        vertical-align: middle;\n",
       "    }\n",
       "\n",
       "    .dataframe tbody tr th {\n",
       "        vertical-align: top;\n",
       "    }\n",
       "\n",
       "    .dataframe thead th {\n",
       "        text-align: right;\n",
       "    }\n",
       "</style>\n",
       "<table border=\"1\" class=\"dataframe\">\n",
       "  <thead>\n",
       "    <tr style=\"text-align: right;\">\n",
       "      <th></th>\n",
       "      <th>DBM Order</th>\n",
       "      <th>Description</th>\n",
       "      <th>Item Category</th>\n",
       "      <th>Order Quantity</th>\n",
       "      <th>Net value</th>\n",
       "    </tr>\n",
       "  </thead>\n",
       "  <tbody>\n",
       "    <tr>\n",
       "      <th>0</th>\n",
       "      <td>4</td>\n",
       "      <td>VALVE 1-INTAKE, FILTER-OIL, MISC_OTHER CHARGES...</td>\n",
       "      <td>P001, P010, P011, P002</td>\n",
       "      <td>731.6</td>\n",
       "      <td>16998.49</td>\n",
       "    </tr>\n",
       "    <tr>\n",
       "      <th>1</th>\n",
       "      <td>5</td>\n",
       "      <td>MISC LABOR 0.5 HOURS, BULB 60/55W,12V,P43T, FI...</td>\n",
       "      <td>P001, P002</td>\n",
       "      <td>290.2</td>\n",
       "      <td>3779.80</td>\n",
       "    </tr>\n",
       "    <tr>\n",
       "      <th>2</th>\n",
       "      <td>6</td>\n",
       "      <td>MISC LABOR 0.5 HOURS, REPLACE STARTER MOTOR AS...</td>\n",
       "      <td>P001</td>\n",
       "      <td>109.0</td>\n",
       "      <td>1340.37</td>\n",
       "    </tr>\n",
       "    <tr>\n",
       "      <th>3</th>\n",
       "      <td>7</td>\n",
       "      <td>MISC LABOR 0.25 HOURS</td>\n",
       "      <td>P001</td>\n",
       "      <td>36.5</td>\n",
       "      <td>167.36</td>\n",
       "    </tr>\n",
       "    <tr>\n",
       "      <th>4</th>\n",
       "      <td>8</td>\n",
       "      <td>ELF Synthetic Engine OIL, REPLACE ENGINE OIL &amp;...</td>\n",
       "      <td>P001, P002</td>\n",
       "      <td>69.0</td>\n",
       "      <td>2306.94</td>\n",
       "    </tr>\n",
       "  </tbody>\n",
       "</table>\n",
       "</div>"
      ],
      "text/plain": [
       "   DBM Order                                        Description  \\\n",
       "0          4  VALVE 1-INTAKE, FILTER-OIL, MISC_OTHER CHARGES...   \n",
       "1          5  MISC LABOR 0.5 HOURS, BULB 60/55W,12V,P43T, FI...   \n",
       "2          6  MISC LABOR 0.5 HOURS, REPLACE STARTER MOTOR AS...   \n",
       "3          7                              MISC LABOR 0.25 HOURS   \n",
       "4          8  ELF Synthetic Engine OIL, REPLACE ENGINE OIL &...   \n",
       "\n",
       "            Item Category  Order Quantity  Net value  \n",
       "0  P001, P010, P011, P002           731.6   16998.49  \n",
       "1              P001, P002           290.2    3779.80  \n",
       "2                    P001           109.0    1340.37  \n",
       "3                    P001            36.5     167.36  \n",
       "4              P001, P002            69.0    2306.94  "
      ]
     },
     "execution_count": 36,
     "metadata": {},
     "output_type": "execute_result"
    }
   ],
   "source": [
    "jtd_grouped.head()"
   ]
  },
  {
   "cell_type": "code",
   "execution_count": 37,
   "metadata": {},
   "outputs": [
    {
     "data": {
      "text/plain": [
       "(973473, 5)"
      ]
     },
     "execution_count": 37,
     "metadata": {},
     "output_type": "execute_result"
    }
   ],
   "source": [
    "jtd_grouped.shape"
   ]
  },
  {
   "cell_type": "code",
   "execution_count": 38,
   "metadata": {},
   "outputs": [
    {
     "data": {
      "text/plain": [
       "MISC_OTHER CHARGES                        270563\n",
       "Paid Service-Minor                        201857\n",
       "WASHING                                   199068\n",
       "Wheel Alignment                           191211\n",
       "OIL FILTER                                154387\n",
       "URANIA SUPREMO CI 4 15W 40                122218\n",
       "MFC PROLEUM CI4/SL 15W40                   92091\n",
       "AIR FILTER                                 80211\n",
       "Wheel Balancing (5 Wheels)                 79970\n",
       "MISC LABOR 0.5 HOURS                       62982\n",
       "General Check up                           62459\n",
       "Paid Service-Major                         60369\n",
       "WINDSHIELD LIQUID WASHER                   55352\n",
       "MISC LABOR 0.25 HOURS                      50143\n",
       "DISTILLED WATER                            46919\n",
       "Interior & Upholstery Cleaning             44864\n",
       "REPLACE BRAKE PAD (BOTH SIDE)              38552\n",
       "PAINTING CHARGES                           34187\n",
       "MISC LABOR 1 HOUR                          33993\n",
       "BALANCE WEIGHT 15GRAM                      31791\n",
       "MISC LABOR 2 HOURS                         31761\n",
       "BALANCE WEIGHT 20 GRAM                     29524\n",
       "BALANCE WEIGHT 25GRAM                      28774\n",
       "CLIP                                       28714\n",
       "BALANCE WEIGHT 10GRAM                      27962\n",
       "ANTIFREEZE COOLANT-GREEN                   27403\n",
       "BALANCE WEIGHT 30GRAM                      26724\n",
       "REPAIRING CHARGES                          23669\n",
       "PROFAR CONCENTRATED ANTIFREEZE COOLANT     22536\n",
       "Brake service - All 4 Wheels               21236\n",
       "FUEL FILTER                                20818\n",
       "BALANCE WEIGHT 35 GRAM                     20798\n",
       "RUST SPRAY                                 20731\n",
       "TIE CLIP                                   19829\n",
       "Clutch Overhaul                            19696\n",
       "Oil Filter-Spin On Petrol                  19610\n",
       "MISC_ON ROAD ASSISTANCE                    18991\n",
       "REPLACE ENGINE OIL & OIL FILTER            18268\n",
       "BRAKE OIL DOT 4                            17929\n",
       "BALANCE WEIGHT 5 GRAM                      17139\n",
       "TUTELA TRANSMISSIONS EPYX 90               16945\n",
       "BALANCE WEIGHT 40GRAM                      16278\n",
       "CLEANING INJECTOR PETROL (EACH)            15436\n",
       "REPLACE COOLANT                            14524\n",
       "Engine Flush                               13900\n",
       "FEVIQUIK 3 GM                              13479\n",
       "MFC PROLEUM GL-4 80W-90 - 26 Ltr           13188\n",
       "BULB 1016(12V 21/5W)                       12619\n",
       "MISC_COST OF WEIGHT (EACH)                 12530\n",
       "TYRE ROTATION                              12529\n",
       "Name: Description, dtype: int64"
      ]
     },
     "execution_count": 38,
     "metadata": {},
     "output_type": "execute_result"
    }
   ],
   "source": [
    "jtd['Description'].value_counts().head(50)"
   ]
  },
  {
   "cell_type": "code",
   "execution_count": 39,
   "metadata": {},
   "outputs": [
    {
     "data": {
      "text/plain": [
       "(5619484, 9)"
      ]
     },
     "execution_count": 39,
     "metadata": {},
     "output_type": "execute_result"
    }
   ],
   "source": [
    "jtd.shape"
   ]
  },
  {
   "cell_type": "code",
   "execution_count": 40,
   "metadata": {},
   "outputs": [
    {
     "data": {
      "text/plain": [
       "DBM Order                    0\n",
       "Order Item                   0\n",
       "Item Category                0\n",
       "Order Quantity               0\n",
       "Net value                    0\n",
       "Material                 51629\n",
       "Description              51629\n",
       "Target quantity UoM      51629\n",
       "Labor Value Number     3774033\n",
       "dtype: int64"
      ]
     },
     "execution_count": 40,
     "metadata": {},
     "output_type": "execute_result"
    }
   ],
   "source": [
    "jtd.isnull().sum().sort_values()"
   ]
  },
  {
   "cell_type": "code",
   "execution_count": 41,
   "metadata": {},
   "outputs": [],
   "source": [
    "#Merge the Data - Merge Invoice and Customer Data on Customer No. Key\n",
    "invoice['Customer No.'] = invoice['Customer No.'].str.lstrip('0')"
   ]
  },
  {
   "cell_type": "code",
   "execution_count": 42,
   "metadata": {},
   "outputs": [],
   "source": [
    "customer['Customer No.'] = customer['Customer No.'].astype(str)"
   ]
  },
  {
   "cell_type": "code",
   "execution_count": 43,
   "metadata": {},
   "outputs": [],
   "source": [
    "invoice_customer = pd.merge(invoice, customer, on='Customer No.')\n",
    "invoice_customer.to_csv('./EDA_Data/invoice_customer.csv', index=False)"
   ]
  },
  {
   "cell_type": "code",
   "execution_count": 44,
   "metadata": {},
   "outputs": [
    {
     "data": {
      "text/plain": [
       "((492312, 66), 253484, 555338, 253482)"
      ]
     },
     "execution_count": 44,
     "metadata": {},
     "output_type": "execute_result"
    }
   ],
   "source": [
    "invoice_customer.shape, len(invoice['Customer No.'].unique()), len(customer['Customer No.'].unique()), len(invoice_customer['Customer No.'].unique())"
   ]
  },
  {
   "cell_type": "code",
   "execution_count": 45,
   "metadata": {},
   "outputs": [
    {
     "data": {
      "text/plain": [
       "Amt Rcvd From Custom    197284\n",
       "Amt Rcvd From Ins Co    197284\n",
       "Area / Locality          23890\n",
       "CGST(14%)               197284\n",
       "CGST(2.5%)              197284\n",
       "                         ...  \n",
       "Title                        0\n",
       "Marital Status          471219\n",
       "Occupation              480251\n",
       "Date of Birth           469614\n",
       "Death date              492070\n",
       "Length: 66, dtype: int64"
      ]
     },
     "execution_count": 45,
     "metadata": {},
     "output_type": "execute_result"
    }
   ],
   "source": [
    "invoice_customer.isnull().sum()"
   ]
  },
  {
   "cell_type": "code",
   "execution_count": 46,
   "metadata": {},
   "outputs": [
    {
     "data": {
      "text/plain": [
       "(438, 13)"
      ]
     },
     "execution_count": 46,
     "metadata": {},
     "output_type": "execute_result"
    }
   ],
   "source": [
    "#Merge invoice_customer and Plant\n",
    "plant.shape"
   ]
  },
  {
   "cell_type": "code",
   "execution_count": 211,
   "metadata": {},
   "outputs": [
    {
     "data": {
      "text/plain": [
       "(242, 438)"
      ]
     },
     "execution_count": 211,
     "metadata": {},
     "output_type": "execute_result"
    }
   ],
   "source": [
    "len(invoice_customer.Plant.unique()), len(plant.Plant.unique())"
   ]
  },
  {
   "cell_type": "code",
   "execution_count": 47,
   "metadata": {},
   "outputs": [],
   "source": [
    "invoice_customer_plant = pd.merge(invoice_customer, plant, on='Plant')\n",
    "invoice_customer_plant.to_csv('./EDA_Data/invoice_customer_plant.csv', index=False)"
   ]
  },
  {
   "cell_type": "code",
   "execution_count": 48,
   "metadata": {},
   "outputs": [
    {
     "data": {
      "text/plain": [
       "(255761, 78)"
      ]
     },
     "execution_count": 48,
     "metadata": {},
     "output_type": "execute_result"
    }
   ],
   "source": [
    "invoice_customer_plant.shape"
   ]
  },
  {
   "cell_type": "code",
   "execution_count": 49,
   "metadata": {},
   "outputs": [
    {
     "data": {
      "text/plain": [
       "Amt Rcvd From Custom    179451\n",
       "Amt Rcvd From Ins Co    179451\n",
       "Area / Locality           2678\n",
       "CGST(14%)               179451\n",
       "CGST(2.5%)              179451\n",
       "                         ...  \n",
       "PO Box                       0\n",
       "Postal Code                  0\n",
       "City                         0\n",
       "Sales organization        4265\n",
       "State                        0\n",
       "Length: 78, dtype: int64"
      ]
     },
     "execution_count": 49,
     "metadata": {},
     "output_type": "execute_result"
    }
   ],
   "source": [
    "invoice_customer_plant.isnull().sum()"
   ]
  },
  {
   "cell_type": "code",
   "execution_count": 50,
   "metadata": {},
   "outputs": [
    {
     "data": {
      "text/html": [
       "<div>\n",
       "<style scoped>\n",
       "    .dataframe tbody tr th:only-of-type {\n",
       "        vertical-align: middle;\n",
       "    }\n",
       "\n",
       "    .dataframe tbody tr th {\n",
       "        vertical-align: top;\n",
       "    }\n",
       "\n",
       "    .dataframe thead th {\n",
       "        text-align: right;\n",
       "    }\n",
       "</style>\n",
       "<table border=\"1\" class=\"dataframe\">\n",
       "  <thead>\n",
       "    <tr style=\"text-align: right;\">\n",
       "      <th></th>\n",
       "      <th>Amt Rcvd From Custom</th>\n",
       "      <th>Amt Rcvd From Ins Co</th>\n",
       "      <th>Area / Locality</th>\n",
       "      <th>CGST(14%)</th>\n",
       "      <th>CGST(2.5%)</th>\n",
       "      <th>CGST(6%)</th>\n",
       "      <th>CGST(9%)</th>\n",
       "      <th>CITY</th>\n",
       "      <th>Cash /Cashless Type</th>\n",
       "      <th>Claim No.</th>\n",
       "      <th>...</th>\n",
       "      <th>Customer no. - plant</th>\n",
       "      <th>Vendor number plant</th>\n",
       "      <th>Factory calendar</th>\n",
       "      <th>Name 2</th>\n",
       "      <th>House number and street</th>\n",
       "      <th>PO Box</th>\n",
       "      <th>Postal Code</th>\n",
       "      <th>City</th>\n",
       "      <th>Sales organization</th>\n",
       "      <th>State</th>\n",
       "    </tr>\n",
       "  </thead>\n",
       "  <tbody>\n",
       "    <tr>\n",
       "      <th>0</th>\n",
       "      <td>0.0</td>\n",
       "      <td>0.0</td>\n",
       "      <td>THANE</td>\n",
       "      <td>0.0</td>\n",
       "      <td>0.0</td>\n",
       "      <td>0.0</td>\n",
       "      <td>0.0</td>\n",
       "      <td>THANE</td>\n",
       "      <td>NaN</td>\n",
       "      <td>NaN</td>\n",
       "      <td>...</td>\n",
       "      <td>PLX006</td>\n",
       "      <td>NaN</td>\n",
       "      <td>IN</td>\n",
       "      <td>Mumbai</td>\n",
       "      <td>8, Mira, Behind Ajit Palace Ho</td>\n",
       "      <td>401104.0</td>\n",
       "      <td>401104</td>\n",
       "      <td>Thane</td>\n",
       "      <td>MFCB</td>\n",
       "      <td>Maharashtra</td>\n",
       "    </tr>\n",
       "    <tr>\n",
       "      <th>1</th>\n",
       "      <td>NaN</td>\n",
       "      <td>NaN</td>\n",
       "      <td>NaN</td>\n",
       "      <td>NaN</td>\n",
       "      <td>NaN</td>\n",
       "      <td>NaN</td>\n",
       "      <td>NaN</td>\n",
       "      <td>Thane</td>\n",
       "      <td>NaN</td>\n",
       "      <td>NaN</td>\n",
       "      <td>...</td>\n",
       "      <td>PLX006</td>\n",
       "      <td>NaN</td>\n",
       "      <td>IN</td>\n",
       "      <td>Mumbai</td>\n",
       "      <td>8, Mira, Behind Ajit Palace Ho</td>\n",
       "      <td>401104.0</td>\n",
       "      <td>401104</td>\n",
       "      <td>Thane</td>\n",
       "      <td>MFCB</td>\n",
       "      <td>Maharashtra</td>\n",
       "    </tr>\n",
       "    <tr>\n",
       "      <th>2</th>\n",
       "      <td>NaN</td>\n",
       "      <td>NaN</td>\n",
       "      <td>NaN</td>\n",
       "      <td>NaN</td>\n",
       "      <td>NaN</td>\n",
       "      <td>NaN</td>\n",
       "      <td>NaN</td>\n",
       "      <td>Thane</td>\n",
       "      <td>NaN</td>\n",
       "      <td>NaN</td>\n",
       "      <td>...</td>\n",
       "      <td>PLX006</td>\n",
       "      <td>NaN</td>\n",
       "      <td>IN</td>\n",
       "      <td>Mumbai</td>\n",
       "      <td>8, Mira, Behind Ajit Palace Ho</td>\n",
       "      <td>401104.0</td>\n",
       "      <td>401104</td>\n",
       "      <td>Thane</td>\n",
       "      <td>MFCB</td>\n",
       "      <td>Maharashtra</td>\n",
       "    </tr>\n",
       "    <tr>\n",
       "      <th>3</th>\n",
       "      <td>NaN</td>\n",
       "      <td>NaN</td>\n",
       "      <td>KOPARKHAIRANE</td>\n",
       "      <td>NaN</td>\n",
       "      <td>NaN</td>\n",
       "      <td>NaN</td>\n",
       "      <td>NaN</td>\n",
       "      <td>NAVI MUMBAI</td>\n",
       "      <td>NaN</td>\n",
       "      <td>NaN</td>\n",
       "      <td>...</td>\n",
       "      <td>PLX006</td>\n",
       "      <td>NaN</td>\n",
       "      <td>IN</td>\n",
       "      <td>Mumbai</td>\n",
       "      <td>8, Mira, Behind Ajit Palace Ho</td>\n",
       "      <td>401104.0</td>\n",
       "      <td>401104</td>\n",
       "      <td>Thane</td>\n",
       "      <td>MFCB</td>\n",
       "      <td>Maharashtra</td>\n",
       "    </tr>\n",
       "    <tr>\n",
       "      <th>4</th>\n",
       "      <td>0.0</td>\n",
       "      <td>0.0</td>\n",
       "      <td>NaN</td>\n",
       "      <td>0.0</td>\n",
       "      <td>0.0</td>\n",
       "      <td>0.0</td>\n",
       "      <td>0.0</td>\n",
       "      <td>Thane</td>\n",
       "      <td>NaN</td>\n",
       "      <td>NaN</td>\n",
       "      <td>...</td>\n",
       "      <td>PLX006</td>\n",
       "      <td>NaN</td>\n",
       "      <td>IN</td>\n",
       "      <td>Mumbai</td>\n",
       "      <td>8, Mira, Behind Ajit Palace Ho</td>\n",
       "      <td>401104.0</td>\n",
       "      <td>401104</td>\n",
       "      <td>Thane</td>\n",
       "      <td>MFCB</td>\n",
       "      <td>Maharashtra</td>\n",
       "    </tr>\n",
       "  </tbody>\n",
       "</table>\n",
       "<p>5 rows × 78 columns</p>\n",
       "</div>"
      ],
      "text/plain": [
       "   Amt Rcvd From Custom  Amt Rcvd From Ins Co Area / Locality  CGST(14%)  \\\n",
       "0                   0.0                   0.0           THANE        0.0   \n",
       "1                   NaN                   NaN             NaN        NaN   \n",
       "2                   NaN                   NaN             NaN        NaN   \n",
       "3                   NaN                   NaN   KOPARKHAIRANE        NaN   \n",
       "4                   0.0                   0.0             NaN        0.0   \n",
       "\n",
       "   CGST(2.5%)  CGST(6%)  CGST(9%)         CITY Cash /Cashless Type Claim No.  \\\n",
       "0         0.0       0.0       0.0        THANE                 NaN       NaN   \n",
       "1         NaN       NaN       NaN        Thane                 NaN       NaN   \n",
       "2         NaN       NaN       NaN        Thane                 NaN       NaN   \n",
       "3         NaN       NaN       NaN  NAVI MUMBAI                 NaN       NaN   \n",
       "4         0.0       0.0       0.0        Thane                 NaN       NaN   \n",
       "\n",
       "   ... Customer no. - plant Vendor number plant Factory calendar  Name 2  \\\n",
       "0  ...               PLX006                 NaN               IN  Mumbai   \n",
       "1  ...               PLX006                 NaN               IN  Mumbai   \n",
       "2  ...               PLX006                 NaN               IN  Mumbai   \n",
       "3  ...               PLX006                 NaN               IN  Mumbai   \n",
       "4  ...               PLX006                 NaN               IN  Mumbai   \n",
       "\n",
       "          House number and street    PO Box  Postal Code   City  \\\n",
       "0  8, Mira, Behind Ajit Palace Ho  401104.0       401104  Thane   \n",
       "1  8, Mira, Behind Ajit Palace Ho  401104.0       401104  Thane   \n",
       "2  8, Mira, Behind Ajit Palace Ho  401104.0       401104  Thane   \n",
       "3  8, Mira, Behind Ajit Palace Ho  401104.0       401104  Thane   \n",
       "4  8, Mira, Behind Ajit Palace Ho  401104.0       401104  Thane   \n",
       "\n",
       "   Sales organization        State  \n",
       "0                MFCB  Maharashtra  \n",
       "1                MFCB  Maharashtra  \n",
       "2                MFCB  Maharashtra  \n",
       "3                MFCB  Maharashtra  \n",
       "4                MFCB  Maharashtra  \n",
       "\n",
       "[5 rows x 78 columns]"
      ]
     },
     "execution_count": 50,
     "metadata": {},
     "output_type": "execute_result"
    }
   ],
   "source": [
    "#Prepare Data for Clustering after cleaning merged data\n",
    "invoice_customer_plant.head()"
   ]
  },
  {
   "cell_type": "code",
   "execution_count": 216,
   "metadata": {},
   "outputs": [
    {
     "data": {
      "text/plain": [
       "(255754, 30)"
      ]
     },
     "execution_count": 216,
     "metadata": {},
     "output_type": "execute_result"
    }
   ],
   "source": [
    "invoice_customer_plant.shape"
   ]
  },
  {
   "cell_type": "code",
   "execution_count": 51,
   "metadata": {},
   "outputs": [
    {
     "data": {
      "text/html": [
       "<div>\n",
       "<style scoped>\n",
       "    .dataframe tbody tr th:only-of-type {\n",
       "        vertical-align: middle;\n",
       "    }\n",
       "\n",
       "    .dataframe tbody tr th {\n",
       "        vertical-align: top;\n",
       "    }\n",
       "\n",
       "    .dataframe thead th {\n",
       "        text-align: right;\n",
       "    }\n",
       "</style>\n",
       "<table border=\"1\" class=\"dataframe\">\n",
       "  <thead>\n",
       "    <tr style=\"text-align: right;\">\n",
       "      <th></th>\n",
       "      <th>Amt Rcvd From Custom</th>\n",
       "      <th>Amt Rcvd From Ins Co</th>\n",
       "      <th>CGST(14%)</th>\n",
       "      <th>CGST(2.5%)</th>\n",
       "      <th>CGST(6%)</th>\n",
       "      <th>CGST(9%)</th>\n",
       "      <th>IGST(12%)</th>\n",
       "      <th>IGST(18%)</th>\n",
       "      <th>IGST(28%)</th>\n",
       "      <th>IGST(5%)</th>\n",
       "      <th>...</th>\n",
       "      <th>Total GST</th>\n",
       "      <th>Total IGST</th>\n",
       "      <th>Total SGST/UGST</th>\n",
       "      <th>Total Value</th>\n",
       "      <th>Partner Type</th>\n",
       "      <th>Title</th>\n",
       "      <th>Marital Status</th>\n",
       "      <th>Occupation</th>\n",
       "      <th>PO Box</th>\n",
       "      <th>Postal Code</th>\n",
       "    </tr>\n",
       "  </thead>\n",
       "  <tbody>\n",
       "    <tr>\n",
       "      <th>count</th>\n",
       "      <td>76310.0</td>\n",
       "      <td>76310.0</td>\n",
       "      <td>76310.0</td>\n",
       "      <td>76310.0</td>\n",
       "      <td>76310.0</td>\n",
       "      <td>76310.0</td>\n",
       "      <td>76310.0</td>\n",
       "      <td>76310.0</td>\n",
       "      <td>76310.0</td>\n",
       "      <td>76310.0</td>\n",
       "      <td>...</td>\n",
       "      <td>76310.0</td>\n",
       "      <td>76310.0</td>\n",
       "      <td>76310.0</td>\n",
       "      <td>76310.000000</td>\n",
       "      <td>255761.000000</td>\n",
       "      <td>255761.000000</td>\n",
       "      <td>7639.000000</td>\n",
       "      <td>4542.000000</td>\n",
       "      <td>255761.000000</td>\n",
       "      <td>255761.000000</td>\n",
       "    </tr>\n",
       "    <tr>\n",
       "      <th>mean</th>\n",
       "      <td>0.0</td>\n",
       "      <td>0.0</td>\n",
       "      <td>0.0</td>\n",
       "      <td>0.0</td>\n",
       "      <td>0.0</td>\n",
       "      <td>0.0</td>\n",
       "      <td>0.0</td>\n",
       "      <td>0.0</td>\n",
       "      <td>0.0</td>\n",
       "      <td>0.0</td>\n",
       "      <td>...</td>\n",
       "      <td>0.0</td>\n",
       "      <td>0.0</td>\n",
       "      <td>0.0</td>\n",
       "      <td>4315.739585</td>\n",
       "      <td>1.459871</td>\n",
       "      <td>1.961656</td>\n",
       "      <td>1.835711</td>\n",
       "      <td>26.788199</td>\n",
       "      <td>488208.891492</td>\n",
       "      <td>488211.458991</td>\n",
       "    </tr>\n",
       "    <tr>\n",
       "      <th>std</th>\n",
       "      <td>0.0</td>\n",
       "      <td>0.0</td>\n",
       "      <td>0.0</td>\n",
       "      <td>0.0</td>\n",
       "      <td>0.0</td>\n",
       "      <td>0.0</td>\n",
       "      <td>0.0</td>\n",
       "      <td>0.0</td>\n",
       "      <td>0.0</td>\n",
       "      <td>0.0</td>\n",
       "      <td>...</td>\n",
       "      <td>0.0</td>\n",
       "      <td>0.0</td>\n",
       "      <td>0.0</td>\n",
       "      <td>10745.368821</td>\n",
       "      <td>64.169914</td>\n",
       "      <td>0.192027</td>\n",
       "      <td>0.382728</td>\n",
       "      <td>7.860632</td>\n",
       "      <td>164188.870221</td>\n",
       "      <td>164192.087102</td>\n",
       "    </tr>\n",
       "    <tr>\n",
       "      <th>min</th>\n",
       "      <td>0.0</td>\n",
       "      <td>0.0</td>\n",
       "      <td>0.0</td>\n",
       "      <td>0.0</td>\n",
       "      <td>0.0</td>\n",
       "      <td>0.0</td>\n",
       "      <td>0.0</td>\n",
       "      <td>0.0</td>\n",
       "      <td>0.0</td>\n",
       "      <td>0.0</td>\n",
       "      <td>...</td>\n",
       "      <td>0.0</td>\n",
       "      <td>0.0</td>\n",
       "      <td>0.0</td>\n",
       "      <td>0.000000</td>\n",
       "      <td>1.000000</td>\n",
       "      <td>1.000000</td>\n",
       "      <td>1.000000</td>\n",
       "      <td>1.000000</td>\n",
       "      <td>123001.000000</td>\n",
       "      <td>123001.000000</td>\n",
       "    </tr>\n",
       "    <tr>\n",
       "      <th>25%</th>\n",
       "      <td>0.0</td>\n",
       "      <td>0.0</td>\n",
       "      <td>0.0</td>\n",
       "      <td>0.0</td>\n",
       "      <td>0.0</td>\n",
       "      <td>0.0</td>\n",
       "      <td>0.0</td>\n",
       "      <td>0.0</td>\n",
       "      <td>0.0</td>\n",
       "      <td>0.0</td>\n",
       "      <td>...</td>\n",
       "      <td>0.0</td>\n",
       "      <td>0.0</td>\n",
       "      <td>0.0</td>\n",
       "      <td>300.500000</td>\n",
       "      <td>1.000000</td>\n",
       "      <td>2.000000</td>\n",
       "      <td>2.000000</td>\n",
       "      <td>25.000000</td>\n",
       "      <td>410501.000000</td>\n",
       "      <td>410501.000000</td>\n",
       "    </tr>\n",
       "    <tr>\n",
       "      <th>50%</th>\n",
       "      <td>0.0</td>\n",
       "      <td>0.0</td>\n",
       "      <td>0.0</td>\n",
       "      <td>0.0</td>\n",
       "      <td>0.0</td>\n",
       "      <td>0.0</td>\n",
       "      <td>0.0</td>\n",
       "      <td>0.0</td>\n",
       "      <td>0.0</td>\n",
       "      <td>0.0</td>\n",
       "      <td>...</td>\n",
       "      <td>0.0</td>\n",
       "      <td>0.0</td>\n",
       "      <td>0.0</td>\n",
       "      <td>1265.435000</td>\n",
       "      <td>1.000000</td>\n",
       "      <td>2.000000</td>\n",
       "      <td>2.000000</td>\n",
       "      <td>31.000000</td>\n",
       "      <td>560037.000000</td>\n",
       "      <td>560037.000000</td>\n",
       "    </tr>\n",
       "    <tr>\n",
       "      <th>75%</th>\n",
       "      <td>0.0</td>\n",
       "      <td>0.0</td>\n",
       "      <td>0.0</td>\n",
       "      <td>0.0</td>\n",
       "      <td>0.0</td>\n",
       "      <td>0.0</td>\n",
       "      <td>0.0</td>\n",
       "      <td>0.0</td>\n",
       "      <td>0.0</td>\n",
       "      <td>0.0</td>\n",
       "      <td>...</td>\n",
       "      <td>0.0</td>\n",
       "      <td>0.0</td>\n",
       "      <td>0.0</td>\n",
       "      <td>4274.387500</td>\n",
       "      <td>1.000000</td>\n",
       "      <td>2.000000</td>\n",
       "      <td>2.000000</td>\n",
       "      <td>31.000000</td>\n",
       "      <td>610001.000000</td>\n",
       "      <td>610001.000000</td>\n",
       "    </tr>\n",
       "    <tr>\n",
       "      <th>max</th>\n",
       "      <td>0.0</td>\n",
       "      <td>0.0</td>\n",
       "      <td>0.0</td>\n",
       "      <td>0.0</td>\n",
       "      <td>0.0</td>\n",
       "      <td>0.0</td>\n",
       "      <td>0.0</td>\n",
       "      <td>0.0</td>\n",
       "      <td>0.0</td>\n",
       "      <td>0.0</td>\n",
       "      <td>...</td>\n",
       "      <td>0.0</td>\n",
       "      <td>0.0</td>\n",
       "      <td>0.0</td>\n",
       "      <td>565487.200000</td>\n",
       "      <td>9003.000000</td>\n",
       "      <td>2.000000</td>\n",
       "      <td>5.000000</td>\n",
       "      <td>31.000000</td>\n",
       "      <td>851134.000000</td>\n",
       "      <td>851134.000000</td>\n",
       "    </tr>\n",
       "  </tbody>\n",
       "</table>\n",
       "<p>8 rows × 39 columns</p>\n",
       "</div>"
      ],
      "text/plain": [
       "       Amt Rcvd From Custom  Amt Rcvd From Ins Co  CGST(14%)  CGST(2.5%)  \\\n",
       "count               76310.0               76310.0    76310.0     76310.0   \n",
       "mean                    0.0                   0.0        0.0         0.0   \n",
       "std                     0.0                   0.0        0.0         0.0   \n",
       "min                     0.0                   0.0        0.0         0.0   \n",
       "25%                     0.0                   0.0        0.0         0.0   \n",
       "50%                     0.0                   0.0        0.0         0.0   \n",
       "75%                     0.0                   0.0        0.0         0.0   \n",
       "max                     0.0                   0.0        0.0         0.0   \n",
       "\n",
       "       CGST(6%)  CGST(9%)  IGST(12%)  IGST(18%)  IGST(28%)  IGST(5%)  ...  \\\n",
       "count   76310.0   76310.0    76310.0    76310.0    76310.0   76310.0  ...   \n",
       "mean        0.0       0.0        0.0        0.0        0.0       0.0  ...   \n",
       "std         0.0       0.0        0.0        0.0        0.0       0.0  ...   \n",
       "min         0.0       0.0        0.0        0.0        0.0       0.0  ...   \n",
       "25%         0.0       0.0        0.0        0.0        0.0       0.0  ...   \n",
       "50%         0.0       0.0        0.0        0.0        0.0       0.0  ...   \n",
       "75%         0.0       0.0        0.0        0.0        0.0       0.0  ...   \n",
       "max         0.0       0.0        0.0        0.0        0.0       0.0  ...   \n",
       "\n",
       "       Total GST  Total IGST  Total SGST/UGST    Total Value   Partner Type  \\\n",
       "count    76310.0     76310.0          76310.0   76310.000000  255761.000000   \n",
       "mean         0.0         0.0              0.0    4315.739585       1.459871   \n",
       "std          0.0         0.0              0.0   10745.368821      64.169914   \n",
       "min          0.0         0.0              0.0       0.000000       1.000000   \n",
       "25%          0.0         0.0              0.0     300.500000       1.000000   \n",
       "50%          0.0         0.0              0.0    1265.435000       1.000000   \n",
       "75%          0.0         0.0              0.0    4274.387500       1.000000   \n",
       "max          0.0         0.0              0.0  565487.200000    9003.000000   \n",
       "\n",
       "               Title  Marital Status   Occupation         PO Box  \\\n",
       "count  255761.000000     7639.000000  4542.000000  255761.000000   \n",
       "mean        1.961656        1.835711    26.788199  488208.891492   \n",
       "std         0.192027        0.382728     7.860632  164188.870221   \n",
       "min         1.000000        1.000000     1.000000  123001.000000   \n",
       "25%         2.000000        2.000000    25.000000  410501.000000   \n",
       "50%         2.000000        2.000000    31.000000  560037.000000   \n",
       "75%         2.000000        2.000000    31.000000  610001.000000   \n",
       "max         2.000000        5.000000    31.000000  851134.000000   \n",
       "\n",
       "         Postal Code  \n",
       "count  255761.000000  \n",
       "mean   488211.458991  \n",
       "std    164192.087102  \n",
       "min    123001.000000  \n",
       "25%    410501.000000  \n",
       "50%    560037.000000  \n",
       "75%    610001.000000  \n",
       "max    851134.000000  \n",
       "\n",
       "[8 rows x 39 columns]"
      ]
     },
     "execution_count": 51,
     "metadata": {},
     "output_type": "execute_result"
    }
   ],
   "source": [
    "invoice_customer_plant.describe()"
   ]
  },
  {
   "cell_type": "code",
   "execution_count": 52,
   "metadata": {},
   "outputs": [
    {
     "data": {
      "text/plain": [
       "((255761, 78),\n",
       " Index(['Amt Rcvd From Custom', 'Amt Rcvd From Ins Co', 'Area / Locality',\n",
       "        'CGST(14%)', 'CGST(2.5%)', 'CGST(6%)', 'CGST(9%)', 'CITY',\n",
       "        'Cash /Cashless Type', 'Claim No.', 'Cust Type', 'Customer No.',\n",
       "        'District', 'Expiry Date', 'Gate Pass Date', 'Gate Pass Time',\n",
       "        'IGST(12%)', 'IGST(18%)', 'IGST(28%)', 'IGST(5%)', 'Insurance Company',\n",
       "        'Invoice Date', 'Invoice No', 'Invoice Time', 'Job Card No',\n",
       "        'JobCard Date', 'JobCard Time', 'KMs Reading', 'Labour Total', 'Make',\n",
       "        'Misc Total', 'Model', 'ODN No.', 'OSL Total', 'Order Type',\n",
       "        'Outstanding Amt', 'Parts Total', 'Pin code', 'Plant', 'Plant Name1',\n",
       "        'Policy no.', 'Print Status', 'Recovrbl Exp', 'Regn No',\n",
       "        'SGST/UGST(14%)', 'SGST/UGST(2.5%)', 'SGST/UGST(6%)', 'SGST/UGST(9%)',\n",
       "        'Service Advisor Name', 'TDS amount', 'Technician Name',\n",
       "        'Total Amt Wtd Tax.', 'Total CGST', 'Total GST', 'Total IGST',\n",
       "        'Total SGST/UGST', 'Total Value', 'User ID', 'Business Partner',\n",
       "        'Partner Type', 'Data Origin', 'Title', 'Marital Status', 'Occupation',\n",
       "        'Date of Birth', 'Death date', 'Name 1', 'Valuation Area',\n",
       "        'Customer no. - plant', 'Vendor number plant', 'Factory calendar',\n",
       "        'Name 2', 'House number and street', 'PO Box', 'Postal Code', 'City',\n",
       "        'Sales organization', 'State'],\n",
       "       dtype='object'))"
      ]
     },
     "execution_count": 52,
     "metadata": {},
     "output_type": "execute_result"
    }
   ],
   "source": [
    "invoice_customer_plant.shape, invoice_customer_plant.columns"
   ]
  },
  {
   "cell_type": "code",
   "execution_count": 53,
   "metadata": {},
   "outputs": [],
   "source": [
    "invoice_customer_plant['Invoice Date'] = pd.to_datetime(invoice_customer_plant['Invoice Date'])"
   ]
  },
  {
   "cell_type": "code",
   "execution_count": 54,
   "metadata": {},
   "outputs": [],
   "source": [
    "invoice_customer_plant['Invoice Date Time'] = invoice_customer_plant['Invoice Date'].astype(str).str.cat(invoice_customer_plant[['Invoice Time']].astype(str),sep=' ')"
   ]
  },
  {
   "cell_type": "code",
   "execution_count": 55,
   "metadata": {},
   "outputs": [],
   "source": [
    "invoice_customer_plant['JobCard Date'] =  pd.to_datetime(invoice_customer_plant['JobCard Date'])"
   ]
  },
  {
   "cell_type": "code",
   "execution_count": 56,
   "metadata": {},
   "outputs": [],
   "source": [
    "invoice_customer_plant['JobCard Date Time'] = invoice_customer_plant['JobCard Date'].astype(str).str.cat(invoice_customer_plant[['JobCard Time']].astype(str), sep=' ')"
   ]
  },
  {
   "cell_type": "code",
   "execution_count": 57,
   "metadata": {},
   "outputs": [
    {
     "data": {
      "text/html": [
       "<div>\n",
       "<style scoped>\n",
       "    .dataframe tbody tr th:only-of-type {\n",
       "        vertical-align: middle;\n",
       "    }\n",
       "\n",
       "    .dataframe tbody tr th {\n",
       "        vertical-align: top;\n",
       "    }\n",
       "\n",
       "    .dataframe thead th {\n",
       "        text-align: right;\n",
       "    }\n",
       "</style>\n",
       "<table border=\"1\" class=\"dataframe\">\n",
       "  <thead>\n",
       "    <tr style=\"text-align: right;\">\n",
       "      <th></th>\n",
       "      <th>JobCard Date Time</th>\n",
       "      <th>JobCard Date</th>\n",
       "      <th>JobCard Time</th>\n",
       "    </tr>\n",
       "  </thead>\n",
       "  <tbody>\n",
       "    <tr>\n",
       "      <th>0</th>\n",
       "      <td>2015-06-19 13:56:32</td>\n",
       "      <td>2015-06-19</td>\n",
       "      <td>13:56:32</td>\n",
       "    </tr>\n",
       "    <tr>\n",
       "      <th>1</th>\n",
       "      <td>2016-07-18 15:49:34</td>\n",
       "      <td>2016-07-18</td>\n",
       "      <td>15:49:34</td>\n",
       "    </tr>\n",
       "    <tr>\n",
       "      <th>2</th>\n",
       "      <td>2016-08-30 10:10:59</td>\n",
       "      <td>2016-08-30</td>\n",
       "      <td>10:10:59</td>\n",
       "    </tr>\n",
       "    <tr>\n",
       "      <th>3</th>\n",
       "      <td>2016-10-18 17:47:35</td>\n",
       "      <td>2016-10-18</td>\n",
       "      <td>17:47:35</td>\n",
       "    </tr>\n",
       "    <tr>\n",
       "      <th>4</th>\n",
       "      <td>2015-05-28 17:57:40</td>\n",
       "      <td>2015-05-28</td>\n",
       "      <td>17:57:40</td>\n",
       "    </tr>\n",
       "  </tbody>\n",
       "</table>\n",
       "</div>"
      ],
      "text/plain": [
       "     JobCard Date Time JobCard Date JobCard Time\n",
       "0  2015-06-19 13:56:32   2015-06-19     13:56:32\n",
       "1  2016-07-18 15:49:34   2016-07-18     15:49:34\n",
       "2  2016-08-30 10:10:59   2016-08-30     10:10:59\n",
       "3  2016-10-18 17:47:35   2016-10-18     17:47:35\n",
       "4  2015-05-28 17:57:40   2015-05-28     17:57:40"
      ]
     },
     "execution_count": 57,
     "metadata": {},
     "output_type": "execute_result"
    }
   ],
   "source": [
    "invoice_customer_plant.loc[:, ['JobCard Date Time', 'JobCard Date','JobCard Time']].head()"
   ]
  },
  {
   "cell_type": "code",
   "execution_count": 58,
   "metadata": {},
   "outputs": [
    {
     "data": {
      "text/html": [
       "<div>\n",
       "<style scoped>\n",
       "    .dataframe tbody tr th:only-of-type {\n",
       "        vertical-align: middle;\n",
       "    }\n",
       "\n",
       "    .dataframe tbody tr th {\n",
       "        vertical-align: top;\n",
       "    }\n",
       "\n",
       "    .dataframe thead th {\n",
       "        text-align: right;\n",
       "    }\n",
       "</style>\n",
       "<table border=\"1\" class=\"dataframe\">\n",
       "  <thead>\n",
       "    <tr style=\"text-align: right;\">\n",
       "      <th></th>\n",
       "      <th>Invoice Date Time</th>\n",
       "      <th>Invoice Date</th>\n",
       "      <th>Invoice Time</th>\n",
       "    </tr>\n",
       "  </thead>\n",
       "  <tbody>\n",
       "    <tr>\n",
       "      <th>0</th>\n",
       "      <td>2015-06-19 18:10:34</td>\n",
       "      <td>2015-06-19</td>\n",
       "      <td>18:10:34</td>\n",
       "    </tr>\n",
       "    <tr>\n",
       "      <th>1</th>\n",
       "      <td>2016-07-20 10:26:00</td>\n",
       "      <td>2016-07-20</td>\n",
       "      <td>10:26:00</td>\n",
       "    </tr>\n",
       "    <tr>\n",
       "      <th>2</th>\n",
       "      <td>2016-09-04 11:12:47</td>\n",
       "      <td>2016-09-04</td>\n",
       "      <td>11:12:47</td>\n",
       "    </tr>\n",
       "    <tr>\n",
       "      <th>3</th>\n",
       "      <td>2016-10-28 13:17:54</td>\n",
       "      <td>2016-10-28</td>\n",
       "      <td>13:17:54</td>\n",
       "    </tr>\n",
       "    <tr>\n",
       "      <th>4</th>\n",
       "      <td>2015-05-28 18:20:37</td>\n",
       "      <td>2015-05-28</td>\n",
       "      <td>18:20:37</td>\n",
       "    </tr>\n",
       "  </tbody>\n",
       "</table>\n",
       "</div>"
      ],
      "text/plain": [
       "     Invoice Date Time Invoice Date Invoice Time\n",
       "0  2015-06-19 18:10:34   2015-06-19     18:10:34\n",
       "1  2016-07-20 10:26:00   2016-07-20     10:26:00\n",
       "2  2016-09-04 11:12:47   2016-09-04     11:12:47\n",
       "3  2016-10-28 13:17:54   2016-10-28     13:17:54\n",
       "4  2015-05-28 18:20:37   2015-05-28     18:20:37"
      ]
     },
     "execution_count": 58,
     "metadata": {},
     "output_type": "execute_result"
    }
   ],
   "source": [
    "invoice_customer_plant.loc[:, ['Invoice Date Time', 'Invoice Date','Invoice Time']].head()"
   ]
  },
  {
   "cell_type": "code",
   "execution_count": 59,
   "metadata": {},
   "outputs": [],
   "source": [
    "invoice_customer_plant['Invoice Date Time'] = pd.to_datetime(invoice_customer_plant['Invoice Date Time'])"
   ]
  },
  {
   "cell_type": "code",
   "execution_count": 60,
   "metadata": {},
   "outputs": [],
   "source": [
    "invoice_customer_plant['JobCard Date Time'] = pd.to_datetime(invoice_customer_plant['JobCard Date Time'])"
   ]
  },
  {
   "cell_type": "code",
   "execution_count": 61,
   "metadata": {},
   "outputs": [],
   "source": [
    "invoice_customer_plant['ServiceTime'] = invoice_customer_plant['Invoice Date Time']-invoice_customer_plant['JobCard Date Time']"
   ]
  },
  {
   "cell_type": "code",
   "execution_count": 62,
   "metadata": {},
   "outputs": [
    {
     "data": {
      "text/html": [
       "<div>\n",
       "<style scoped>\n",
       "    .dataframe tbody tr th:only-of-type {\n",
       "        vertical-align: middle;\n",
       "    }\n",
       "\n",
       "    .dataframe tbody tr th {\n",
       "        vertical-align: top;\n",
       "    }\n",
       "\n",
       "    .dataframe thead th {\n",
       "        text-align: right;\n",
       "    }\n",
       "</style>\n",
       "<table border=\"1\" class=\"dataframe\">\n",
       "  <thead>\n",
       "    <tr style=\"text-align: right;\">\n",
       "      <th></th>\n",
       "      <th>ServiceTime</th>\n",
       "    </tr>\n",
       "  </thead>\n",
       "  <tbody>\n",
       "    <tr>\n",
       "      <th>0</th>\n",
       "      <td>0 days 04:14:02</td>\n",
       "    </tr>\n",
       "    <tr>\n",
       "      <th>1</th>\n",
       "      <td>1 days 18:36:26</td>\n",
       "    </tr>\n",
       "    <tr>\n",
       "      <th>2</th>\n",
       "      <td>5 days 01:01:48</td>\n",
       "    </tr>\n",
       "    <tr>\n",
       "      <th>3</th>\n",
       "      <td>9 days 19:30:19</td>\n",
       "    </tr>\n",
       "    <tr>\n",
       "      <th>4</th>\n",
       "      <td>0 days 00:22:57</td>\n",
       "    </tr>\n",
       "  </tbody>\n",
       "</table>\n",
       "</div>"
      ],
      "text/plain": [
       "      ServiceTime\n",
       "0 0 days 04:14:02\n",
       "1 1 days 18:36:26\n",
       "2 5 days 01:01:48\n",
       "3 9 days 19:30:19\n",
       "4 0 days 00:22:57"
      ]
     },
     "execution_count": 62,
     "metadata": {},
     "output_type": "execute_result"
    }
   ],
   "source": [
    "invoice_customer_plant.loc[:, ['ServiceTime']].head()"
   ]
  },
  {
   "cell_type": "code",
   "execution_count": 63,
   "metadata": {},
   "outputs": [
    {
     "data": {
      "text/html": [
       "<div>\n",
       "<style scoped>\n",
       "    .dataframe tbody tr th:only-of-type {\n",
       "        vertical-align: middle;\n",
       "    }\n",
       "\n",
       "    .dataframe tbody tr th {\n",
       "        vertical-align: top;\n",
       "    }\n",
       "\n",
       "    .dataframe thead th {\n",
       "        text-align: right;\n",
       "    }\n",
       "</style>\n",
       "<table border=\"1\" class=\"dataframe\">\n",
       "  <thead>\n",
       "    <tr style=\"text-align: right;\">\n",
       "      <th></th>\n",
       "      <th>ServiceTime</th>\n",
       "    </tr>\n",
       "  </thead>\n",
       "  <tbody>\n",
       "    <tr>\n",
       "      <th>count</th>\n",
       "      <td>255761</td>\n",
       "    </tr>\n",
       "    <tr>\n",
       "      <th>mean</th>\n",
       "      <td>4 days 06:36:04.289356</td>\n",
       "    </tr>\n",
       "    <tr>\n",
       "      <th>std</th>\n",
       "      <td>12 days 18:05:05.789812</td>\n",
       "    </tr>\n",
       "    <tr>\n",
       "      <th>min</th>\n",
       "      <td>-1 days +23:59:27</td>\n",
       "    </tr>\n",
       "    <tr>\n",
       "      <th>25%</th>\n",
       "      <td>0 days 01:54:30</td>\n",
       "    </tr>\n",
       "    <tr>\n",
       "      <th>50%</th>\n",
       "      <td>0 days 08:08:21</td>\n",
       "    </tr>\n",
       "    <tr>\n",
       "      <th>75%</th>\n",
       "      <td>3 days 01:43:08</td>\n",
       "    </tr>\n",
       "    <tr>\n",
       "      <th>max</th>\n",
       "      <td>495 days 03:25:24</td>\n",
       "    </tr>\n",
       "  </tbody>\n",
       "</table>\n",
       "</div>"
      ],
      "text/plain": [
       "                   ServiceTime\n",
       "count                   255761\n",
       "mean    4 days 06:36:04.289356\n",
       "std    12 days 18:05:05.789812\n",
       "min          -1 days +23:59:27\n",
       "25%            0 days 01:54:30\n",
       "50%            0 days 08:08:21\n",
       "75%            3 days 01:43:08\n",
       "max          495 days 03:25:24"
      ]
     },
     "execution_count": 63,
     "metadata": {},
     "output_type": "execute_result"
    }
   ],
   "source": [
    "invoice_customer_plant.loc[:, ['ServiceTime']].describe()"
   ]
  },
  {
   "cell_type": "code",
   "execution_count": 64,
   "metadata": {},
   "outputs": [],
   "source": [
    "invoice_customer_plant = invoice_customer_plant.loc[invoice_customer_plant['ServiceTime']>pd.Timedelta(hours=0),:]"
   ]
  },
  {
   "cell_type": "code",
   "execution_count": 65,
   "metadata": {},
   "outputs": [
    {
     "data": {
      "text/html": [
       "<div>\n",
       "<style scoped>\n",
       "    .dataframe tbody tr th:only-of-type {\n",
       "        vertical-align: middle;\n",
       "    }\n",
       "\n",
       "    .dataframe tbody tr th {\n",
       "        vertical-align: top;\n",
       "    }\n",
       "\n",
       "    .dataframe thead th {\n",
       "        text-align: right;\n",
       "    }\n",
       "</style>\n",
       "<table border=\"1\" class=\"dataframe\">\n",
       "  <thead>\n",
       "    <tr style=\"text-align: right;\">\n",
       "      <th></th>\n",
       "      <th>ServiceTime</th>\n",
       "    </tr>\n",
       "  </thead>\n",
       "  <tbody>\n",
       "    <tr>\n",
       "      <th>count</th>\n",
       "      <td>255760</td>\n",
       "    </tr>\n",
       "    <tr>\n",
       "      <th>mean</th>\n",
       "      <td>4 days 06:36:05.733668</td>\n",
       "    </tr>\n",
       "    <tr>\n",
       "      <th>std</th>\n",
       "      <td>12 days 18:05:07.701904</td>\n",
       "    </tr>\n",
       "    <tr>\n",
       "      <th>min</th>\n",
       "      <td>0 days 00:00:36</td>\n",
       "    </tr>\n",
       "    <tr>\n",
       "      <th>25%</th>\n",
       "      <td>0 days 01:54:30</td>\n",
       "    </tr>\n",
       "    <tr>\n",
       "      <th>50%</th>\n",
       "      <td>0 days 08:08:21</td>\n",
       "    </tr>\n",
       "    <tr>\n",
       "      <th>75%</th>\n",
       "      <td>3 days 01:43:08</td>\n",
       "    </tr>\n",
       "    <tr>\n",
       "      <th>max</th>\n",
       "      <td>495 days 03:25:24</td>\n",
       "    </tr>\n",
       "  </tbody>\n",
       "</table>\n",
       "</div>"
      ],
      "text/plain": [
       "                   ServiceTime\n",
       "count                   255760\n",
       "mean    4 days 06:36:05.733668\n",
       "std    12 days 18:05:07.701904\n",
       "min            0 days 00:00:36\n",
       "25%            0 days 01:54:30\n",
       "50%            0 days 08:08:21\n",
       "75%            3 days 01:43:08\n",
       "max          495 days 03:25:24"
      ]
     },
     "execution_count": 65,
     "metadata": {},
     "output_type": "execute_result"
    }
   ],
   "source": [
    "invoice_customer_plant.loc[:, ['ServiceTime']].describe()"
   ]
  },
  {
   "cell_type": "code",
   "execution_count": 66,
   "metadata": {},
   "outputs": [],
   "source": [
    "invoice_customer_plant['ServiceTime_category']=None\n",
    "invoice_customer_plant.loc[invoice_customer_plant['ServiceTime']<pd.Timedelta(hours=13),'ServiceTime_category']='super_fast'\n",
    "invoice_customer_plant.loc[(invoice_customer_plant['ServiceTime']>=pd.Timedelta(hours=13))&(invoice_customer_plant['ServiceTime']<pd.Timedelta(hours=36)),'ServiceTime_category']='fast'\n",
    "invoice_customer_plant.loc[(invoice_customer_plant['ServiceTime']>=pd.Timedelta(hours=36))&(invoice_customer_plant['ServiceTime']<pd.Timedelta(hours=61)),'ServiceTime_category']='mid'\n",
    "invoice_customer_plant.loc[(invoice_customer_plant['ServiceTime']>=pd.Timedelta(hours=61))&(invoice_customer_plant['ServiceTime']<pd.Timedelta(hours=84)),'ServiceTime_category']='slow'\n",
    "invoice_customer_plant.loc[invoice_customer_plant['ServiceTime']>=pd.Timedelta(hours=84),'ServiceTime_category']='super_slow'"
   ]
  },
  {
   "cell_type": "code",
   "execution_count": 233,
   "metadata": {},
   "outputs": [],
   "source": [
    "#'Invoice Date Time' - Have not dropped this for calculating Cx Recency\n",
    "#invoice_customer_plant.drop(columns=['Invoice Time', 'Invoice Date', 'Invoice No', 'JobCard Date', 'JobCard Time', 'KMs Reading', 'Pin code', 'Plant', 'Plant Name1', 'User ID', 'District', 'Name 1', 'Postal Code', 'State', 'JobCard Date Time', 'ServiceTime'], inplace=True)"
   ]
  },
  {
   "cell_type": "code",
   "execution_count": 67,
   "metadata": {},
   "outputs": [
    {
     "data": {
      "text/html": [
       "<div>\n",
       "<style scoped>\n",
       "    .dataframe tbody tr th:only-of-type {\n",
       "        vertical-align: middle;\n",
       "    }\n",
       "\n",
       "    .dataframe tbody tr th {\n",
       "        vertical-align: top;\n",
       "    }\n",
       "\n",
       "    .dataframe thead th {\n",
       "        text-align: right;\n",
       "    }\n",
       "</style>\n",
       "<table border=\"1\" class=\"dataframe\">\n",
       "  <thead>\n",
       "    <tr style=\"text-align: right;\">\n",
       "      <th></th>\n",
       "      <th>Amt Rcvd From Custom</th>\n",
       "      <th>Amt Rcvd From Ins Co</th>\n",
       "      <th>Area / Locality</th>\n",
       "      <th>CGST(14%)</th>\n",
       "      <th>CGST(2.5%)</th>\n",
       "      <th>CGST(6%)</th>\n",
       "      <th>CGST(9%)</th>\n",
       "      <th>CITY</th>\n",
       "      <th>Cash /Cashless Type</th>\n",
       "      <th>Claim No.</th>\n",
       "      <th>...</th>\n",
       "      <th>House number and street</th>\n",
       "      <th>PO Box</th>\n",
       "      <th>Postal Code</th>\n",
       "      <th>City</th>\n",
       "      <th>Sales organization</th>\n",
       "      <th>State</th>\n",
       "      <th>Invoice Date Time</th>\n",
       "      <th>JobCard Date Time</th>\n",
       "      <th>ServiceTime</th>\n",
       "      <th>ServiceTime_category</th>\n",
       "    </tr>\n",
       "  </thead>\n",
       "  <tbody>\n",
       "    <tr>\n",
       "      <th>0</th>\n",
       "      <td>0.0</td>\n",
       "      <td>0.0</td>\n",
       "      <td>THANE</td>\n",
       "      <td>0.0</td>\n",
       "      <td>0.0</td>\n",
       "      <td>0.0</td>\n",
       "      <td>0.0</td>\n",
       "      <td>THANE</td>\n",
       "      <td>NaN</td>\n",
       "      <td>NaN</td>\n",
       "      <td>...</td>\n",
       "      <td>8, Mira, Behind Ajit Palace Ho</td>\n",
       "      <td>401104.0</td>\n",
       "      <td>401104</td>\n",
       "      <td>Thane</td>\n",
       "      <td>MFCB</td>\n",
       "      <td>Maharashtra</td>\n",
       "      <td>2015-06-19 18:10:34</td>\n",
       "      <td>2015-06-19 13:56:32</td>\n",
       "      <td>0 days 04:14:02</td>\n",
       "      <td>super_fast</td>\n",
       "    </tr>\n",
       "    <tr>\n",
       "      <th>1</th>\n",
       "      <td>NaN</td>\n",
       "      <td>NaN</td>\n",
       "      <td>NaN</td>\n",
       "      <td>NaN</td>\n",
       "      <td>NaN</td>\n",
       "      <td>NaN</td>\n",
       "      <td>NaN</td>\n",
       "      <td>Thane</td>\n",
       "      <td>NaN</td>\n",
       "      <td>NaN</td>\n",
       "      <td>...</td>\n",
       "      <td>8, Mira, Behind Ajit Palace Ho</td>\n",
       "      <td>401104.0</td>\n",
       "      <td>401104</td>\n",
       "      <td>Thane</td>\n",
       "      <td>MFCB</td>\n",
       "      <td>Maharashtra</td>\n",
       "      <td>2016-07-20 10:26:00</td>\n",
       "      <td>2016-07-18 15:49:34</td>\n",
       "      <td>1 days 18:36:26</td>\n",
       "      <td>mid</td>\n",
       "    </tr>\n",
       "    <tr>\n",
       "      <th>2</th>\n",
       "      <td>NaN</td>\n",
       "      <td>NaN</td>\n",
       "      <td>NaN</td>\n",
       "      <td>NaN</td>\n",
       "      <td>NaN</td>\n",
       "      <td>NaN</td>\n",
       "      <td>NaN</td>\n",
       "      <td>Thane</td>\n",
       "      <td>NaN</td>\n",
       "      <td>NaN</td>\n",
       "      <td>...</td>\n",
       "      <td>8, Mira, Behind Ajit Palace Ho</td>\n",
       "      <td>401104.0</td>\n",
       "      <td>401104</td>\n",
       "      <td>Thane</td>\n",
       "      <td>MFCB</td>\n",
       "      <td>Maharashtra</td>\n",
       "      <td>2016-09-04 11:12:47</td>\n",
       "      <td>2016-08-30 10:10:59</td>\n",
       "      <td>5 days 01:01:48</td>\n",
       "      <td>super_slow</td>\n",
       "    </tr>\n",
       "    <tr>\n",
       "      <th>3</th>\n",
       "      <td>NaN</td>\n",
       "      <td>NaN</td>\n",
       "      <td>KOPARKHAIRANE</td>\n",
       "      <td>NaN</td>\n",
       "      <td>NaN</td>\n",
       "      <td>NaN</td>\n",
       "      <td>NaN</td>\n",
       "      <td>NAVI MUMBAI</td>\n",
       "      <td>NaN</td>\n",
       "      <td>NaN</td>\n",
       "      <td>...</td>\n",
       "      <td>8, Mira, Behind Ajit Palace Ho</td>\n",
       "      <td>401104.0</td>\n",
       "      <td>401104</td>\n",
       "      <td>Thane</td>\n",
       "      <td>MFCB</td>\n",
       "      <td>Maharashtra</td>\n",
       "      <td>2016-10-28 13:17:54</td>\n",
       "      <td>2016-10-18 17:47:35</td>\n",
       "      <td>9 days 19:30:19</td>\n",
       "      <td>super_slow</td>\n",
       "    </tr>\n",
       "    <tr>\n",
       "      <th>4</th>\n",
       "      <td>0.0</td>\n",
       "      <td>0.0</td>\n",
       "      <td>NaN</td>\n",
       "      <td>0.0</td>\n",
       "      <td>0.0</td>\n",
       "      <td>0.0</td>\n",
       "      <td>0.0</td>\n",
       "      <td>Thane</td>\n",
       "      <td>NaN</td>\n",
       "      <td>NaN</td>\n",
       "      <td>...</td>\n",
       "      <td>8, Mira, Behind Ajit Palace Ho</td>\n",
       "      <td>401104.0</td>\n",
       "      <td>401104</td>\n",
       "      <td>Thane</td>\n",
       "      <td>MFCB</td>\n",
       "      <td>Maharashtra</td>\n",
       "      <td>2015-05-28 18:20:37</td>\n",
       "      <td>2015-05-28 17:57:40</td>\n",
       "      <td>0 days 00:22:57</td>\n",
       "      <td>super_fast</td>\n",
       "    </tr>\n",
       "  </tbody>\n",
       "</table>\n",
       "<p>5 rows × 82 columns</p>\n",
       "</div>"
      ],
      "text/plain": [
       "   Amt Rcvd From Custom  Amt Rcvd From Ins Co Area / Locality  CGST(14%)  \\\n",
       "0                   0.0                   0.0           THANE        0.0   \n",
       "1                   NaN                   NaN             NaN        NaN   \n",
       "2                   NaN                   NaN             NaN        NaN   \n",
       "3                   NaN                   NaN   KOPARKHAIRANE        NaN   \n",
       "4                   0.0                   0.0             NaN        0.0   \n",
       "\n",
       "   CGST(2.5%)  CGST(6%)  CGST(9%)         CITY Cash /Cashless Type Claim No.  \\\n",
       "0         0.0       0.0       0.0        THANE                 NaN       NaN   \n",
       "1         NaN       NaN       NaN        Thane                 NaN       NaN   \n",
       "2         NaN       NaN       NaN        Thane                 NaN       NaN   \n",
       "3         NaN       NaN       NaN  NAVI MUMBAI                 NaN       NaN   \n",
       "4         0.0       0.0       0.0        Thane                 NaN       NaN   \n",
       "\n",
       "   ...         House number and street    PO Box Postal Code   City  \\\n",
       "0  ...  8, Mira, Behind Ajit Palace Ho  401104.0      401104  Thane   \n",
       "1  ...  8, Mira, Behind Ajit Palace Ho  401104.0      401104  Thane   \n",
       "2  ...  8, Mira, Behind Ajit Palace Ho  401104.0      401104  Thane   \n",
       "3  ...  8, Mira, Behind Ajit Palace Ho  401104.0      401104  Thane   \n",
       "4  ...  8, Mira, Behind Ajit Palace Ho  401104.0      401104  Thane   \n",
       "\n",
       "  Sales organization        State   Invoice Date Time   JobCard Date Time  \\\n",
       "0               MFCB  Maharashtra 2015-06-19 18:10:34 2015-06-19 13:56:32   \n",
       "1               MFCB  Maharashtra 2016-07-20 10:26:00 2016-07-18 15:49:34   \n",
       "2               MFCB  Maharashtra 2016-09-04 11:12:47 2016-08-30 10:10:59   \n",
       "3               MFCB  Maharashtra 2016-10-28 13:17:54 2016-10-18 17:47:35   \n",
       "4               MFCB  Maharashtra 2015-05-28 18:20:37 2015-05-28 17:57:40   \n",
       "\n",
       "      ServiceTime  ServiceTime_category  \n",
       "0 0 days 04:14:02            super_fast  \n",
       "1 1 days 18:36:26                   mid  \n",
       "2 5 days 01:01:48            super_slow  \n",
       "3 9 days 19:30:19            super_slow  \n",
       "4 0 days 00:22:57            super_fast  \n",
       "\n",
       "[5 rows x 82 columns]"
      ]
     },
     "execution_count": 67,
     "metadata": {},
     "output_type": "execute_result"
    }
   ],
   "source": [
    "invoice_customer_plant.head()"
   ]
  },
  {
   "cell_type": "code",
   "execution_count": 68,
   "metadata": {},
   "outputs": [
    {
     "data": {
      "text/plain": [
       "(253206, 973473)"
      ]
     },
     "execution_count": 68,
     "metadata": {},
     "output_type": "execute_result"
    }
   ],
   "source": [
    "#Merge Jtd grouped and invoice_customer_plant csv\n",
    "len(invoice_customer_plant['Job Card No'].unique()), len(jtd_grouped['DBM Order'].unique())"
   ]
  },
  {
   "cell_type": "code",
   "execution_count": 69,
   "metadata": {},
   "outputs": [],
   "source": [
    "invoice_customer_plant_jtd = pd.merge(invoice_customer_plant, jtd_grouped, left_on='Job Card No', right_on='DBM Order').drop('DBM Order', axis=1)\n",
    "invoice_customer_plant_jtd.to_csv('./EDA_Data/invoice_customer_plant_jtd.csv', index=False)"
   ]
  },
  {
   "cell_type": "code",
   "execution_count": 238,
   "metadata": {},
   "outputs": [
    {
     "data": {
      "text/plain": [
       "(255714, 22)"
      ]
     },
     "execution_count": 238,
     "metadata": {},
     "output_type": "execute_result"
    }
   ],
   "source": [
    "invoice_customer_plant_jtd.shape"
   ]
  },
  {
   "cell_type": "code",
   "execution_count": 239,
   "metadata": {},
   "outputs": [
    {
     "data": {
      "text/html": [
       "<div>\n",
       "<style scoped>\n",
       "    .dataframe tbody tr th:only-of-type {\n",
       "        vertical-align: middle;\n",
       "    }\n",
       "\n",
       "    .dataframe tbody tr th {\n",
       "        vertical-align: top;\n",
       "    }\n",
       "\n",
       "    .dataframe thead th {\n",
       "        text-align: right;\n",
       "    }\n",
       "</style>\n",
       "<table border=\"1\" class=\"dataframe\">\n",
       "  <thead>\n",
       "    <tr style=\"text-align: right;\">\n",
       "      <th></th>\n",
       "      <th>Cust Type</th>\n",
       "      <th>Customer No.</th>\n",
       "      <th>Job Card No</th>\n",
       "      <th>Labour Total</th>\n",
       "      <th>Make</th>\n",
       "      <th>Misc Total</th>\n",
       "      <th>Model</th>\n",
       "      <th>OSL Total</th>\n",
       "      <th>Order Type</th>\n",
       "      <th>Parts Total</th>\n",
       "      <th>...</th>\n",
       "      <th>Partner Type</th>\n",
       "      <th>Data Origin</th>\n",
       "      <th>Title</th>\n",
       "      <th>City</th>\n",
       "      <th>Invoice Date Time</th>\n",
       "      <th>ServiceTime_category</th>\n",
       "      <th>Description</th>\n",
       "      <th>Item Category</th>\n",
       "      <th>Order Quantity</th>\n",
       "      <th>Net value</th>\n",
       "    </tr>\n",
       "  </thead>\n",
       "  <tbody>\n",
       "    <tr>\n",
       "      <th>0</th>\n",
       "      <td>Retail</td>\n",
       "      <td>80479</td>\n",
       "      <td>227460</td>\n",
       "      <td>1802.05</td>\n",
       "      <td>FORD</td>\n",
       "      <td>0.0</td>\n",
       "      <td>FIESTA</td>\n",
       "      <td>0.0</td>\n",
       "      <td>Paid Service</td>\n",
       "      <td>399.73</td>\n",
       "      <td>...</td>\n",
       "      <td>1.0</td>\n",
       "      <td>Z010</td>\n",
       "      <td>2.0</td>\n",
       "      <td>Thane</td>\n",
       "      <td>2015-06-19 18:10:34</td>\n",
       "      <td>super_fast</td>\n",
       "      <td>BULB H1,12V,80W,P145S, Paid Service-Minor, Whe...</td>\n",
       "      <td>P001, P002</td>\n",
       "      <td>45.5</td>\n",
       "      <td>2201.78</td>\n",
       "    </tr>\n",
       "  </tbody>\n",
       "</table>\n",
       "<p>1 rows × 22 columns</p>\n",
       "</div>"
      ],
      "text/plain": [
       "  Cust Type Customer No.  Job Card No  Labour Total  Make  Misc Total   Model  \\\n",
       "0    Retail        80479       227460       1802.05  FORD         0.0  FIESTA   \n",
       "\n",
       "   OSL Total    Order Type  Parts Total  ... Partner Type  Data Origin  Title  \\\n",
       "0        0.0  Paid Service       399.73  ...          1.0         Z010    2.0   \n",
       "\n",
       "    City   Invoice Date Time ServiceTime_category  \\\n",
       "0  Thane 2015-06-19 18:10:34           super_fast   \n",
       "\n",
       "                                         Description Item Category  \\\n",
       "0  BULB H1,12V,80W,P145S, Paid Service-Minor, Whe...    P001, P002   \n",
       "\n",
       "  Order Quantity Net value  \n",
       "0           45.5   2201.78  \n",
       "\n",
       "[1 rows x 22 columns]"
      ]
     },
     "execution_count": 239,
     "metadata": {},
     "output_type": "execute_result"
    }
   ],
   "source": [
    "invoice_customer_plant_jtd.head(1)"
   ]
  },
  {
   "cell_type": "code",
   "execution_count": 240,
   "metadata": {},
   "outputs": [],
   "source": [
    "#This file can be used for EDA\n",
    "invoice_customer_plant_jtd.to_csv('./Data/Blended_Data_Features_Removed.csv', index = False)"
   ]
  },
  {
   "cell_type": "code",
   "execution_count": 242,
   "metadata": {},
   "outputs": [
    {
     "data": {
      "text/plain": [
       "Timestamp('2016-10-31 22:53:06')"
      ]
     },
     "execution_count": 242,
     "metadata": {},
     "output_type": "execute_result"
    }
   ],
   "source": [
    "invoice_customer_plant_jtd['Invoice Date Time'].max()"
   ]
  },
  {
   "cell_type": "code",
   "execution_count": 243,
   "metadata": {},
   "outputs": [],
   "source": [
    "aggregation_by_customer_no = {'Cust Type' : lambda x: str(set(x)).strip(\"{}\").replace(\"'\",\"\"),\n",
    "                              'Labour Total':'sum',\n",
    "                              'Misc Total':'sum',\n",
    "                              'OSL Total':'sum',\n",
    "                              'Order Type' : lambda x: str(set(x)).strip(\"{}\").replace(\"'\",\"\"),\n",
    "                              'Parts Total' : 'sum',\n",
    "                              'Total Amt Wtd Tax.' : 'sum',\n",
    "                              'Partner Type': 'nunique',\n",
    "                              'Data Origin' : lambda x: str(set(x)).strip(\"{}\").replace(\"'\",\"\"),\n",
    "                              'Title' : 'nunique',\n",
    "                              'Model': lambda x: str(set(x)).strip(\"{}\").replace(\"'\",\"\"),\n",
    "                              'Make': lambda x: str(set(x)).strip(\"{}\").replace(\"'\",\"\"),\n",
    "                              'City' : lambda x: str(set(x)).strip(\"{}\").replace(\"'\",\"\"),\n",
    "                              'ServiceTime_category' : lambda x: str(set(x)).strip(\"{}\").replace(\"'\",\"\"),\n",
    "                              'Description' : lambda x: str(set(x)).strip(\"{}\").replace(\"'\",\"\"),\n",
    "                              'Item Category' : lambda x: str(set(x)).strip(\"{}\").replace(\"'\",\"\"),\n",
    "                              'Order Quantity' : 'sum',\n",
    "                              'Net value' : 'sum',\n",
    "                              'Invoice Date Time': lambda x: x.max()}"
   ]
  },
  {
   "cell_type": "code",
   "execution_count": 244,
   "metadata": {},
   "outputs": [],
   "source": [
    "invoice_grouped_data = invoice_customer_plant_jtd.groupby('Customer No.').agg(aggregation_by_customer_no).reset_index()"
   ]
  },
  {
   "cell_type": "code",
   "execution_count": 245,
   "metadata": {},
   "outputs": [
    {
     "data": {
      "text/plain": [
       "(153785, 20)"
      ]
     },
     "execution_count": 245,
     "metadata": {},
     "output_type": "execute_result"
    }
   ],
   "source": [
    "invoice_grouped_data.shape"
   ]
  },
  {
   "cell_type": "code",
   "execution_count": 275,
   "metadata": {},
   "outputs": [
    {
     "ename": "TypeError",
     "evalue": "cannot astype a timedelta from [timedelta64[ns]] to [datetime64[ns]]",
     "output_type": "error",
     "traceback": [
      "\u001b[1;31m---------------------------------------------------------------------------\u001b[0m",
      "\u001b[1;31mTypeError\u001b[0m                                 Traceback (most recent call last)",
      "\u001b[1;32m<ipython-input-275-bdd6789ba3ca>\u001b[0m in \u001b[0;36m<module>\u001b[1;34m\u001b[0m\n\u001b[0;32m      5\u001b[0m \u001b[0minvoice_grouped_data\u001b[0m\u001b[1;33m[\u001b[0m\u001b[1;34m'Invoice Date Time'\u001b[0m\u001b[1;33m]\u001b[0m\u001b[1;33m.\u001b[0m\u001b[0mdt\u001b[0m\u001b[1;33m.\u001b[0m\u001b[0mday\u001b[0m\u001b[1;33m.\u001b[0m\u001b[0mhead\u001b[0m\u001b[1;33m(\u001b[0m\u001b[1;33m)\u001b[0m\u001b[1;33m\u001b[0m\u001b[1;33m\u001b[0m\u001b[0m\n\u001b[0;32m      6\u001b[0m \u001b[0minvoice_grouped_data\u001b[0m\u001b[1;33m[\u001b[0m\u001b[1;34m'Temp'\u001b[0m\u001b[1;33m]\u001b[0m \u001b[1;33m=\u001b[0m \u001b[0minvoice_grouped_data\u001b[0m\u001b[1;33m[\u001b[0m\u001b[1;34m'Invoice Date Time'\u001b[0m\u001b[1;33m]\u001b[0m\u001b[1;33m.\u001b[0m\u001b[0mmax\u001b[0m\u001b[1;33m(\u001b[0m\u001b[1;33m)\u001b[0m \u001b[1;33m-\u001b[0m \u001b[0minvoice_grouped_data\u001b[0m\u001b[1;33m[\u001b[0m\u001b[1;34m'Invoice Date Time'\u001b[0m\u001b[1;33m]\u001b[0m\u001b[1;33m\u001b[0m\u001b[1;33m\u001b[0m\u001b[0m\n\u001b[1;32m----> 7\u001b[1;33m \u001b[0minvoice_grouped_data\u001b[0m\u001b[1;33m[\u001b[0m\u001b[1;34m'Temp'\u001b[0m\u001b[1;33m]\u001b[0m \u001b[1;33m=\u001b[0m \u001b[0minvoice_grouped_data\u001b[0m\u001b[1;33m[\u001b[0m\u001b[1;34m'Temp'\u001b[0m\u001b[1;33m]\u001b[0m\u001b[1;33m.\u001b[0m\u001b[0mastype\u001b[0m\u001b[1;33m(\u001b[0m\u001b[1;34m'datetime64[ns]'\u001b[0m\u001b[1;33m)\u001b[0m\u001b[1;33m\u001b[0m\u001b[1;33m\u001b[0m\u001b[0m\n\u001b[0m",
      "\u001b[1;32mC:\\Anaconda3\\lib\\site-packages\\pandas\\core\\generic.py\u001b[0m in \u001b[0;36mastype\u001b[1;34m(self, dtype, copy, errors, **kwargs)\u001b[0m\n\u001b[0;32m   5880\u001b[0m             \u001b[1;31m# else, only a single dtype is given\u001b[0m\u001b[1;33m\u001b[0m\u001b[1;33m\u001b[0m\u001b[1;33m\u001b[0m\u001b[0m\n\u001b[0;32m   5881\u001b[0m             new_data = self._data.astype(\n\u001b[1;32m-> 5882\u001b[1;33m                 \u001b[0mdtype\u001b[0m\u001b[1;33m=\u001b[0m\u001b[0mdtype\u001b[0m\u001b[1;33m,\u001b[0m \u001b[0mcopy\u001b[0m\u001b[1;33m=\u001b[0m\u001b[0mcopy\u001b[0m\u001b[1;33m,\u001b[0m \u001b[0merrors\u001b[0m\u001b[1;33m=\u001b[0m\u001b[0merrors\u001b[0m\u001b[1;33m,\u001b[0m \u001b[1;33m**\u001b[0m\u001b[0mkwargs\u001b[0m\u001b[1;33m\u001b[0m\u001b[1;33m\u001b[0m\u001b[0m\n\u001b[0m\u001b[0;32m   5883\u001b[0m             )\n\u001b[0;32m   5884\u001b[0m             \u001b[1;32mreturn\u001b[0m \u001b[0mself\u001b[0m\u001b[1;33m.\u001b[0m\u001b[0m_constructor\u001b[0m\u001b[1;33m(\u001b[0m\u001b[0mnew_data\u001b[0m\u001b[1;33m)\u001b[0m\u001b[1;33m.\u001b[0m\u001b[0m__finalize__\u001b[0m\u001b[1;33m(\u001b[0m\u001b[0mself\u001b[0m\u001b[1;33m)\u001b[0m\u001b[1;33m\u001b[0m\u001b[1;33m\u001b[0m\u001b[0m\n",
      "\u001b[1;32mC:\\Anaconda3\\lib\\site-packages\\pandas\\core\\internals\\managers.py\u001b[0m in \u001b[0;36mastype\u001b[1;34m(self, dtype, **kwargs)\u001b[0m\n\u001b[0;32m    579\u001b[0m \u001b[1;33m\u001b[0m\u001b[0m\n\u001b[0;32m    580\u001b[0m     \u001b[1;32mdef\u001b[0m \u001b[0mastype\u001b[0m\u001b[1;33m(\u001b[0m\u001b[0mself\u001b[0m\u001b[1;33m,\u001b[0m \u001b[0mdtype\u001b[0m\u001b[1;33m,\u001b[0m \u001b[1;33m**\u001b[0m\u001b[0mkwargs\u001b[0m\u001b[1;33m)\u001b[0m\u001b[1;33m:\u001b[0m\u001b[1;33m\u001b[0m\u001b[1;33m\u001b[0m\u001b[0m\n\u001b[1;32m--> 581\u001b[1;33m         \u001b[1;32mreturn\u001b[0m \u001b[0mself\u001b[0m\u001b[1;33m.\u001b[0m\u001b[0mapply\u001b[0m\u001b[1;33m(\u001b[0m\u001b[1;34m\"astype\"\u001b[0m\u001b[1;33m,\u001b[0m \u001b[0mdtype\u001b[0m\u001b[1;33m=\u001b[0m\u001b[0mdtype\u001b[0m\u001b[1;33m,\u001b[0m \u001b[1;33m**\u001b[0m\u001b[0mkwargs\u001b[0m\u001b[1;33m)\u001b[0m\u001b[1;33m\u001b[0m\u001b[1;33m\u001b[0m\u001b[0m\n\u001b[0m\u001b[0;32m    582\u001b[0m \u001b[1;33m\u001b[0m\u001b[0m\n\u001b[0;32m    583\u001b[0m     \u001b[1;32mdef\u001b[0m \u001b[0mconvert\u001b[0m\u001b[1;33m(\u001b[0m\u001b[0mself\u001b[0m\u001b[1;33m,\u001b[0m \u001b[1;33m**\u001b[0m\u001b[0mkwargs\u001b[0m\u001b[1;33m)\u001b[0m\u001b[1;33m:\u001b[0m\u001b[1;33m\u001b[0m\u001b[1;33m\u001b[0m\u001b[0m\n",
      "\u001b[1;32mC:\\Anaconda3\\lib\\site-packages\\pandas\\core\\internals\\managers.py\u001b[0m in \u001b[0;36mapply\u001b[1;34m(self, f, axes, filter, do_integrity_check, consolidate, **kwargs)\u001b[0m\n\u001b[0;32m    436\u001b[0m                     \u001b[0mkwargs\u001b[0m\u001b[1;33m[\u001b[0m\u001b[0mk\u001b[0m\u001b[1;33m]\u001b[0m \u001b[1;33m=\u001b[0m \u001b[0mobj\u001b[0m\u001b[1;33m.\u001b[0m\u001b[0mreindex\u001b[0m\u001b[1;33m(\u001b[0m\u001b[0mb_items\u001b[0m\u001b[1;33m,\u001b[0m \u001b[0maxis\u001b[0m\u001b[1;33m=\u001b[0m\u001b[0maxis\u001b[0m\u001b[1;33m,\u001b[0m \u001b[0mcopy\u001b[0m\u001b[1;33m=\u001b[0m\u001b[0malign_copy\u001b[0m\u001b[1;33m)\u001b[0m\u001b[1;33m\u001b[0m\u001b[1;33m\u001b[0m\u001b[0m\n\u001b[0;32m    437\u001b[0m \u001b[1;33m\u001b[0m\u001b[0m\n\u001b[1;32m--> 438\u001b[1;33m             \u001b[0mapplied\u001b[0m \u001b[1;33m=\u001b[0m \u001b[0mgetattr\u001b[0m\u001b[1;33m(\u001b[0m\u001b[0mb\u001b[0m\u001b[1;33m,\u001b[0m \u001b[0mf\u001b[0m\u001b[1;33m)\u001b[0m\u001b[1;33m(\u001b[0m\u001b[1;33m**\u001b[0m\u001b[0mkwargs\u001b[0m\u001b[1;33m)\u001b[0m\u001b[1;33m\u001b[0m\u001b[1;33m\u001b[0m\u001b[0m\n\u001b[0m\u001b[0;32m    439\u001b[0m             \u001b[0mresult_blocks\u001b[0m \u001b[1;33m=\u001b[0m \u001b[0m_extend_blocks\u001b[0m\u001b[1;33m(\u001b[0m\u001b[0mapplied\u001b[0m\u001b[1;33m,\u001b[0m \u001b[0mresult_blocks\u001b[0m\u001b[1;33m)\u001b[0m\u001b[1;33m\u001b[0m\u001b[1;33m\u001b[0m\u001b[0m\n\u001b[0;32m    440\u001b[0m \u001b[1;33m\u001b[0m\u001b[0m\n",
      "\u001b[1;32mC:\\Anaconda3\\lib\\site-packages\\pandas\\core\\internals\\blocks.py\u001b[0m in \u001b[0;36mastype\u001b[1;34m(self, dtype, copy, errors, values, **kwargs)\u001b[0m\n\u001b[0;32m    557\u001b[0m \u001b[1;33m\u001b[0m\u001b[0m\n\u001b[0;32m    558\u001b[0m     \u001b[1;32mdef\u001b[0m \u001b[0mastype\u001b[0m\u001b[1;33m(\u001b[0m\u001b[0mself\u001b[0m\u001b[1;33m,\u001b[0m \u001b[0mdtype\u001b[0m\u001b[1;33m,\u001b[0m \u001b[0mcopy\u001b[0m\u001b[1;33m=\u001b[0m\u001b[1;32mFalse\u001b[0m\u001b[1;33m,\u001b[0m \u001b[0merrors\u001b[0m\u001b[1;33m=\u001b[0m\u001b[1;34m\"raise\"\u001b[0m\u001b[1;33m,\u001b[0m \u001b[0mvalues\u001b[0m\u001b[1;33m=\u001b[0m\u001b[1;32mNone\u001b[0m\u001b[1;33m,\u001b[0m \u001b[1;33m**\u001b[0m\u001b[0mkwargs\u001b[0m\u001b[1;33m)\u001b[0m\u001b[1;33m:\u001b[0m\u001b[1;33m\u001b[0m\u001b[1;33m\u001b[0m\u001b[0m\n\u001b[1;32m--> 559\u001b[1;33m         \u001b[1;32mreturn\u001b[0m \u001b[0mself\u001b[0m\u001b[1;33m.\u001b[0m\u001b[0m_astype\u001b[0m\u001b[1;33m(\u001b[0m\u001b[0mdtype\u001b[0m\u001b[1;33m,\u001b[0m \u001b[0mcopy\u001b[0m\u001b[1;33m=\u001b[0m\u001b[0mcopy\u001b[0m\u001b[1;33m,\u001b[0m \u001b[0merrors\u001b[0m\u001b[1;33m=\u001b[0m\u001b[0merrors\u001b[0m\u001b[1;33m,\u001b[0m \u001b[0mvalues\u001b[0m\u001b[1;33m=\u001b[0m\u001b[0mvalues\u001b[0m\u001b[1;33m,\u001b[0m \u001b[1;33m**\u001b[0m\u001b[0mkwargs\u001b[0m\u001b[1;33m)\u001b[0m\u001b[1;33m\u001b[0m\u001b[1;33m\u001b[0m\u001b[0m\n\u001b[0m\u001b[0;32m    560\u001b[0m \u001b[1;33m\u001b[0m\u001b[0m\n\u001b[0;32m    561\u001b[0m     \u001b[1;32mdef\u001b[0m \u001b[0m_astype\u001b[0m\u001b[1;33m(\u001b[0m\u001b[0mself\u001b[0m\u001b[1;33m,\u001b[0m \u001b[0mdtype\u001b[0m\u001b[1;33m,\u001b[0m \u001b[0mcopy\u001b[0m\u001b[1;33m=\u001b[0m\u001b[1;32mFalse\u001b[0m\u001b[1;33m,\u001b[0m \u001b[0merrors\u001b[0m\u001b[1;33m=\u001b[0m\u001b[1;34m\"raise\"\u001b[0m\u001b[1;33m,\u001b[0m \u001b[0mvalues\u001b[0m\u001b[1;33m=\u001b[0m\u001b[1;32mNone\u001b[0m\u001b[1;33m,\u001b[0m \u001b[1;33m**\u001b[0m\u001b[0mkwargs\u001b[0m\u001b[1;33m)\u001b[0m\u001b[1;33m:\u001b[0m\u001b[1;33m\u001b[0m\u001b[1;33m\u001b[0m\u001b[0m\n",
      "\u001b[1;32mC:\\Anaconda3\\lib\\site-packages\\pandas\\core\\internals\\blocks.py\u001b[0m in \u001b[0;36m_astype\u001b[1;34m(self, dtype, copy, errors, values, **kwargs)\u001b[0m\n\u001b[0;32m    641\u001b[0m                     \u001b[1;31m# _astype_nansafe works fine with 1-d only\u001b[0m\u001b[1;33m\u001b[0m\u001b[1;33m\u001b[0m\u001b[1;33m\u001b[0m\u001b[0m\n\u001b[0;32m    642\u001b[0m                     \u001b[0mvals1d\u001b[0m \u001b[1;33m=\u001b[0m \u001b[0mvalues\u001b[0m\u001b[1;33m.\u001b[0m\u001b[0mravel\u001b[0m\u001b[1;33m(\u001b[0m\u001b[1;33m)\u001b[0m\u001b[1;33m\u001b[0m\u001b[1;33m\u001b[0m\u001b[0m\n\u001b[1;32m--> 643\u001b[1;33m                     \u001b[0mvalues\u001b[0m \u001b[1;33m=\u001b[0m \u001b[0mastype_nansafe\u001b[0m\u001b[1;33m(\u001b[0m\u001b[0mvals1d\u001b[0m\u001b[1;33m,\u001b[0m \u001b[0mdtype\u001b[0m\u001b[1;33m,\u001b[0m \u001b[0mcopy\u001b[0m\u001b[1;33m=\u001b[0m\u001b[1;32mTrue\u001b[0m\u001b[1;33m,\u001b[0m \u001b[1;33m**\u001b[0m\u001b[0mkwargs\u001b[0m\u001b[1;33m)\u001b[0m\u001b[1;33m\u001b[0m\u001b[1;33m\u001b[0m\u001b[0m\n\u001b[0m\u001b[0;32m    644\u001b[0m \u001b[1;33m\u001b[0m\u001b[0m\n\u001b[0;32m    645\u001b[0m                 \u001b[1;31m# TODO(extension)\u001b[0m\u001b[1;33m\u001b[0m\u001b[1;33m\u001b[0m\u001b[1;33m\u001b[0m\u001b[0m\n",
      "\u001b[1;32mC:\\Anaconda3\\lib\\site-packages\\pandas\\core\\dtypes\\cast.py\u001b[0m in \u001b[0;36mastype_nansafe\u001b[1;34m(arr, dtype, copy, skipna)\u001b[0m\n\u001b[0;32m    691\u001b[0m         raise TypeError(\n\u001b[0;32m    692\u001b[0m             \u001b[1;34m\"cannot astype a timedelta from [{from_dtype}] \"\u001b[0m\u001b[1;33m\u001b[0m\u001b[1;33m\u001b[0m\u001b[0m\n\u001b[1;32m--> 693\u001b[1;33m             \u001b[1;34m\"to [{to_dtype}]\"\u001b[0m\u001b[1;33m.\u001b[0m\u001b[0mformat\u001b[0m\u001b[1;33m(\u001b[0m\u001b[0mfrom_dtype\u001b[0m\u001b[1;33m=\u001b[0m\u001b[0marr\u001b[0m\u001b[1;33m.\u001b[0m\u001b[0mdtype\u001b[0m\u001b[1;33m,\u001b[0m \u001b[0mto_dtype\u001b[0m\u001b[1;33m=\u001b[0m\u001b[0mdtype\u001b[0m\u001b[1;33m)\u001b[0m\u001b[1;33m\u001b[0m\u001b[1;33m\u001b[0m\u001b[0m\n\u001b[0m\u001b[0;32m    694\u001b[0m         )\n\u001b[0;32m    695\u001b[0m \u001b[1;33m\u001b[0m\u001b[0m\n",
      "\u001b[1;31mTypeError\u001b[0m: cannot astype a timedelta from [timedelta64[ns]] to [datetime64[ns]]"
     ]
    }
   ],
   "source": [
    "# temp = invoice_grouped_data['Invoice Date Time'].max().days - invoice_grouped_data['Invoice Date Time'].days\n",
    "# temp[9]\n",
    "# # invoice_grouped_data['Invoice Date Time'].dt.days\n",
    "# invoice_grouped_data['Invoice Date Time'] = invoice_grouped_data['Invoice Date Time'].astype('datetime64[ns]')\n",
    "# invoice_grouped_data['Invoice Date Time'].dt.day.head()\n",
    "# invoice_grouped_data['Temp'] = invoice_grouped_data['Invoice Date Time'].max() - invoice_grouped_data['Invoice Date Time']\n",
    "# invoice_grouped_data['Temp'] = invoice_grouped_data['Temp'].astype('datetime64[ns]')"
   ]
  },
  {
   "cell_type": "code",
   "execution_count": 106,
   "metadata": {},
   "outputs": [
    {
     "data": {
      "text/html": [
       "<div>\n",
       "<style scoped>\n",
       "    .dataframe tbody tr th:only-of-type {\n",
       "        vertical-align: middle;\n",
       "    }\n",
       "\n",
       "    .dataframe tbody tr th {\n",
       "        vertical-align: top;\n",
       "    }\n",
       "\n",
       "    .dataframe thead th {\n",
       "        text-align: right;\n",
       "    }\n",
       "</style>\n",
       "<table border=\"1\" class=\"dataframe\">\n",
       "  <thead>\n",
       "    <tr style=\"text-align: right;\">\n",
       "      <th></th>\n",
       "      <th>Customer No.</th>\n",
       "      <th>Cust Type</th>\n",
       "      <th>Labour Total</th>\n",
       "      <th>Misc Total</th>\n",
       "      <th>OSL Total</th>\n",
       "      <th>Order Type</th>\n",
       "      <th>Parts Total</th>\n",
       "      <th>Total Amt Wtd Tax.</th>\n",
       "      <th>Partner Type</th>\n",
       "      <th>Data Origin</th>\n",
       "      <th>Title</th>\n",
       "      <th>Model</th>\n",
       "      <th>Make</th>\n",
       "      <th>City</th>\n",
       "      <th>ServiceTime_category</th>\n",
       "      <th>Description</th>\n",
       "      <th>Item Category</th>\n",
       "      <th>Order Quantity</th>\n",
       "      <th>Net value</th>\n",
       "    </tr>\n",
       "  </thead>\n",
       "  <tbody>\n",
       "    <tr>\n",
       "      <th>0</th>\n",
       "      <td>100001</td>\n",
       "      <td>Retail</td>\n",
       "      <td>3429.34</td>\n",
       "      <td>0.0</td>\n",
       "      <td>0.0</td>\n",
       "      <td>Running Repairs, Accidental</td>\n",
       "      <td>834.41</td>\n",
       "      <td>4263.75</td>\n",
       "      <td>1</td>\n",
       "      <td>Z005</td>\n",
       "      <td>1</td>\n",
       "      <td>INNOVA, SUPERB, BOLERO</td>\n",
       "      <td>TOYOTA, MAHINDRA &amp;  MAHINDRA, SKODA</td>\n",
       "      <td>Pune</td>\n",
       "      <td>super_slow, mid, super_fast</td>\n",
       "      <td>POWER STERING OIL, BOLT 10MM, NUT 8 MM, WASHIN...</td>\n",
       "      <td>P001, P001, P002</td>\n",
       "      <td>1208.2</td>\n",
       "      <td>4263.75</td>\n",
       "    </tr>\n",
       "  </tbody>\n",
       "</table>\n",
       "</div>"
      ],
      "text/plain": [
       "  Customer No. Cust Type  Labour Total  Misc Total  OSL Total  \\\n",
       "0       100001    Retail       3429.34         0.0        0.0   \n",
       "\n",
       "                    Order Type  Parts Total  Total Amt Wtd Tax.  Partner Type  \\\n",
       "0  Running Repairs, Accidental       834.41             4263.75             1   \n",
       "\n",
       "  Data Origin  Title                   Model  \\\n",
       "0        Z005      1  INNOVA, SUPERB, BOLERO   \n",
       "\n",
       "                                  Make  City         ServiceTime_category  \\\n",
       "0  TOYOTA, MAHINDRA &  MAHINDRA, SKODA  Pune  super_slow, mid, super_fast   \n",
       "\n",
       "                                         Description     Item Category  \\\n",
       "0  POWER STERING OIL, BOLT 10MM, NUT 8 MM, WASHIN...  P001, P001, P002   \n",
       "\n",
       "   Order Quantity  Net value  \n",
       "0          1208.2    4263.75  "
      ]
     },
     "execution_count": 106,
     "metadata": {},
     "output_type": "execute_result"
    }
   ],
   "source": [
    "invoice_grouped_data.head(1)"
   ]
  },
  {
   "cell_type": "code",
   "execution_count": 107,
   "metadata": {},
   "outputs": [
    {
     "data": {
      "text/plain": [
       "'Mechanical,Paid Service,Running Repairs'"
      ]
     },
     "execution_count": 107,
     "metadata": {},
     "output_type": "execute_result"
    }
   ],
   "source": [
    "','.join(sorted([w.strip(' ') for w in invoice_grouped_data['Order Type'].iloc[50].split(',')]))"
   ]
  },
  {
   "cell_type": "code",
   "execution_count": 108,
   "metadata": {},
   "outputs": [],
   "source": [
    "invoice_grouped_data['Order Type'] = invoice_grouped_data['Order Type'].apply(lambda x: ','.join(sorted([w.strip(' ') for w in x.split(',')])))"
   ]
  },
  {
   "cell_type": "code",
   "execution_count": 109,
   "metadata": {},
   "outputs": [],
   "source": [
    "freq_used_services = ['Running Repairs','Paid Service', 'Paid Service,Running Repairs', 'Accidental']"
   ]
  },
  {
   "cell_type": "code",
   "execution_count": 110,
   "metadata": {},
   "outputs": [],
   "source": [
    "invoice_grouped_data['Order Type'] = invoice_grouped_data['Order Type'].apply(lambda order: 'Others' if order not in freq_used_services else order)"
   ]
  },
  {
   "cell_type": "code",
   "execution_count": 111,
   "metadata": {},
   "outputs": [
    {
     "data": {
      "text/plain": [
       "Running Repairs                 47.278993\n",
       "Paid Service                    24.318367\n",
       "Others                          13.859609\n",
       "Paid Service,Running Repairs     9.044445\n",
       "Accidental                       5.498586\n",
       "Name: Order Type, dtype: float64"
      ]
     },
     "execution_count": 111,
     "metadata": {},
     "output_type": "execute_result"
    }
   ],
   "source": [
    "(invoice_grouped_data['Order Type'].value_counts()/len(invoice_grouped_data['Order Type']))*100"
   ]
  },
  {
   "cell_type": "code",
   "execution_count": 112,
   "metadata": {},
   "outputs": [],
   "source": [
    "most_freq_data_origin = (invoice_grouped_data['Data Origin'].value_counts()/len(invoice_grouped_data['Data Origin'])).iloc[0:7].index"
   ]
  },
  {
   "cell_type": "code",
   "execution_count": 113,
   "metadata": {},
   "outputs": [],
   "source": [
    "invoice_grouped_data['Data Origin'] = invoice_grouped_data['Data Origin'].apply(lambda x: 'Others' if x not in most_freq_data_origin else x)"
   ]
  },
  {
   "cell_type": "code",
   "execution_count": 114,
   "metadata": {},
   "outputs": [
    {
     "data": {
      "text/plain": [
       "Z006      24.837273\n",
       "Z005      24.239035\n",
       "Others    14.944240\n",
       "Z001       9.709009\n",
       "Z002       7.928602\n",
       "Z019       6.643041\n",
       "Z021       6.005787\n",
       "Z004       5.693013\n",
       "Name: Data Origin, dtype: float64"
      ]
     },
     "execution_count": 114,
     "metadata": {},
     "output_type": "execute_result"
    }
   ],
   "source": [
    "(invoice_grouped_data['Data Origin'].value_counts()/len(invoice_grouped_data['Data Origin']))*100"
   ]
  },
  {
   "cell_type": "code",
   "execution_count": 115,
   "metadata": {},
   "outputs": [
    {
     "data": {
      "text/plain": [
       "SWIFT                       10093\n",
       "ALTO                         9309\n",
       "BOLERO                       6567\n",
       "INDICA                       6446\n",
       "SCORPIO CRDE                 6155\n",
       "                            ...  \n",
       "RAPID, VERNA                    1\n",
       "SUMO, XYLO, INDIGO MANZA        1\n",
       "ERTIGA, EECO                    1\n",
       "LOGAN D, GETZ                   1\n",
       "SSANYONG KORANDO, BOLERO        1\n",
       "Name: Model, Length: 1475, dtype: int64"
      ]
     },
     "execution_count": 115,
     "metadata": {},
     "output_type": "execute_result"
    }
   ],
   "source": [
    "invoice_grouped_data['Model'].value_counts()"
   ]
  },
  {
   "cell_type": "code",
   "execution_count": 270,
   "metadata": {},
   "outputs": [],
   "source": [
    "#Not Required as we have many models - This can be dropped\n",
    "#most_freq_used_veh_models = ((invoice_grouped_data['Model'].value_counts()/len(invoice_grouped_data['Model']))*100)[((invoice_grouped_data['Model'].value_counts()/len(invoice_grouped_data['Model']))*100)>2].index\n",
    "#invoice_grouped_data['Model'] = invoice_grouped_data['Model'].apply(lambda x: 'Others' if x not in most_freq_used_veh_models else x)"
   ]
  },
  {
   "cell_type": "code",
   "execution_count": 116,
   "metadata": {},
   "outputs": [],
   "source": [
    "most_freq_used_vehicle_make = ((invoice_grouped_data['Make'].value_counts()/len(invoice_grouped_data['Make']))*100)[((invoice_grouped_data['Make'].value_counts()/len(invoice_grouped_data['Make']))*100)>2].index"
   ]
  },
  {
   "cell_type": "code",
   "execution_count": 119,
   "metadata": {},
   "outputs": [],
   "source": [
    "invoice_grouped_data['Make'] = invoice_grouped_data['Make'].apply(lambda x: 'Others' if x not in most_freq_used_vehicle_make else x)"
   ]
  },
  {
   "cell_type": "code",
   "execution_count": 120,
   "metadata": {},
   "outputs": [
    {
     "data": {
      "text/plain": [
       "MARUTI SUZUKI           30.394382\n",
       "MAHINDRA &  MAHINDRA    16.591345\n",
       "HYUNDAI                 14.864259\n",
       "TATA MOTORS             12.782781\n",
       "Others                   7.792047\n",
       "GENERAL MOTORS           5.826316\n",
       "TOYOTA                   4.507592\n",
       "FORD                     4.428260\n",
       "HONDA                    2.813018\n",
       "Name: Make, dtype: float64"
      ]
     },
     "execution_count": 120,
     "metadata": {},
     "output_type": "execute_result"
    }
   ],
   "source": [
    "invoice_grouped_data['Make'].value_counts()/len(invoice_grouped_data['Make'])*100"
   ]
  },
  {
   "cell_type": "code",
   "execution_count": 121,
   "metadata": {},
   "outputs": [
    {
     "data": {
      "text/plain": [
       "SWIFT                       6.563059\n",
       "ALTO                        6.053256\n",
       "BOLERO                      4.270247\n",
       "INDICA                      4.191566\n",
       "SCORPIO CRDE                4.002341\n",
       "                              ...   \n",
       "RAPID, VERNA                0.000650\n",
       "SUMO, XYLO, INDIGO MANZA    0.000650\n",
       "ERTIGA, EECO                0.000650\n",
       "LOGAN D, GETZ               0.000650\n",
       "SSANYONG KORANDO, BOLERO    0.000650\n",
       "Name: Model, Length: 1475, dtype: float64"
      ]
     },
     "execution_count": 121,
     "metadata": {},
     "output_type": "execute_result"
    }
   ],
   "source": [
    "invoice_grouped_data['Model'].value_counts()/len(invoice_grouped_data['Model'])*100"
   ]
  },
  {
   "cell_type": "code",
   "execution_count": 122,
   "metadata": {},
   "outputs": [],
   "source": [
    "most_freq_service_type = ((invoice_grouped_data['ServiceTime_category'].value_counts()/len(invoice_grouped_data['ServiceTime_category']))*100).iloc[0:11]"
   ]
  },
  {
   "cell_type": "code",
   "execution_count": 123,
   "metadata": {},
   "outputs": [],
   "source": [
    "invoice_grouped_data['ServiceTime_category'] = invoice_grouped_data['ServiceTime_category'].apply(lambda x: 'Others' if x not in most_freq_service_type else x )"
   ]
  },
  {
   "cell_type": "code",
   "execution_count": 124,
   "metadata": {},
   "outputs": [
    {
     "data": {
      "text/plain": [
       "super_fast                      43.665507\n",
       "super_slow                      17.587541\n",
       "fast                             9.323406\n",
       "Others                           6.568261\n",
       "super_slow, super_fast           5.056410\n",
       "mid                              5.002438\n",
       "fast, super_fast                 3.923660\n",
       "slow                             3.170660\n",
       "mid, super_fast                  1.785610\n",
       "super_slow, fast                 1.515102\n",
       "super_slow, fast, super_fast     1.406509\n",
       "slow, super_fast                 0.994895\n",
       "Name: ServiceTime_category, dtype: float64"
      ]
     },
     "execution_count": 124,
     "metadata": {},
     "output_type": "execute_result"
    }
   ],
   "source": [
    "((invoice_grouped_data['ServiceTime_category'].value_counts()/len(invoice_grouped_data['ServiceTime_category']))*100)"
   ]
  },
  {
   "cell_type": "code",
   "execution_count": 125,
   "metadata": {},
   "outputs": [
    {
     "data": {
      "text/html": [
       "<div>\n",
       "<style scoped>\n",
       "    .dataframe tbody tr th:only-of-type {\n",
       "        vertical-align: middle;\n",
       "    }\n",
       "\n",
       "    .dataframe tbody tr th {\n",
       "        vertical-align: top;\n",
       "    }\n",
       "\n",
       "    .dataframe thead th {\n",
       "        text-align: right;\n",
       "    }\n",
       "</style>\n",
       "<table border=\"1\" class=\"dataframe\">\n",
       "  <thead>\n",
       "    <tr style=\"text-align: right;\">\n",
       "      <th></th>\n",
       "      <th>Customer No.</th>\n",
       "      <th>Cust Type</th>\n",
       "      <th>Labour Total</th>\n",
       "      <th>Misc Total</th>\n",
       "      <th>OSL Total</th>\n",
       "      <th>Order Type</th>\n",
       "      <th>Parts Total</th>\n",
       "      <th>Total Amt Wtd Tax.</th>\n",
       "      <th>Partner Type</th>\n",
       "      <th>Data Origin</th>\n",
       "      <th>Title</th>\n",
       "      <th>Model</th>\n",
       "      <th>Make</th>\n",
       "      <th>City</th>\n",
       "      <th>ServiceTime_category</th>\n",
       "      <th>Description</th>\n",
       "      <th>Item Category</th>\n",
       "      <th>Order Quantity</th>\n",
       "      <th>Net value</th>\n",
       "    </tr>\n",
       "  </thead>\n",
       "  <tbody>\n",
       "    <tr>\n",
       "      <th>0</th>\n",
       "      <td>100001</td>\n",
       "      <td>Retail</td>\n",
       "      <td>3429.34</td>\n",
       "      <td>0.0</td>\n",
       "      <td>0.0</td>\n",
       "      <td>Others</td>\n",
       "      <td>834.41</td>\n",
       "      <td>4263.75</td>\n",
       "      <td>1</td>\n",
       "      <td>Z005</td>\n",
       "      <td>1</td>\n",
       "      <td>INNOVA, SUPERB, BOLERO</td>\n",
       "      <td>Others</td>\n",
       "      <td>Pune</td>\n",
       "      <td>Others</td>\n",
       "      <td>POWER STERING OIL, BOLT 10MM, NUT 8 MM, WASHIN...</td>\n",
       "      <td>P001, P001, P002</td>\n",
       "      <td>1208.2</td>\n",
       "      <td>4263.75</td>\n",
       "    </tr>\n",
       "  </tbody>\n",
       "</table>\n",
       "</div>"
      ],
      "text/plain": [
       "  Customer No. Cust Type  Labour Total  Misc Total  OSL Total Order Type  \\\n",
       "0       100001    Retail       3429.34         0.0        0.0     Others   \n",
       "\n",
       "   Parts Total  Total Amt Wtd Tax.  Partner Type Data Origin  Title  \\\n",
       "0       834.41             4263.75             1        Z005      1   \n",
       "\n",
       "                    Model    Make  City ServiceTime_category  \\\n",
       "0  INNOVA, SUPERB, BOLERO  Others  Pune               Others   \n",
       "\n",
       "                                         Description     Item Category  \\\n",
       "0  POWER STERING OIL, BOLT 10MM, NUT 8 MM, WASHIN...  P001, P001, P002   \n",
       "\n",
       "   Order Quantity  Net value  \n",
       "0          1208.2    4263.75  "
      ]
     },
     "execution_count": 125,
     "metadata": {},
     "output_type": "execute_result"
    }
   ],
   "source": [
    "invoice_grouped_data.head(1)"
   ]
  },
  {
   "cell_type": "code",
   "execution_count": 126,
   "metadata": {},
   "outputs": [],
   "source": [
    "invoice_grouped_data.drop(columns=['Description'], inplace=True)"
   ]
  },
  {
   "cell_type": "code",
   "execution_count": 127,
   "metadata": {},
   "outputs": [],
   "source": [
    "most_freq_used_item_categ = ((invoice_grouped_data['Item Category'].value_counts()/len(invoice_grouped_data['Item Category']))*100).iloc[0:11].index"
   ]
  },
  {
   "cell_type": "code",
   "execution_count": 128,
   "metadata": {},
   "outputs": [],
   "source": [
    "invoice_grouped_data['Item Category'] = invoice_grouped_data['Item Category'].apply(lambda x: 'Others' if x not in most_freq_used_item_categ else x)"
   ]
  },
  {
   "cell_type": "code",
   "execution_count": 129,
   "metadata": {},
   "outputs": [
    {
     "data": {
      "text/html": [
       "<div>\n",
       "<style scoped>\n",
       "    .dataframe tbody tr th:only-of-type {\n",
       "        vertical-align: middle;\n",
       "    }\n",
       "\n",
       "    .dataframe tbody tr th {\n",
       "        vertical-align: top;\n",
       "    }\n",
       "\n",
       "    .dataframe thead th {\n",
       "        text-align: right;\n",
       "    }\n",
       "</style>\n",
       "<table border=\"1\" class=\"dataframe\">\n",
       "  <thead>\n",
       "    <tr style=\"text-align: right;\">\n",
       "      <th></th>\n",
       "      <th>Customer No.</th>\n",
       "      <th>Cust Type</th>\n",
       "      <th>Labour Total</th>\n",
       "      <th>Misc Total</th>\n",
       "      <th>OSL Total</th>\n",
       "      <th>Order Type</th>\n",
       "      <th>Parts Total</th>\n",
       "      <th>Total Amt Wtd Tax.</th>\n",
       "      <th>Partner Type</th>\n",
       "      <th>Data Origin</th>\n",
       "      <th>Title</th>\n",
       "      <th>Model</th>\n",
       "      <th>Make</th>\n",
       "      <th>City</th>\n",
       "      <th>ServiceTime_category</th>\n",
       "      <th>Item Category</th>\n",
       "      <th>Order Quantity</th>\n",
       "      <th>Net value</th>\n",
       "    </tr>\n",
       "  </thead>\n",
       "  <tbody>\n",
       "    <tr>\n",
       "      <th>0</th>\n",
       "      <td>100001</td>\n",
       "      <td>Retail</td>\n",
       "      <td>3429.34</td>\n",
       "      <td>0.0</td>\n",
       "      <td>0.0</td>\n",
       "      <td>Others</td>\n",
       "      <td>834.41</td>\n",
       "      <td>4263.75</td>\n",
       "      <td>1</td>\n",
       "      <td>Z005</td>\n",
       "      <td>1</td>\n",
       "      <td>INNOVA, SUPERB, BOLERO</td>\n",
       "      <td>Others</td>\n",
       "      <td>Pune</td>\n",
       "      <td>Others</td>\n",
       "      <td>P001, P001, P002</td>\n",
       "      <td>1208.2</td>\n",
       "      <td>4263.75</td>\n",
       "    </tr>\n",
       "  </tbody>\n",
       "</table>\n",
       "</div>"
      ],
      "text/plain": [
       "  Customer No. Cust Type  Labour Total  Misc Total  OSL Total Order Type  \\\n",
       "0       100001    Retail       3429.34         0.0        0.0     Others   \n",
       "\n",
       "   Parts Total  Total Amt Wtd Tax.  Partner Type Data Origin  Title  \\\n",
       "0       834.41             4263.75             1        Z005      1   \n",
       "\n",
       "                    Model    Make  City ServiceTime_category  \\\n",
       "0  INNOVA, SUPERB, BOLERO  Others  Pune               Others   \n",
       "\n",
       "      Item Category  Order Quantity  Net value  \n",
       "0  P001, P001, P002          1208.2    4263.75  "
      ]
     },
     "execution_count": 129,
     "metadata": {},
     "output_type": "execute_result"
    }
   ],
   "source": [
    "invoice_grouped_data.head(1)"
   ]
  },
  {
   "cell_type": "code",
   "execution_count": 130,
   "metadata": {},
   "outputs": [],
   "source": [
    "#Apply Label Encoding on cluster data\n",
    "from sklearn.preprocessing import LabelEncoder"
   ]
  },
  {
   "cell_type": "code",
   "execution_count": 131,
   "metadata": {},
   "outputs": [],
   "source": [
    "le = LabelEncoder()"
   ]
  },
  {
   "cell_type": "code",
   "execution_count": 132,
   "metadata": {},
   "outputs": [],
   "source": [
    "invoice_grouped_data_categroical = invoice_grouped_data[['Cust Type', 'Order Type',  'OSL Total', 'Model', 'Make', 'City', 'ServiceTime_category']]"
   ]
  },
  {
   "cell_type": "code",
   "execution_count": 133,
   "metadata": {},
   "outputs": [
    {
     "data": {
      "text/html": [
       "<div>\n",
       "<style scoped>\n",
       "    .dataframe tbody tr th:only-of-type {\n",
       "        vertical-align: middle;\n",
       "    }\n",
       "\n",
       "    .dataframe tbody tr th {\n",
       "        vertical-align: top;\n",
       "    }\n",
       "\n",
       "    .dataframe thead th {\n",
       "        text-align: right;\n",
       "    }\n",
       "</style>\n",
       "<table border=\"1\" class=\"dataframe\">\n",
       "  <thead>\n",
       "    <tr style=\"text-align: right;\">\n",
       "      <th></th>\n",
       "      <th>Cust Type</th>\n",
       "      <th>Order Type</th>\n",
       "      <th>OSL Total</th>\n",
       "      <th>Model</th>\n",
       "      <th>Make</th>\n",
       "      <th>City</th>\n",
       "      <th>ServiceTime_category</th>\n",
       "    </tr>\n",
       "  </thead>\n",
       "  <tbody>\n",
       "    <tr>\n",
       "      <th>0</th>\n",
       "      <td>Retail</td>\n",
       "      <td>Others</td>\n",
       "      <td>0.0</td>\n",
       "      <td>INNOVA, SUPERB, BOLERO</td>\n",
       "      <td>Others</td>\n",
       "      <td>Pune</td>\n",
       "      <td>Others</td>\n",
       "    </tr>\n",
       "    <tr>\n",
       "      <th>1</th>\n",
       "      <td>Retail</td>\n",
       "      <td>Accidental</td>\n",
       "      <td>0.0</td>\n",
       "      <td>INNOVA</td>\n",
       "      <td>TOYOTA</td>\n",
       "      <td>Shirur</td>\n",
       "      <td>super_fast</td>\n",
       "    </tr>\n",
       "    <tr>\n",
       "      <th>2</th>\n",
       "      <td>Retail</td>\n",
       "      <td>Running Repairs</td>\n",
       "      <td>0.0</td>\n",
       "      <td>I20</td>\n",
       "      <td>HYUNDAI</td>\n",
       "      <td>Boripardhi</td>\n",
       "      <td>super_fast</td>\n",
       "    </tr>\n",
       "    <tr>\n",
       "      <th>3</th>\n",
       "      <td>Retail</td>\n",
       "      <td>Paid Service</td>\n",
       "      <td>0.0</td>\n",
       "      <td>800</td>\n",
       "      <td>MARUTI SUZUKI</td>\n",
       "      <td>Abohar</td>\n",
       "      <td>mid</td>\n",
       "    </tr>\n",
       "    <tr>\n",
       "      <th>4</th>\n",
       "      <td>Retail</td>\n",
       "      <td>Paid Service,Running Repairs</td>\n",
       "      <td>0.0</td>\n",
       "      <td>VERNA</td>\n",
       "      <td>HYUNDAI</td>\n",
       "      <td>Tirupur</td>\n",
       "      <td>Others</td>\n",
       "    </tr>\n",
       "  </tbody>\n",
       "</table>\n",
       "</div>"
      ],
      "text/plain": [
       "  Cust Type                    Order Type  OSL Total                   Model  \\\n",
       "0    Retail                        Others        0.0  INNOVA, SUPERB, BOLERO   \n",
       "1    Retail                    Accidental        0.0                  INNOVA   \n",
       "2    Retail               Running Repairs        0.0                     I20   \n",
       "3    Retail                  Paid Service        0.0                     800   \n",
       "4    Retail  Paid Service,Running Repairs        0.0                   VERNA   \n",
       "\n",
       "            Make        City ServiceTime_category  \n",
       "0         Others        Pune               Others  \n",
       "1         TOYOTA      Shirur           super_fast  \n",
       "2        HYUNDAI  Boripardhi           super_fast  \n",
       "3  MARUTI SUZUKI      Abohar                  mid  \n",
       "4        HYUNDAI     Tirupur               Others  "
      ]
     },
     "execution_count": 133,
     "metadata": {},
     "output_type": "execute_result"
    }
   ],
   "source": [
    "invoice_grouped_data_categroical.head()"
   ]
  },
  {
   "cell_type": "code",
   "execution_count": 134,
   "metadata": {},
   "outputs": [],
   "source": [
    "invoice_grouped_data_encoded = invoice_grouped_data_categroical.apply(le.fit_transform)"
   ]
  },
  {
   "cell_type": "code",
   "execution_count": 135,
   "metadata": {},
   "outputs": [],
   "source": [
    "invoice_grouped_data_numerical = invoice_grouped_data[['Labour Total', 'Misc Total', 'Total Amt Wtd Tax.', 'Partner Type', 'Title']]"
   ]
  },
  {
   "cell_type": "code",
   "execution_count": 136,
   "metadata": {},
   "outputs": [],
   "source": [
    "invoice_grouped_data_numerical = invoice_grouped_data.select_dtypes(include=[np.number])"
   ]
  },
  {
   "cell_type": "code",
   "execution_count": 137,
   "metadata": {},
   "outputs": [],
   "source": [
    "cluster_data = pd.concat([invoice_grouped_data_encoded,invoice_grouped_data_numerical], axis=1)"
   ]
  },
  {
   "cell_type": "code",
   "execution_count": 138,
   "metadata": {},
   "outputs": [
    {
     "data": {
      "text/html": [
       "<div>\n",
       "<style scoped>\n",
       "    .dataframe tbody tr th:only-of-type {\n",
       "        vertical-align: middle;\n",
       "    }\n",
       "\n",
       "    .dataframe tbody tr th {\n",
       "        vertical-align: top;\n",
       "    }\n",
       "\n",
       "    .dataframe thead th {\n",
       "        text-align: right;\n",
       "    }\n",
       "</style>\n",
       "<table border=\"1\" class=\"dataframe\">\n",
       "  <thead>\n",
       "    <tr style=\"text-align: right;\">\n",
       "      <th></th>\n",
       "      <th>Cust Type</th>\n",
       "      <th>Order Type</th>\n",
       "      <th>OSL Total</th>\n",
       "      <th>Model</th>\n",
       "      <th>Make</th>\n",
       "      <th>City</th>\n",
       "      <th>ServiceTime_category</th>\n",
       "      <th>Labour Total</th>\n",
       "      <th>Misc Total</th>\n",
       "      <th>OSL Total</th>\n",
       "      <th>Parts Total</th>\n",
       "      <th>Total Amt Wtd Tax.</th>\n",
       "      <th>Partner Type</th>\n",
       "      <th>Title</th>\n",
       "      <th>Order Quantity</th>\n",
       "      <th>Net value</th>\n",
       "    </tr>\n",
       "  </thead>\n",
       "  <tbody>\n",
       "    <tr>\n",
       "      <th>153780</th>\n",
       "      <td>5</td>\n",
       "      <td>4</td>\n",
       "      <td>0</td>\n",
       "      <td>929</td>\n",
       "      <td>5</td>\n",
       "      <td>290</td>\n",
       "      <td>7</td>\n",
       "      <td>3257.38</td>\n",
       "      <td>219.99</td>\n",
       "      <td>0.0</td>\n",
       "      <td>0.00</td>\n",
       "      <td>3477.37</td>\n",
       "      <td>1</td>\n",
       "      <td>1</td>\n",
       "      <td>2.0</td>\n",
       "      <td>3477.37</td>\n",
       "    </tr>\n",
       "    <tr>\n",
       "      <th>153781</th>\n",
       "      <td>9</td>\n",
       "      <td>4</td>\n",
       "      <td>0</td>\n",
       "      <td>1066</td>\n",
       "      <td>7</td>\n",
       "      <td>262</td>\n",
       "      <td>3</td>\n",
       "      <td>1245.04</td>\n",
       "      <td>0.00</td>\n",
       "      <td>0.0</td>\n",
       "      <td>5625.91</td>\n",
       "      <td>6870.95</td>\n",
       "      <td>1</td>\n",
       "      <td>1</td>\n",
       "      <td>5.0</td>\n",
       "      <td>6870.95</td>\n",
       "    </tr>\n",
       "    <tr>\n",
       "      <th>153782</th>\n",
       "      <td>9</td>\n",
       "      <td>4</td>\n",
       "      <td>0</td>\n",
       "      <td>1024</td>\n",
       "      <td>4</td>\n",
       "      <td>472</td>\n",
       "      <td>8</td>\n",
       "      <td>167.94</td>\n",
       "      <td>0.00</td>\n",
       "      <td>0.0</td>\n",
       "      <td>399.86</td>\n",
       "      <td>567.80</td>\n",
       "      <td>1</td>\n",
       "      <td>1</td>\n",
       "      <td>32.0</td>\n",
       "      <td>567.80</td>\n",
       "    </tr>\n",
       "    <tr>\n",
       "      <th>153783</th>\n",
       "      <td>9</td>\n",
       "      <td>4</td>\n",
       "      <td>0</td>\n",
       "      <td>1372</td>\n",
       "      <td>4</td>\n",
       "      <td>363</td>\n",
       "      <td>7</td>\n",
       "      <td>4126.97</td>\n",
       "      <td>220.01</td>\n",
       "      <td>0.0</td>\n",
       "      <td>0.00</td>\n",
       "      <td>4346.98</td>\n",
       "      <td>1</td>\n",
       "      <td>1</td>\n",
       "      <td>2.0</td>\n",
       "      <td>4346.98</td>\n",
       "    </tr>\n",
       "    <tr>\n",
       "      <th>153784</th>\n",
       "      <td>5</td>\n",
       "      <td>4</td>\n",
       "      <td>0</td>\n",
       "      <td>985</td>\n",
       "      <td>3</td>\n",
       "      <td>430</td>\n",
       "      <td>8</td>\n",
       "      <td>0.00</td>\n",
       "      <td>0.00</td>\n",
       "      <td>0.0</td>\n",
       "      <td>0.00</td>\n",
       "      <td>0.00</td>\n",
       "      <td>1</td>\n",
       "      <td>1</td>\n",
       "      <td>84.0</td>\n",
       "      <td>0.00</td>\n",
       "    </tr>\n",
       "  </tbody>\n",
       "</table>\n",
       "</div>"
      ],
      "text/plain": [
       "        Cust Type  Order Type  OSL Total  Model  Make  City  \\\n",
       "153780          5           4          0    929     5   290   \n",
       "153781          9           4          0   1066     7   262   \n",
       "153782          9           4          0   1024     4   472   \n",
       "153783          9           4          0   1372     4   363   \n",
       "153784          5           4          0    985     3   430   \n",
       "\n",
       "        ServiceTime_category  Labour Total  Misc Total  OSL Total  \\\n",
       "153780                     7       3257.38      219.99        0.0   \n",
       "153781                     3       1245.04        0.00        0.0   \n",
       "153782                     8        167.94        0.00        0.0   \n",
       "153783                     7       4126.97      220.01        0.0   \n",
       "153784                     8          0.00        0.00        0.0   \n",
       "\n",
       "        Parts Total  Total Amt Wtd Tax.  Partner Type  Title  Order Quantity  \\\n",
       "153780         0.00             3477.37             1      1             2.0   \n",
       "153781      5625.91             6870.95             1      1             5.0   \n",
       "153782       399.86              567.80             1      1            32.0   \n",
       "153783         0.00             4346.98             1      1             2.0   \n",
       "153784         0.00                0.00             1      1            84.0   \n",
       "\n",
       "        Net value  \n",
       "153780    3477.37  \n",
       "153781    6870.95  \n",
       "153782     567.80  \n",
       "153783    4346.98  \n",
       "153784       0.00  "
      ]
     },
     "execution_count": 138,
     "metadata": {},
     "output_type": "execute_result"
    }
   ],
   "source": [
    "cluster_data.tail()"
   ]
  },
  {
   "cell_type": "code",
   "execution_count": 139,
   "metadata": {},
   "outputs": [
    {
     "data": {
      "text/plain": [
       "(153785, 16)"
      ]
     },
     "execution_count": 139,
     "metadata": {},
     "output_type": "execute_result"
    }
   ],
   "source": [
    "cluster_data.shape"
   ]
  },
  {
   "cell_type": "code",
   "execution_count": 140,
   "metadata": {},
   "outputs": [],
   "source": [
    "#Apply Clustering Algorthims\n",
    "from sklearn.cluster import KMeans"
   ]
  },
  {
   "cell_type": "code",
   "execution_count": 141,
   "metadata": {},
   "outputs": [],
   "source": [
    "dist=[]\n",
    "# Iterate from 1-9\n",
    "for i in range(1, 10):\n",
    "    # Initialize KMeans algorithm\n",
    "    km = KMeans(n_clusters=i, init='k-means++', n_init=10, max_iter=300, random_state=0)\n",
    "    # Fit on data\n",
    "    km.fit(cluster_data)\n",
    "    # Append WCSS to list storing WCSS\n",
    "    dist.append(km.inertia_)"
   ]
  },
  {
   "cell_type": "code",
   "execution_count": 142,
   "metadata": {},
   "outputs": [],
   "source": [
    "import matplotlib.pyplot as plt"
   ]
  },
  {
   "cell_type": "code",
   "execution_count": 143,
   "metadata": {},
   "outputs": [
    {
     "data": {
      "image/png": "[encoded data removed]",
      "text/plain": [
       "<Figure size 432x288 with 1 Axes>"
      ]
     },
     "metadata": {
      "needs_background": "light"
     },
     "output_type": "display_data"
    }
   ],
   "source": [
    "# Line plot # clusters on X-axis and WCSS on Y-axis \n",
    "plt.plot(range(1, 10), dist, 'bo-')\n",
    "plt.show()"
   ]
  },
  {
   "cell_type": "code",
   "execution_count": 144,
   "metadata": {},
   "outputs": [],
   "source": [
    "cluster  = KMeans(n_clusters=5, init='k-means++', max_iter=300, n_init=10, random_state=0)\n",
    "# create 'cluster' column\n",
    "cluster_data['cluster'] = cluster.fit_predict(cluster_data)"
   ]
  },
  {
   "cell_type": "code",
   "execution_count": 145,
   "metadata": {},
   "outputs": [],
   "source": [
    "# Cluster centers\n",
    "centroids = cluster.cluster_centers_"
   ]
  },
  {
   "cell_type": "code",
   "execution_count": 146,
   "metadata": {},
   "outputs": [],
   "source": [
    "# Within cluster sum of squares\n",
    "wcss = km.inertia_"
   ]
  },
  {
   "cell_type": "code",
   "execution_count": 147,
   "metadata": {},
   "outputs": [
    {
     "data": {
      "text/plain": [
       "array([[8.99968779e+00, 2.92785002e+00, 5.33409063e+01, 7.08343665e+02,\n",
       "        4.47430061e+00, 3.33307652e+02, 5.92782098e+00, 1.30497186e+03,\n",
       "        1.75663893e+02, 6.96191005e+01, 1.52621074e+03, 3.07646559e+03,\n",
       "        1.00000000e+00, 1.00000000e+00, 2.38693122e+02, 3.09968121e+03],\n",
       "       [8.79591837e+00, 7.68707483e-01, 1.25517007e+03, 7.66755102e+02,\n",
       "        4.53741497e+00, 2.68312925e+02, 5.89795918e+00, 7.95459225e+04,\n",
       "        1.22699051e+04, 1.08933124e+04, 2.31548731e+05, 3.34257871e+05,\n",
       "        1.00000000e+00, 1.00000000e+00, 1.83135518e+04, 3.80916834e+05],\n",
       "       [8.97836668e+00, 1.04218496e+00, 1.12269118e+03, 7.61930773e+02,\n",
       "        4.48080043e+00, 2.93975663e+02, 6.19415900e+00, 3.31798648e+04,\n",
       "        3.39730162e+03, 5.14550330e+03, 6.21856329e+04, 1.03908303e+05,\n",
       "        1.00000000e+00, 1.00000000e+00, 6.10190487e+03, 1.06612253e+05],\n",
       "       [6.00000000e+00, 8.00000000e-01, 2.15380000e+03, 7.72400000e+02,\n",
       "        5.80000000e+00, 1.98200000e+02, 2.00000000e+00, 4.87976244e+05,\n",
       "        1.21376096e+05, 1.89684060e+05, 5.50601350e+05, 1.34963775e+06,\n",
       "        1.00000000e+00, 1.00000000e+00, 1.12503950e+05, 1.93474984e+06],\n",
       "       [8.99445116e+00, 1.66329942e+00, 5.08318418e+02, 7.58753717e+02,\n",
       "        4.38969908e+00, 3.09052003e+02, 5.68023049e+00, 1.17705138e+04,\n",
       "        1.22637795e+03, 1.13518047e+03, 1.63690104e+04, 3.05010826e+04,\n",
       "        1.00000000e+00, 1.00000000e+00, 2.33270659e+03, 3.07272998e+04]])"
      ]
     },
     "execution_count": 147,
     "metadata": {},
     "output_type": "execute_result"
    }
   ],
   "source": [
    "centroids"
   ]
  },
  {
   "cell_type": "code",
   "execution_count": 148,
   "metadata": {},
   "outputs": [
    {
     "data": {
      "text/plain": [
       "22119165216199.5"
      ]
     },
     "execution_count": 148,
     "metadata": {},
     "output_type": "execute_result"
    }
   ],
   "source": [
    "wcss"
   ]
  },
  {
   "cell_type": "code",
   "execution_count": 149,
   "metadata": {},
   "outputs": [
    {
     "name": "stdout",
     "output_type": "stream",
     "text": [
      "0    9\n",
      "dtype: int32\n",
      "0    4\n",
      "dtype: int32\n",
      "   OSL Total  OSL Total\n",
      "0          0        0.0\n",
      "0    1112\n",
      "dtype: int32\n",
      "0    5\n",
      "dtype: int32\n",
      "0    113\n",
      "dtype: int32\n",
      "0    7\n",
      "dtype: int32\n",
      "0    0.0\n",
      "dtype: float64\n",
      "0    0.0\n",
      "dtype: float64\n",
      "   OSL Total  OSL Total\n",
      "0          0        0.0\n",
      "0    0.0\n",
      "dtype: float64\n",
      "0    0.0\n",
      "dtype: float64\n",
      "0    1\n",
      "dtype: int64\n",
      "0    1\n",
      "dtype: int64\n",
      "0    1.0\n",
      "dtype: float64\n",
      "0    0.0\n",
      "dtype: float64\n",
      "0    0\n",
      "dtype: int32\n"
     ]
    }
   ],
   "source": [
    "for col in cluster_data[cluster_data['cluster']==0].columns:\n",
    "  print(cluster_data[col].mode())"
   ]
  },
  {
   "cell_type": "code",
   "execution_count": 150,
   "metadata": {},
   "outputs": [
    {
     "data": {
      "text/html": [
       "<div>\n",
       "<style scoped>\n",
       "    .dataframe tbody tr th:only-of-type {\n",
       "        vertical-align: middle;\n",
       "    }\n",
       "\n",
       "    .dataframe tbody tr th {\n",
       "        vertical-align: top;\n",
       "    }\n",
       "\n",
       "    .dataframe thead th {\n",
       "        text-align: right;\n",
       "    }\n",
       "</style>\n",
       "<table border=\"1\" class=\"dataframe\">\n",
       "  <thead>\n",
       "    <tr style=\"text-align: right;\">\n",
       "      <th></th>\n",
       "      <th>Cust Type</th>\n",
       "      <th>Order Type</th>\n",
       "      <th>OSL Total</th>\n",
       "      <th>Model</th>\n",
       "      <th>Make</th>\n",
       "      <th>City</th>\n",
       "      <th>ServiceTime_category</th>\n",
       "      <th>Labour Total</th>\n",
       "      <th>Misc Total</th>\n",
       "      <th>OSL Total</th>\n",
       "      <th>Parts Total</th>\n",
       "      <th>Total Amt Wtd Tax.</th>\n",
       "      <th>Partner Type</th>\n",
       "      <th>Title</th>\n",
       "      <th>Order Quantity</th>\n",
       "      <th>Net value</th>\n",
       "      <th>cluster</th>\n",
       "    </tr>\n",
       "  </thead>\n",
       "  <tbody>\n",
       "    <tr>\n",
       "      <th>0</th>\n",
       "      <td>9</td>\n",
       "      <td>1</td>\n",
       "      <td>0</td>\n",
       "      <td>662</td>\n",
       "      <td>6</td>\n",
       "      <td>472</td>\n",
       "      <td>0</td>\n",
       "      <td>3429.34</td>\n",
       "      <td>0.0</td>\n",
       "      <td>0.0</td>\n",
       "      <td>834.41</td>\n",
       "      <td>4263.75</td>\n",
       "      <td>1</td>\n",
       "      <td>1</td>\n",
       "      <td>1208.2</td>\n",
       "      <td>4263.75</td>\n",
       "      <td>0</td>\n",
       "    </tr>\n",
       "    <tr>\n",
       "      <th>1</th>\n",
       "      <td>9</td>\n",
       "      <td>0</td>\n",
       "      <td>0</td>\n",
       "      <td>603</td>\n",
       "      <td>8</td>\n",
       "      <td>531</td>\n",
       "      <td>7</td>\n",
       "      <td>0.00</td>\n",
       "      <td>0.0</td>\n",
       "      <td>0.0</td>\n",
       "      <td>0.00</td>\n",
       "      <td>0.00</td>\n",
       "      <td>1</td>\n",
       "      <td>1</td>\n",
       "      <td>0.0</td>\n",
       "      <td>0.00</td>\n",
       "      <td>0</td>\n",
       "    </tr>\n",
       "    <tr>\n",
       "      <th>2</th>\n",
       "      <td>9</td>\n",
       "      <td>4</td>\n",
       "      <td>0</td>\n",
       "      <td>486</td>\n",
       "      <td>3</td>\n",
       "      <td>94</td>\n",
       "      <td>7</td>\n",
       "      <td>249.22</td>\n",
       "      <td>0.0</td>\n",
       "      <td>0.0</td>\n",
       "      <td>0.00</td>\n",
       "      <td>249.22</td>\n",
       "      <td>1</td>\n",
       "      <td>1</td>\n",
       "      <td>84.0</td>\n",
       "      <td>249.22</td>\n",
       "      <td>0</td>\n",
       "    </tr>\n",
       "    <tr>\n",
       "      <th>3</th>\n",
       "      <td>9</td>\n",
       "      <td>2</td>\n",
       "      <td>0</td>\n",
       "      <td>11</td>\n",
       "      <td>5</td>\n",
       "      <td>0</td>\n",
       "      <td>3</td>\n",
       "      <td>1223.71</td>\n",
       "      <td>0.0</td>\n",
       "      <td>0.0</td>\n",
       "      <td>0.00</td>\n",
       "      <td>1223.71</td>\n",
       "      <td>1</td>\n",
       "      <td>1</td>\n",
       "      <td>288.0</td>\n",
       "      <td>1223.71</td>\n",
       "      <td>0</td>\n",
       "    </tr>\n",
       "    <tr>\n",
       "      <th>4</th>\n",
       "      <td>9</td>\n",
       "      <td>3</td>\n",
       "      <td>0</td>\n",
       "      <td>1269</td>\n",
       "      <td>3</td>\n",
       "      <td>582</td>\n",
       "      <td>0</td>\n",
       "      <td>11031.37</td>\n",
       "      <td>0.0</td>\n",
       "      <td>0.0</td>\n",
       "      <td>35257.27</td>\n",
       "      <td>46288.64</td>\n",
       "      <td>1</td>\n",
       "      <td>1</td>\n",
       "      <td>478.0</td>\n",
       "      <td>46288.64</td>\n",
       "      <td>4</td>\n",
       "    </tr>\n",
       "  </tbody>\n",
       "</table>\n",
       "</div>"
      ],
      "text/plain": [
       "   Cust Type  Order Type  OSL Total  Model  Make  City  ServiceTime_category  \\\n",
       "0          9           1          0    662     6   472                     0   \n",
       "1          9           0          0    603     8   531                     7   \n",
       "2          9           4          0    486     3    94                     7   \n",
       "3          9           2          0     11     5     0                     3   \n",
       "4          9           3          0   1269     3   582                     0   \n",
       "\n",
       "   Labour Total  Misc Total  OSL Total  Parts Total  Total Amt Wtd Tax.  \\\n",
       "0       3429.34         0.0        0.0       834.41             4263.75   \n",
       "1          0.00         0.0        0.0         0.00                0.00   \n",
       "2        249.22         0.0        0.0         0.00              249.22   \n",
       "3       1223.71         0.0        0.0         0.00             1223.71   \n",
       "4      11031.37         0.0        0.0     35257.27            46288.64   \n",
       "\n",
       "   Partner Type  Title  Order Quantity  Net value  cluster  \n",
       "0             1      1          1208.2    4263.75        0  \n",
       "1             1      1             0.0       0.00        0  \n",
       "2             1      1            84.0     249.22        0  \n",
       "3             1      1           288.0    1223.71        0  \n",
       "4             1      1           478.0   46288.64        4  "
      ]
     },
     "execution_count": 150,
     "metadata": {},
     "output_type": "execute_result"
    }
   ],
   "source": [
    "cluster_data.head()"
   ]
  },
  {
   "cell_type": "code",
   "execution_count": 151,
   "metadata": {},
   "outputs": [],
   "source": [
    "cluster_data.to_csv('./Data/Cluster_from_SavioCode.csv', index=False)"
   ]
  },
  {
   "cell_type": "code",
   "execution_count": null,
   "metadata": {},
   "outputs": [],
   "source": []
  }
 ],
 "metadata": {
  "kernelspec": {
   "display_name": "Python 3",
   "language": "python",
   "name": "python3"
  },
  "language_info": {
   "codemirror_mode": {
    "name": "ipython",
    "version": 3
   },
   "file_extension": ".py",
   "mimetype": "text/x-python",
   "name": "python",
   "nbconvert_exporter": "python",
   "pygments_lexer": "ipython3",
   "version": "3.7.3"
  }
 },
 "nbformat": 4,
 "nbformat_minor": 4
}
